{
 "cells": [
  {
   "cell_type": "markdown",
   "metadata": {},
   "source": [
    "### Random Forest model validation"
   ]
  },
  {
   "cell_type": "code",
   "execution_count": 3,
   "metadata": {},
   "outputs": [],
   "source": [
    "library(raster)\n",
    "library(rgdal)\n",
    "setwd(\"~/RDemo/capstone/Sentinel2data\")\n",
    "img.classified <- raster(\"RF_classification2.tif\")"
   ]
  },
  {
   "cell_type": "code",
   "execution_count": 4,
   "metadata": {},
   "outputs": [],
   "source": [
    "samplesperclass <- 50\n",
    "smp.test <- sampleStratified(x = img.classified, \n",
    "                             size = samplesperclass, \n",
    "                             na.rm = TRUE, # exclude all NA values\n",
    "                             sp = TRUE)"
   ]
  },
  {
   "cell_type": "code",
   "execution_count": 5,
   "metadata": {},
   "outputs": [
    {
     "data": {
      "text/html": [
       "<ol class=list-inline>\n",
       "\t<li>1</li>\n",
       "\t<li>1</li>\n",
       "\t<li>1</li>\n",
       "\t<li>1</li>\n",
       "\t<li>1</li>\n",
       "\t<li>1</li>\n",
       "\t<li>1</li>\n",
       "\t<li>1</li>\n",
       "\t<li>1</li>\n",
       "\t<li>1</li>\n",
       "\t<li>1</li>\n",
       "\t<li>1</li>\n",
       "\t<li>1</li>\n",
       "\t<li>1</li>\n",
       "\t<li>1</li>\n",
       "\t<li>1</li>\n",
       "\t<li>1</li>\n",
       "\t<li>1</li>\n",
       "\t<li>1</li>\n",
       "\t<li>1</li>\n",
       "\t<li>1</li>\n",
       "\t<li>1</li>\n",
       "\t<li>1</li>\n",
       "\t<li>1</li>\n",
       "\t<li>1</li>\n",
       "\t<li>1</li>\n",
       "\t<li>1</li>\n",
       "\t<li>1</li>\n",
       "\t<li>1</li>\n",
       "\t<li>1</li>\n",
       "\t<li>1</li>\n",
       "\t<li>1</li>\n",
       "\t<li>1</li>\n",
       "\t<li>1</li>\n",
       "\t<li>1</li>\n",
       "\t<li>1</li>\n",
       "\t<li>1</li>\n",
       "\t<li>1</li>\n",
       "\t<li>1</li>\n",
       "\t<li>1</li>\n",
       "\t<li>1</li>\n",
       "\t<li>1</li>\n",
       "\t<li>1</li>\n",
       "\t<li>1</li>\n",
       "\t<li>1</li>\n",
       "\t<li>1</li>\n",
       "\t<li>1</li>\n",
       "\t<li>1</li>\n",
       "\t<li>1</li>\n",
       "\t<li>1</li>\n",
       "\t<li>2</li>\n",
       "\t<li>2</li>\n",
       "\t<li>2</li>\n",
       "\t<li>2</li>\n",
       "\t<li>2</li>\n",
       "\t<li>2</li>\n",
       "\t<li>2</li>\n",
       "\t<li>2</li>\n",
       "\t<li>2</li>\n",
       "\t<li>2</li>\n",
       "\t<li>2</li>\n",
       "\t<li>2</li>\n",
       "\t<li>2</li>\n",
       "\t<li>2</li>\n",
       "\t<li>2</li>\n",
       "\t<li>2</li>\n",
       "\t<li>2</li>\n",
       "\t<li>2</li>\n",
       "\t<li>2</li>\n",
       "\t<li>2</li>\n",
       "\t<li>2</li>\n",
       "\t<li>2</li>\n",
       "\t<li>2</li>\n",
       "\t<li>2</li>\n",
       "\t<li>2</li>\n",
       "\t<li>2</li>\n",
       "\t<li>2</li>\n",
       "\t<li>2</li>\n",
       "\t<li>2</li>\n",
       "\t<li>2</li>\n",
       "\t<li>2</li>\n",
       "\t<li>2</li>\n",
       "\t<li>2</li>\n",
       "\t<li>2</li>\n",
       "\t<li>2</li>\n",
       "\t<li>2</li>\n",
       "\t<li>2</li>\n",
       "\t<li>2</li>\n",
       "\t<li>2</li>\n",
       "\t<li>2</li>\n",
       "\t<li>2</li>\n",
       "\t<li>2</li>\n",
       "\t<li>2</li>\n",
       "\t<li>2</li>\n",
       "\t<li>2</li>\n",
       "\t<li>2</li>\n",
       "\t<li>2</li>\n",
       "\t<li>2</li>\n",
       "\t<li>2</li>\n",
       "\t<li>2</li>\n",
       "\t<li>3</li>\n",
       "\t<li>3</li>\n",
       "\t<li>3</li>\n",
       "\t<li>3</li>\n",
       "\t<li>3</li>\n",
       "\t<li>3</li>\n",
       "\t<li>3</li>\n",
       "\t<li>3</li>\n",
       "\t<li>3</li>\n",
       "\t<li>3</li>\n",
       "\t<li>3</li>\n",
       "\t<li>3</li>\n",
       "\t<li>3</li>\n",
       "\t<li>3</li>\n",
       "\t<li>3</li>\n",
       "\t<li>3</li>\n",
       "\t<li>3</li>\n",
       "\t<li>3</li>\n",
       "\t<li>3</li>\n",
       "\t<li>3</li>\n",
       "\t<li>3</li>\n",
       "\t<li>3</li>\n",
       "\t<li>3</li>\n",
       "\t<li>3</li>\n",
       "\t<li>3</li>\n",
       "\t<li>3</li>\n",
       "\t<li>3</li>\n",
       "\t<li>3</li>\n",
       "\t<li>3</li>\n",
       "\t<li>3</li>\n",
       "\t<li>3</li>\n",
       "\t<li>3</li>\n",
       "\t<li>3</li>\n",
       "\t<li>3</li>\n",
       "\t<li>3</li>\n",
       "\t<li>3</li>\n",
       "\t<li>3</li>\n",
       "\t<li>3</li>\n",
       "\t<li>3</li>\n",
       "\t<li>3</li>\n",
       "\t<li>3</li>\n",
       "\t<li>3</li>\n",
       "\t<li>3</li>\n",
       "\t<li>3</li>\n",
       "\t<li>3</li>\n",
       "\t<li>3</li>\n",
       "\t<li>3</li>\n",
       "\t<li>3</li>\n",
       "\t<li>3</li>\n",
       "\t<li>3</li>\n",
       "\t<li>4</li>\n",
       "\t<li>4</li>\n",
       "\t<li>4</li>\n",
       "\t<li>4</li>\n",
       "\t<li>4</li>\n",
       "\t<li>4</li>\n",
       "\t<li>4</li>\n",
       "\t<li>4</li>\n",
       "\t<li>4</li>\n",
       "\t<li>4</li>\n",
       "\t<li>4</li>\n",
       "\t<li>4</li>\n",
       "\t<li>4</li>\n",
       "\t<li>4</li>\n",
       "\t<li>4</li>\n",
       "\t<li>4</li>\n",
       "\t<li>4</li>\n",
       "\t<li>4</li>\n",
       "\t<li>4</li>\n",
       "\t<li>4</li>\n",
       "\t<li>4</li>\n",
       "\t<li>4</li>\n",
       "\t<li>4</li>\n",
       "\t<li>4</li>\n",
       "\t<li>4</li>\n",
       "\t<li>4</li>\n",
       "\t<li>4</li>\n",
       "\t<li>4</li>\n",
       "\t<li>4</li>\n",
       "\t<li>4</li>\n",
       "\t<li>4</li>\n",
       "\t<li>4</li>\n",
       "\t<li>4</li>\n",
       "\t<li>4</li>\n",
       "\t<li>4</li>\n",
       "\t<li>4</li>\n",
       "\t<li>4</li>\n",
       "\t<li>4</li>\n",
       "\t<li>4</li>\n",
       "\t<li>4</li>\n",
       "\t<li>4</li>\n",
       "\t<li>4</li>\n",
       "\t<li>4</li>\n",
       "\t<li>4</li>\n",
       "\t<li>4</li>\n",
       "\t<li>4</li>\n",
       "\t<li>4</li>\n",
       "\t<li>4</li>\n",
       "\t<li>4</li>\n",
       "\t<li>4</li>\n",
       "\t<li>5</li>\n",
       "\t<li>5</li>\n",
       "\t<li>5</li>\n",
       "\t<li>5</li>\n",
       "\t<li>5</li>\n",
       "\t<li>5</li>\n",
       "\t<li>5</li>\n",
       "\t<li>5</li>\n",
       "\t<li>5</li>\n",
       "\t<li>5</li>\n",
       "\t<li>5</li>\n",
       "\t<li>5</li>\n",
       "\t<li>5</li>\n",
       "\t<li>5</li>\n",
       "\t<li>5</li>\n",
       "\t<li>5</li>\n",
       "\t<li>5</li>\n",
       "\t<li>5</li>\n",
       "\t<li>5</li>\n",
       "\t<li>5</li>\n",
       "\t<li>5</li>\n",
       "\t<li>5</li>\n",
       "\t<li>5</li>\n",
       "\t<li>5</li>\n",
       "\t<li>5</li>\n",
       "\t<li>5</li>\n",
       "\t<li>5</li>\n",
       "\t<li>5</li>\n",
       "\t<li>5</li>\n",
       "\t<li>5</li>\n",
       "\t<li>5</li>\n",
       "\t<li>5</li>\n",
       "\t<li>5</li>\n",
       "\t<li>5</li>\n",
       "\t<li>5</li>\n",
       "\t<li>5</li>\n",
       "\t<li>5</li>\n",
       "\t<li>5</li>\n",
       "\t<li>5</li>\n",
       "\t<li>5</li>\n",
       "\t<li>5</li>\n",
       "\t<li>5</li>\n",
       "\t<li>5</li>\n",
       "\t<li>5</li>\n",
       "\t<li>5</li>\n",
       "\t<li>5</li>\n",
       "\t<li>5</li>\n",
       "\t<li>5</li>\n",
       "\t<li>5</li>\n",
       "\t<li>5</li>\n",
       "\t<li>6</li>\n",
       "\t<li>6</li>\n",
       "\t<li>6</li>\n",
       "\t<li>6</li>\n",
       "\t<li>6</li>\n",
       "\t<li>6</li>\n",
       "\t<li>6</li>\n",
       "\t<li>6</li>\n",
       "\t<li>6</li>\n",
       "\t<li>6</li>\n",
       "\t<li>6</li>\n",
       "\t<li>6</li>\n",
       "\t<li>6</li>\n",
       "\t<li>6</li>\n",
       "\t<li>6</li>\n",
       "\t<li>6</li>\n",
       "\t<li>6</li>\n",
       "\t<li>6</li>\n",
       "\t<li>6</li>\n",
       "\t<li>6</li>\n",
       "\t<li>6</li>\n",
       "\t<li>6</li>\n",
       "\t<li>6</li>\n",
       "\t<li>6</li>\n",
       "\t<li>6</li>\n",
       "\t<li>6</li>\n",
       "\t<li>6</li>\n",
       "\t<li>6</li>\n",
       "\t<li>6</li>\n",
       "\t<li>6</li>\n",
       "\t<li>6</li>\n",
       "\t<li>6</li>\n",
       "\t<li>6</li>\n",
       "\t<li>6</li>\n",
       "\t<li>6</li>\n",
       "\t<li>6</li>\n",
       "\t<li>6</li>\n",
       "\t<li>6</li>\n",
       "\t<li>6</li>\n",
       "\t<li>6</li>\n",
       "\t<li>6</li>\n",
       "\t<li>6</li>\n",
       "\t<li>6</li>\n",
       "\t<li>6</li>\n",
       "\t<li>6</li>\n",
       "\t<li>6</li>\n",
       "\t<li>6</li>\n",
       "\t<li>6</li>\n",
       "\t<li>6</li>\n",
       "\t<li>6</li>\n",
       "\t<li>7</li>\n",
       "\t<li>7</li>\n",
       "\t<li>7</li>\n",
       "\t<li>7</li>\n",
       "\t<li>7</li>\n",
       "\t<li>7</li>\n",
       "\t<li>7</li>\n",
       "\t<li>7</li>\n",
       "\t<li>7</li>\n",
       "\t<li>7</li>\n",
       "\t<li>7</li>\n",
       "\t<li>7</li>\n",
       "\t<li>7</li>\n",
       "\t<li>7</li>\n",
       "\t<li>7</li>\n",
       "\t<li>7</li>\n",
       "\t<li>7</li>\n",
       "\t<li>7</li>\n",
       "\t<li>7</li>\n",
       "\t<li>7</li>\n",
       "\t<li>7</li>\n",
       "\t<li>7</li>\n",
       "\t<li>7</li>\n",
       "\t<li>7</li>\n",
       "\t<li>7</li>\n",
       "\t<li>7</li>\n",
       "\t<li>7</li>\n",
       "\t<li>7</li>\n",
       "\t<li>7</li>\n",
       "\t<li>7</li>\n",
       "\t<li>7</li>\n",
       "\t<li>7</li>\n",
       "\t<li>7</li>\n",
       "\t<li>7</li>\n",
       "\t<li>7</li>\n",
       "\t<li>7</li>\n",
       "\t<li>7</li>\n",
       "\t<li>7</li>\n",
       "\t<li>7</li>\n",
       "\t<li>7</li>\n",
       "\t<li>7</li>\n",
       "\t<li>7</li>\n",
       "\t<li>7</li>\n",
       "\t<li>7</li>\n",
       "\t<li>7</li>\n",
       "\t<li>7</li>\n",
       "\t<li>7</li>\n",
       "\t<li>7</li>\n",
       "\t<li>7</li>\n",
       "\t<li>7</li>\n",
       "\t<li>8</li>\n",
       "\t<li>8</li>\n",
       "\t<li>8</li>\n",
       "\t<li>8</li>\n",
       "\t<li>8</li>\n",
       "\t<li>8</li>\n",
       "\t<li>8</li>\n",
       "\t<li>8</li>\n",
       "\t<li>8</li>\n",
       "\t<li>8</li>\n",
       "\t<li>8</li>\n",
       "\t<li>8</li>\n",
       "\t<li>8</li>\n",
       "\t<li>8</li>\n",
       "\t<li>8</li>\n",
       "\t<li>8</li>\n",
       "\t<li>8</li>\n",
       "\t<li>8</li>\n",
       "\t<li>8</li>\n",
       "\t<li>8</li>\n",
       "\t<li>8</li>\n",
       "\t<li>8</li>\n",
       "\t<li>8</li>\n",
       "\t<li>8</li>\n",
       "\t<li>8</li>\n",
       "\t<li>8</li>\n",
       "\t<li>8</li>\n",
       "\t<li>8</li>\n",
       "\t<li>8</li>\n",
       "\t<li>8</li>\n",
       "\t<li>8</li>\n",
       "\t<li>8</li>\n",
       "\t<li>8</li>\n",
       "\t<li>8</li>\n",
       "\t<li>8</li>\n",
       "\t<li>8</li>\n",
       "\t<li>8</li>\n",
       "\t<li>8</li>\n",
       "\t<li>8</li>\n",
       "\t<li>8</li>\n",
       "\t<li>8</li>\n",
       "\t<li>8</li>\n",
       "\t<li>8</li>\n",
       "\t<li>8</li>\n",
       "\t<li>8</li>\n",
       "\t<li>8</li>\n",
       "\t<li>8</li>\n",
       "\t<li>8</li>\n",
       "\t<li>8</li>\n",
       "\t<li>8</li>\n",
       "</ol>\n"
      ],
      "text/latex": [
       "\\begin{enumerate*}\n",
       "\\item 1\n",
       "\\item 1\n",
       "\\item 1\n",
       "\\item 1\n",
       "\\item 1\n",
       "\\item 1\n",
       "\\item 1\n",
       "\\item 1\n",
       "\\item 1\n",
       "\\item 1\n",
       "\\item 1\n",
       "\\item 1\n",
       "\\item 1\n",
       "\\item 1\n",
       "\\item 1\n",
       "\\item 1\n",
       "\\item 1\n",
       "\\item 1\n",
       "\\item 1\n",
       "\\item 1\n",
       "\\item 1\n",
       "\\item 1\n",
       "\\item 1\n",
       "\\item 1\n",
       "\\item 1\n",
       "\\item 1\n",
       "\\item 1\n",
       "\\item 1\n",
       "\\item 1\n",
       "\\item 1\n",
       "\\item 1\n",
       "\\item 1\n",
       "\\item 1\n",
       "\\item 1\n",
       "\\item 1\n",
       "\\item 1\n",
       "\\item 1\n",
       "\\item 1\n",
       "\\item 1\n",
       "\\item 1\n",
       "\\item 1\n",
       "\\item 1\n",
       "\\item 1\n",
       "\\item 1\n",
       "\\item 1\n",
       "\\item 1\n",
       "\\item 1\n",
       "\\item 1\n",
       "\\item 1\n",
       "\\item 1\n",
       "\\item 2\n",
       "\\item 2\n",
       "\\item 2\n",
       "\\item 2\n",
       "\\item 2\n",
       "\\item 2\n",
       "\\item 2\n",
       "\\item 2\n",
       "\\item 2\n",
       "\\item 2\n",
       "\\item 2\n",
       "\\item 2\n",
       "\\item 2\n",
       "\\item 2\n",
       "\\item 2\n",
       "\\item 2\n",
       "\\item 2\n",
       "\\item 2\n",
       "\\item 2\n",
       "\\item 2\n",
       "\\item 2\n",
       "\\item 2\n",
       "\\item 2\n",
       "\\item 2\n",
       "\\item 2\n",
       "\\item 2\n",
       "\\item 2\n",
       "\\item 2\n",
       "\\item 2\n",
       "\\item 2\n",
       "\\item 2\n",
       "\\item 2\n",
       "\\item 2\n",
       "\\item 2\n",
       "\\item 2\n",
       "\\item 2\n",
       "\\item 2\n",
       "\\item 2\n",
       "\\item 2\n",
       "\\item 2\n",
       "\\item 2\n",
       "\\item 2\n",
       "\\item 2\n",
       "\\item 2\n",
       "\\item 2\n",
       "\\item 2\n",
       "\\item 2\n",
       "\\item 2\n",
       "\\item 2\n",
       "\\item 2\n",
       "\\item 3\n",
       "\\item 3\n",
       "\\item 3\n",
       "\\item 3\n",
       "\\item 3\n",
       "\\item 3\n",
       "\\item 3\n",
       "\\item 3\n",
       "\\item 3\n",
       "\\item 3\n",
       "\\item 3\n",
       "\\item 3\n",
       "\\item 3\n",
       "\\item 3\n",
       "\\item 3\n",
       "\\item 3\n",
       "\\item 3\n",
       "\\item 3\n",
       "\\item 3\n",
       "\\item 3\n",
       "\\item 3\n",
       "\\item 3\n",
       "\\item 3\n",
       "\\item 3\n",
       "\\item 3\n",
       "\\item 3\n",
       "\\item 3\n",
       "\\item 3\n",
       "\\item 3\n",
       "\\item 3\n",
       "\\item 3\n",
       "\\item 3\n",
       "\\item 3\n",
       "\\item 3\n",
       "\\item 3\n",
       "\\item 3\n",
       "\\item 3\n",
       "\\item 3\n",
       "\\item 3\n",
       "\\item 3\n",
       "\\item 3\n",
       "\\item 3\n",
       "\\item 3\n",
       "\\item 3\n",
       "\\item 3\n",
       "\\item 3\n",
       "\\item 3\n",
       "\\item 3\n",
       "\\item 3\n",
       "\\item 3\n",
       "\\item 4\n",
       "\\item 4\n",
       "\\item 4\n",
       "\\item 4\n",
       "\\item 4\n",
       "\\item 4\n",
       "\\item 4\n",
       "\\item 4\n",
       "\\item 4\n",
       "\\item 4\n",
       "\\item 4\n",
       "\\item 4\n",
       "\\item 4\n",
       "\\item 4\n",
       "\\item 4\n",
       "\\item 4\n",
       "\\item 4\n",
       "\\item 4\n",
       "\\item 4\n",
       "\\item 4\n",
       "\\item 4\n",
       "\\item 4\n",
       "\\item 4\n",
       "\\item 4\n",
       "\\item 4\n",
       "\\item 4\n",
       "\\item 4\n",
       "\\item 4\n",
       "\\item 4\n",
       "\\item 4\n",
       "\\item 4\n",
       "\\item 4\n",
       "\\item 4\n",
       "\\item 4\n",
       "\\item 4\n",
       "\\item 4\n",
       "\\item 4\n",
       "\\item 4\n",
       "\\item 4\n",
       "\\item 4\n",
       "\\item 4\n",
       "\\item 4\n",
       "\\item 4\n",
       "\\item 4\n",
       "\\item 4\n",
       "\\item 4\n",
       "\\item 4\n",
       "\\item 4\n",
       "\\item 4\n",
       "\\item 4\n",
       "\\item 5\n",
       "\\item 5\n",
       "\\item 5\n",
       "\\item 5\n",
       "\\item 5\n",
       "\\item 5\n",
       "\\item 5\n",
       "\\item 5\n",
       "\\item 5\n",
       "\\item 5\n",
       "\\item 5\n",
       "\\item 5\n",
       "\\item 5\n",
       "\\item 5\n",
       "\\item 5\n",
       "\\item 5\n",
       "\\item 5\n",
       "\\item 5\n",
       "\\item 5\n",
       "\\item 5\n",
       "\\item 5\n",
       "\\item 5\n",
       "\\item 5\n",
       "\\item 5\n",
       "\\item 5\n",
       "\\item 5\n",
       "\\item 5\n",
       "\\item 5\n",
       "\\item 5\n",
       "\\item 5\n",
       "\\item 5\n",
       "\\item 5\n",
       "\\item 5\n",
       "\\item 5\n",
       "\\item 5\n",
       "\\item 5\n",
       "\\item 5\n",
       "\\item 5\n",
       "\\item 5\n",
       "\\item 5\n",
       "\\item 5\n",
       "\\item 5\n",
       "\\item 5\n",
       "\\item 5\n",
       "\\item 5\n",
       "\\item 5\n",
       "\\item 5\n",
       "\\item 5\n",
       "\\item 5\n",
       "\\item 5\n",
       "\\item 6\n",
       "\\item 6\n",
       "\\item 6\n",
       "\\item 6\n",
       "\\item 6\n",
       "\\item 6\n",
       "\\item 6\n",
       "\\item 6\n",
       "\\item 6\n",
       "\\item 6\n",
       "\\item 6\n",
       "\\item 6\n",
       "\\item 6\n",
       "\\item 6\n",
       "\\item 6\n",
       "\\item 6\n",
       "\\item 6\n",
       "\\item 6\n",
       "\\item 6\n",
       "\\item 6\n",
       "\\item 6\n",
       "\\item 6\n",
       "\\item 6\n",
       "\\item 6\n",
       "\\item 6\n",
       "\\item 6\n",
       "\\item 6\n",
       "\\item 6\n",
       "\\item 6\n",
       "\\item 6\n",
       "\\item 6\n",
       "\\item 6\n",
       "\\item 6\n",
       "\\item 6\n",
       "\\item 6\n",
       "\\item 6\n",
       "\\item 6\n",
       "\\item 6\n",
       "\\item 6\n",
       "\\item 6\n",
       "\\item 6\n",
       "\\item 6\n",
       "\\item 6\n",
       "\\item 6\n",
       "\\item 6\n",
       "\\item 6\n",
       "\\item 6\n",
       "\\item 6\n",
       "\\item 6\n",
       "\\item 6\n",
       "\\item 7\n",
       "\\item 7\n",
       "\\item 7\n",
       "\\item 7\n",
       "\\item 7\n",
       "\\item 7\n",
       "\\item 7\n",
       "\\item 7\n",
       "\\item 7\n",
       "\\item 7\n",
       "\\item 7\n",
       "\\item 7\n",
       "\\item 7\n",
       "\\item 7\n",
       "\\item 7\n",
       "\\item 7\n",
       "\\item 7\n",
       "\\item 7\n",
       "\\item 7\n",
       "\\item 7\n",
       "\\item 7\n",
       "\\item 7\n",
       "\\item 7\n",
       "\\item 7\n",
       "\\item 7\n",
       "\\item 7\n",
       "\\item 7\n",
       "\\item 7\n",
       "\\item 7\n",
       "\\item 7\n",
       "\\item 7\n",
       "\\item 7\n",
       "\\item 7\n",
       "\\item 7\n",
       "\\item 7\n",
       "\\item 7\n",
       "\\item 7\n",
       "\\item 7\n",
       "\\item 7\n",
       "\\item 7\n",
       "\\item 7\n",
       "\\item 7\n",
       "\\item 7\n",
       "\\item 7\n",
       "\\item 7\n",
       "\\item 7\n",
       "\\item 7\n",
       "\\item 7\n",
       "\\item 7\n",
       "\\item 7\n",
       "\\item 8\n",
       "\\item 8\n",
       "\\item 8\n",
       "\\item 8\n",
       "\\item 8\n",
       "\\item 8\n",
       "\\item 8\n",
       "\\item 8\n",
       "\\item 8\n",
       "\\item 8\n",
       "\\item 8\n",
       "\\item 8\n",
       "\\item 8\n",
       "\\item 8\n",
       "\\item 8\n",
       "\\item 8\n",
       "\\item 8\n",
       "\\item 8\n",
       "\\item 8\n",
       "\\item 8\n",
       "\\item 8\n",
       "\\item 8\n",
       "\\item 8\n",
       "\\item 8\n",
       "\\item 8\n",
       "\\item 8\n",
       "\\item 8\n",
       "\\item 8\n",
       "\\item 8\n",
       "\\item 8\n",
       "\\item 8\n",
       "\\item 8\n",
       "\\item 8\n",
       "\\item 8\n",
       "\\item 8\n",
       "\\item 8\n",
       "\\item 8\n",
       "\\item 8\n",
       "\\item 8\n",
       "\\item 8\n",
       "\\item 8\n",
       "\\item 8\n",
       "\\item 8\n",
       "\\item 8\n",
       "\\item 8\n",
       "\\item 8\n",
       "\\item 8\n",
       "\\item 8\n",
       "\\item 8\n",
       "\\item 8\n",
       "\\end{enumerate*}\n"
      ],
      "text/markdown": [
       "1. 1\n",
       "2. 1\n",
       "3. 1\n",
       "4. 1\n",
       "5. 1\n",
       "6. 1\n",
       "7. 1\n",
       "8. 1\n",
       "9. 1\n",
       "10. 1\n",
       "11. 1\n",
       "12. 1\n",
       "13. 1\n",
       "14. 1\n",
       "15. 1\n",
       "16. 1\n",
       "17. 1\n",
       "18. 1\n",
       "19. 1\n",
       "20. 1\n",
       "21. 1\n",
       "22. 1\n",
       "23. 1\n",
       "24. 1\n",
       "25. 1\n",
       "26. 1\n",
       "27. 1\n",
       "28. 1\n",
       "29. 1\n",
       "30. 1\n",
       "31. 1\n",
       "32. 1\n",
       "33. 1\n",
       "34. 1\n",
       "35. 1\n",
       "36. 1\n",
       "37. 1\n",
       "38. 1\n",
       "39. 1\n",
       "40. 1\n",
       "41. 1\n",
       "42. 1\n",
       "43. 1\n",
       "44. 1\n",
       "45. 1\n",
       "46. 1\n",
       "47. 1\n",
       "48. 1\n",
       "49. 1\n",
       "50. 1\n",
       "51. 2\n",
       "52. 2\n",
       "53. 2\n",
       "54. 2\n",
       "55. 2\n",
       "56. 2\n",
       "57. 2\n",
       "58. 2\n",
       "59. 2\n",
       "60. 2\n",
       "61. 2\n",
       "62. 2\n",
       "63. 2\n",
       "64. 2\n",
       "65. 2\n",
       "66. 2\n",
       "67. 2\n",
       "68. 2\n",
       "69. 2\n",
       "70. 2\n",
       "71. 2\n",
       "72. 2\n",
       "73. 2\n",
       "74. 2\n",
       "75. 2\n",
       "76. 2\n",
       "77. 2\n",
       "78. 2\n",
       "79. 2\n",
       "80. 2\n",
       "81. 2\n",
       "82. 2\n",
       "83. 2\n",
       "84. 2\n",
       "85. 2\n",
       "86. 2\n",
       "87. 2\n",
       "88. 2\n",
       "89. 2\n",
       "90. 2\n",
       "91. 2\n",
       "92. 2\n",
       "93. 2\n",
       "94. 2\n",
       "95. 2\n",
       "96. 2\n",
       "97. 2\n",
       "98. 2\n",
       "99. 2\n",
       "100. 2\n",
       "101. 3\n",
       "102. 3\n",
       "103. 3\n",
       "104. 3\n",
       "105. 3\n",
       "106. 3\n",
       "107. 3\n",
       "108. 3\n",
       "109. 3\n",
       "110. 3\n",
       "111. 3\n",
       "112. 3\n",
       "113. 3\n",
       "114. 3\n",
       "115. 3\n",
       "116. 3\n",
       "117. 3\n",
       "118. 3\n",
       "119. 3\n",
       "120. 3\n",
       "121. 3\n",
       "122. 3\n",
       "123. 3\n",
       "124. 3\n",
       "125. 3\n",
       "126. 3\n",
       "127. 3\n",
       "128. 3\n",
       "129. 3\n",
       "130. 3\n",
       "131. 3\n",
       "132. 3\n",
       "133. 3\n",
       "134. 3\n",
       "135. 3\n",
       "136. 3\n",
       "137. 3\n",
       "138. 3\n",
       "139. 3\n",
       "140. 3\n",
       "141. 3\n",
       "142. 3\n",
       "143. 3\n",
       "144. 3\n",
       "145. 3\n",
       "146. 3\n",
       "147. 3\n",
       "148. 3\n",
       "149. 3\n",
       "150. 3\n",
       "151. 4\n",
       "152. 4\n",
       "153. 4\n",
       "154. 4\n",
       "155. 4\n",
       "156. 4\n",
       "157. 4\n",
       "158. 4\n",
       "159. 4\n",
       "160. 4\n",
       "161. 4\n",
       "162. 4\n",
       "163. 4\n",
       "164. 4\n",
       "165. 4\n",
       "166. 4\n",
       "167. 4\n",
       "168. 4\n",
       "169. 4\n",
       "170. 4\n",
       "171. 4\n",
       "172. 4\n",
       "173. 4\n",
       "174. 4\n",
       "175. 4\n",
       "176. 4\n",
       "177. 4\n",
       "178. 4\n",
       "179. 4\n",
       "180. 4\n",
       "181. 4\n",
       "182. 4\n",
       "183. 4\n",
       "184. 4\n",
       "185. 4\n",
       "186. 4\n",
       "187. 4\n",
       "188. 4\n",
       "189. 4\n",
       "190. 4\n",
       "191. 4\n",
       "192. 4\n",
       "193. 4\n",
       "194. 4\n",
       "195. 4\n",
       "196. 4\n",
       "197. 4\n",
       "198. 4\n",
       "199. 4\n",
       "200. 4\n",
       "201. 5\n",
       "202. 5\n",
       "203. 5\n",
       "204. 5\n",
       "205. 5\n",
       "206. 5\n",
       "207. 5\n",
       "208. 5\n",
       "209. 5\n",
       "210. 5\n",
       "211. 5\n",
       "212. 5\n",
       "213. 5\n",
       "214. 5\n",
       "215. 5\n",
       "216. 5\n",
       "217. 5\n",
       "218. 5\n",
       "219. 5\n",
       "220. 5\n",
       "221. 5\n",
       "222. 5\n",
       "223. 5\n",
       "224. 5\n",
       "225. 5\n",
       "226. 5\n",
       "227. 5\n",
       "228. 5\n",
       "229. 5\n",
       "230. 5\n",
       "231. 5\n",
       "232. 5\n",
       "233. 5\n",
       "234. 5\n",
       "235. 5\n",
       "236. 5\n",
       "237. 5\n",
       "238. 5\n",
       "239. 5\n",
       "240. 5\n",
       "241. 5\n",
       "242. 5\n",
       "243. 5\n",
       "244. 5\n",
       "245. 5\n",
       "246. 5\n",
       "247. 5\n",
       "248. 5\n",
       "249. 5\n",
       "250. 5\n",
       "251. 6\n",
       "252. 6\n",
       "253. 6\n",
       "254. 6\n",
       "255. 6\n",
       "256. 6\n",
       "257. 6\n",
       "258. 6\n",
       "259. 6\n",
       "260. 6\n",
       "261. 6\n",
       "262. 6\n",
       "263. 6\n",
       "264. 6\n",
       "265. 6\n",
       "266. 6\n",
       "267. 6\n",
       "268. 6\n",
       "269. 6\n",
       "270. 6\n",
       "271. 6\n",
       "272. 6\n",
       "273. 6\n",
       "274. 6\n",
       "275. 6\n",
       "276. 6\n",
       "277. 6\n",
       "278. 6\n",
       "279. 6\n",
       "280. 6\n",
       "281. 6\n",
       "282. 6\n",
       "283. 6\n",
       "284. 6\n",
       "285. 6\n",
       "286. 6\n",
       "287. 6\n",
       "288. 6\n",
       "289. 6\n",
       "290. 6\n",
       "291. 6\n",
       "292. 6\n",
       "293. 6\n",
       "294. 6\n",
       "295. 6\n",
       "296. 6\n",
       "297. 6\n",
       "298. 6\n",
       "299. 6\n",
       "300. 6\n",
       "301. 7\n",
       "302. 7\n",
       "303. 7\n",
       "304. 7\n",
       "305. 7\n",
       "306. 7\n",
       "307. 7\n",
       "308. 7\n",
       "309. 7\n",
       "310. 7\n",
       "311. 7\n",
       "312. 7\n",
       "313. 7\n",
       "314. 7\n",
       "315. 7\n",
       "316. 7\n",
       "317. 7\n",
       "318. 7\n",
       "319. 7\n",
       "320. 7\n",
       "321. 7\n",
       "322. 7\n",
       "323. 7\n",
       "324. 7\n",
       "325. 7\n",
       "326. 7\n",
       "327. 7\n",
       "328. 7\n",
       "329. 7\n",
       "330. 7\n",
       "331. 7\n",
       "332. 7\n",
       "333. 7\n",
       "334. 7\n",
       "335. 7\n",
       "336. 7\n",
       "337. 7\n",
       "338. 7\n",
       "339. 7\n",
       "340. 7\n",
       "341. 7\n",
       "342. 7\n",
       "343. 7\n",
       "344. 7\n",
       "345. 7\n",
       "346. 7\n",
       "347. 7\n",
       "348. 7\n",
       "349. 7\n",
       "350. 7\n",
       "351. 8\n",
       "352. 8\n",
       "353. 8\n",
       "354. 8\n",
       "355. 8\n",
       "356. 8\n",
       "357. 8\n",
       "358. 8\n",
       "359. 8\n",
       "360. 8\n",
       "361. 8\n",
       "362. 8\n",
       "363. 8\n",
       "364. 8\n",
       "365. 8\n",
       "366. 8\n",
       "367. 8\n",
       "368. 8\n",
       "369. 8\n",
       "370. 8\n",
       "371. 8\n",
       "372. 8\n",
       "373. 8\n",
       "374. 8\n",
       "375. 8\n",
       "376. 8\n",
       "377. 8\n",
       "378. 8\n",
       "379. 8\n",
       "380. 8\n",
       "381. 8\n",
       "382. 8\n",
       "383. 8\n",
       "384. 8\n",
       "385. 8\n",
       "386. 8\n",
       "387. 8\n",
       "388. 8\n",
       "389. 8\n",
       "390. 8\n",
       "391. 8\n",
       "392. 8\n",
       "393. 8\n",
       "394. 8\n",
       "395. 8\n",
       "396. 8\n",
       "397. 8\n",
       "398. 8\n",
       "399. 8\n",
       "400. 8\n",
       "\n",
       "\n"
      ],
      "text/plain": [
       "  [1] 1 1 1 1 1 1 1 1 1 1 1 1 1 1 1 1 1 1 1 1 1 1 1 1 1 1 1 1 1 1 1 1 1 1 1 1 1\n",
       " [38] 1 1 1 1 1 1 1 1 1 1 1 1 1 2 2 2 2 2 2 2 2 2 2 2 2 2 2 2 2 2 2 2 2 2 2 2 2\n",
       " [75] 2 2 2 2 2 2 2 2 2 2 2 2 2 2 2 2 2 2 2 2 2 2 2 2 2 2 3 3 3 3 3 3 3 3 3 3 3\n",
       "[112] 3 3 3 3 3 3 3 3 3 3 3 3 3 3 3 3 3 3 3 3 3 3 3 3 3 3 3 3 3 3 3 3 3 3 3 3 3\n",
       "[149] 3 3 4 4 4 4 4 4 4 4 4 4 4 4 4 4 4 4 4 4 4 4 4 4 4 4 4 4 4 4 4 4 4 4 4 4 4\n",
       "[186] 4 4 4 4 4 4 4 4 4 4 4 4 4 4 4 5 5 5 5 5 5 5 5 5 5 5 5 5 5 5 5 5 5 5 5 5 5\n",
       "[223] 5 5 5 5 5 5 5 5 5 5 5 5 5 5 5 5 5 5 5 5 5 5 5 5 5 5 5 5 6 6 6 6 6 6 6 6 6\n",
       "[260] 6 6 6 6 6 6 6 6 6 6 6 6 6 6 6 6 6 6 6 6 6 6 6 6 6 6 6 6 6 6 6 6 6 6 6 6 6\n",
       "[297] 6 6 6 6 7 7 7 7 7 7 7 7 7 7 7 7 7 7 7 7 7 7 7 7 7 7 7 7 7 7 7 7 7 7 7 7 7\n",
       "[334] 7 7 7 7 7 7 7 7 7 7 7 7 7 7 7 7 7 8 8 8 8 8 8 8 8 8 8 8 8 8 8 8 8 8 8 8 8\n",
       "[371] 8 8 8 8 8 8 8 8 8 8 8 8 8 8 8 8 8 8 8 8 8 8 8 8 8 8 8 8 8 8"
      ]
     },
     "metadata": {},
     "output_type": "display_data"
    },
    {
     "data": {
      "text/html": [
       "<ol class=list-inline>\n",
       "\t<li>2</li>\n",
       "\t<li>7</li>\n",
       "\t<li>4</li>\n",
       "\t<li>2</li>\n",
       "\t<li>6</li>\n",
       "\t<li>5</li>\n",
       "\t<li>5</li>\n",
       "\t<li>1</li>\n",
       "\t<li>8</li>\n",
       "\t<li>8</li>\n",
       "\t<li>7</li>\n",
       "\t<li>6</li>\n",
       "\t<li>7</li>\n",
       "\t<li>2</li>\n",
       "\t<li>8</li>\n",
       "\t<li>7</li>\n",
       "\t<li>4</li>\n",
       "\t<li>6</li>\n",
       "\t<li>1</li>\n",
       "\t<li>2</li>\n",
       "\t<li>7</li>\n",
       "\t<li>6</li>\n",
       "\t<li>6</li>\n",
       "\t<li>3</li>\n",
       "\t<li>6</li>\n",
       "\t<li>1</li>\n",
       "\t<li>7</li>\n",
       "\t<li>3</li>\n",
       "\t<li>4</li>\n",
       "\t<li>4</li>\n",
       "\t<li>2</li>\n",
       "\t<li>1</li>\n",
       "\t<li>4</li>\n",
       "\t<li>3</li>\n",
       "\t<li>1</li>\n",
       "\t<li>7</li>\n",
       "\t<li>2</li>\n",
       "\t<li>3</li>\n",
       "\t<li>3</li>\n",
       "\t<li>1</li>\n",
       "\t<li>7</li>\n",
       "\t<li>4</li>\n",
       "\t<li>2</li>\n",
       "\t<li>2</li>\n",
       "\t<li>1</li>\n",
       "\t<li>7</li>\n",
       "\t<li>2</li>\n",
       "\t<li>5</li>\n",
       "\t<li>4</li>\n",
       "\t<li>1</li>\n",
       "\t<li>1</li>\n",
       "\t<li>8</li>\n",
       "\t<li>1</li>\n",
       "\t<li>7</li>\n",
       "\t<li>2</li>\n",
       "\t<li>7</li>\n",
       "\t<li>7</li>\n",
       "\t<li>3</li>\n",
       "\t<li>4</li>\n",
       "\t<li>1</li>\n",
       "\t<li>3</li>\n",
       "\t<li>4</li>\n",
       "\t<li>2</li>\n",
       "\t<li>3</li>\n",
       "\t<li>7</li>\n",
       "\t<li>3</li>\n",
       "\t<li>8</li>\n",
       "\t<li>4</li>\n",
       "\t<li>7</li>\n",
       "\t<li>8</li>\n",
       "\t<li>7</li>\n",
       "\t<li>1</li>\n",
       "\t<li>7</li>\n",
       "\t<li>8</li>\n",
       "\t<li>8</li>\n",
       "\t<li>3</li>\n",
       "\t<li>3</li>\n",
       "\t<li>8</li>\n",
       "\t<li>5</li>\n",
       "\t<li>3</li>\n",
       "\t<li>5</li>\n",
       "\t<li>7</li>\n",
       "\t<li>4</li>\n",
       "\t<li>6</li>\n",
       "\t<li>1</li>\n",
       "\t<li>4</li>\n",
       "\t<li>4</li>\n",
       "\t<li>8</li>\n",
       "\t<li>7</li>\n",
       "\t<li>2</li>\n",
       "\t<li>2</li>\n",
       "\t<li>8</li>\n",
       "\t<li>6</li>\n",
       "\t<li>8</li>\n",
       "\t<li>6</li>\n",
       "\t<li>3</li>\n",
       "\t<li>8</li>\n",
       "\t<li>2</li>\n",
       "\t<li>8</li>\n",
       "\t<li>5</li>\n",
       "\t<li>4</li>\n",
       "\t<li>6</li>\n",
       "\t<li>7</li>\n",
       "\t<li>1</li>\n",
       "\t<li>1</li>\n",
       "\t<li>6</li>\n",
       "\t<li>3</li>\n",
       "\t<li>1</li>\n",
       "\t<li>1</li>\n",
       "\t<li>2</li>\n",
       "\t<li>2</li>\n",
       "\t<li>8</li>\n",
       "\t<li>3</li>\n",
       "\t<li>5</li>\n",
       "\t<li>5</li>\n",
       "\t<li>2</li>\n",
       "\t<li>8</li>\n",
       "\t<li>5</li>\n",
       "\t<li>2</li>\n",
       "\t<li>2</li>\n",
       "\t<li>3</li>\n",
       "\t<li>5</li>\n",
       "\t<li>8</li>\n",
       "\t<li>1</li>\n",
       "\t<li>2</li>\n",
       "\t<li>2</li>\n",
       "\t<li>6</li>\n",
       "\t<li>4</li>\n",
       "\t<li>5</li>\n",
       "\t<li>8</li>\n",
       "\t<li>3</li>\n",
       "\t<li>1</li>\n",
       "\t<li>2</li>\n",
       "\t<li>3</li>\n",
       "\t<li>8</li>\n",
       "\t<li>2</li>\n",
       "\t<li>2</li>\n",
       "\t<li>6</li>\n",
       "\t<li>1</li>\n",
       "\t<li>5</li>\n",
       "\t<li>2</li>\n",
       "\t<li>8</li>\n",
       "\t<li>5</li>\n",
       "\t<li>6</li>\n",
       "\t<li>1</li>\n",
       "\t<li>8</li>\n",
       "\t<li>7</li>\n",
       "\t<li>4</li>\n",
       "\t<li>8</li>\n",
       "\t<li>8</li>\n",
       "\t<li>1</li>\n",
       "\t<li>6</li>\n",
       "\t<li>7</li>\n",
       "\t<li>6</li>\n",
       "\t<li>3</li>\n",
       "\t<li>6</li>\n",
       "\t<li>6</li>\n",
       "\t<li>4</li>\n",
       "\t<li>2</li>\n",
       "\t<li>4</li>\n",
       "\t<li>2</li>\n",
       "\t<li>3</li>\n",
       "\t<li>3</li>\n",
       "\t<li>5</li>\n",
       "\t<li>4</li>\n",
       "\t<li>4</li>\n",
       "\t<li>8</li>\n",
       "\t<li>2</li>\n",
       "\t<li>5</li>\n",
       "\t<li>6</li>\n",
       "\t<li>3</li>\n",
       "\t<li>2</li>\n",
       "\t<li>1</li>\n",
       "\t<li>3</li>\n",
       "\t<li>5</li>\n",
       "\t<li>7</li>\n",
       "\t<li>5</li>\n",
       "\t<li>4</li>\n",
       "\t<li>8</li>\n",
       "\t<li>8</li>\n",
       "\t<li>4</li>\n",
       "\t<li>7</li>\n",
       "\t<li>6</li>\n",
       "\t<li>4</li>\n",
       "\t<li>6</li>\n",
       "\t<li>7</li>\n",
       "\t<li>8</li>\n",
       "\t<li>7</li>\n",
       "\t<li>3</li>\n",
       "\t<li>2</li>\n",
       "\t<li>3</li>\n",
       "\t<li>8</li>\n",
       "\t<li>8</li>\n",
       "\t<li>5</li>\n",
       "\t<li>7</li>\n",
       "\t<li>7</li>\n",
       "\t<li>5</li>\n",
       "\t<li>8</li>\n",
       "\t<li>4</li>\n",
       "\t<li>7</li>\n",
       "\t<li>7</li>\n",
       "\t<li>4</li>\n",
       "\t<li>1</li>\n",
       "\t<li>4</li>\n",
       "\t<li>5</li>\n",
       "\t<li>2</li>\n",
       "\t<li>5</li>\n",
       "\t<li>4</li>\n",
       "\t<li>2</li>\n",
       "\t<li>8</li>\n",
       "\t<li>5</li>\n",
       "\t<li>2</li>\n",
       "\t<li>5</li>\n",
       "\t<li>2</li>\n",
       "\t<li>8</li>\n",
       "\t<li>2</li>\n",
       "\t<li>8</li>\n",
       "\t<li>4</li>\n",
       "\t<li>4</li>\n",
       "\t<li>3</li>\n",
       "\t<li>6</li>\n",
       "\t<li>3</li>\n",
       "\t<li>4</li>\n",
       "\t<li>3</li>\n",
       "\t<li>6</li>\n",
       "\t<li>6</li>\n",
       "\t<li>5</li>\n",
       "\t<li>1</li>\n",
       "\t<li>6</li>\n",
       "\t<li>3</li>\n",
       "\t<li>5</li>\n",
       "\t<li>7</li>\n",
       "\t<li>6</li>\n",
       "\t<li>8</li>\n",
       "\t<li>2</li>\n",
       "\t<li>1</li>\n",
       "\t<li>4</li>\n",
       "\t<li>2</li>\n",
       "\t<li>4</li>\n",
       "\t<li>8</li>\n",
       "\t<li>8</li>\n",
       "\t<li>3</li>\n",
       "\t<li>5</li>\n",
       "\t<li>1</li>\n",
       "\t<li>6</li>\n",
       "\t<li>2</li>\n",
       "\t<li>7</li>\n",
       "\t<li>4</li>\n",
       "\t<li>4</li>\n",
       "\t<li>2</li>\n",
       "\t<li>6</li>\n",
       "\t<li>1</li>\n",
       "\t<li>3</li>\n",
       "\t<li>7</li>\n",
       "\t<li>1</li>\n",
       "\t<li>8</li>\n",
       "\t<li>1</li>\n",
       "\t<li>2</li>\n",
       "\t<li>3</li>\n",
       "\t<li>6</li>\n",
       "\t<li>8</li>\n",
       "\t<li>7</li>\n",
       "\t<li>4</li>\n",
       "\t<li>6</li>\n",
       "\t<li>5</li>\n",
       "\t<li>2</li>\n",
       "\t<li>7</li>\n",
       "\t<li>5</li>\n",
       "\t<li>7</li>\n",
       "\t<li>1</li>\n",
       "\t<li>2</li>\n",
       "\t<li>5</li>\n",
       "\t<li>5</li>\n",
       "\t<li>6</li>\n",
       "\t<li>3</li>\n",
       "\t<li>6</li>\n",
       "\t<li>8</li>\n",
       "\t<li>4</li>\n",
       "\t<li>3</li>\n",
       "\t<li>2</li>\n",
       "\t<li>8</li>\n",
       "\t<li>3</li>\n",
       "\t<li>3</li>\n",
       "\t<li>4</li>\n",
       "\t<li>7</li>\n",
       "\t<li>5</li>\n",
       "\t<li>6</li>\n",
       "\t<li>3</li>\n",
       "\t<li>5</li>\n",
       "\t<li>3</li>\n",
       "\t<li>3</li>\n",
       "\t<li>1</li>\n",
       "\t<li>2</li>\n",
       "\t<li>7</li>\n",
       "\t<li>4</li>\n",
       "\t<li>3</li>\n",
       "\t<li>4</li>\n",
       "\t<li>5</li>\n",
       "\t<li>6</li>\n",
       "\t<li>2</li>\n",
       "\t<li>4</li>\n",
       "\t<li>5</li>\n",
       "\t<li>8</li>\n",
       "\t<li>1</li>\n",
       "\t<li>7</li>\n",
       "\t<li>6</li>\n",
       "\t<li>8</li>\n",
       "\t<li>1</li>\n",
       "\t<li>5</li>\n",
       "\t<li>2</li>\n",
       "\t<li>5</li>\n",
       "\t<li>4</li>\n",
       "\t<li>7</li>\n",
       "\t<li>1</li>\n",
       "\t<li>4</li>\n",
       "\t<li>6</li>\n",
       "\t<li>1</li>\n",
       "\t<li>4</li>\n",
       "\t<li>2</li>\n",
       "\t<li>8</li>\n",
       "\t<li>1</li>\n",
       "\t<li>6</li>\n",
       "\t<li>1</li>\n",
       "\t<li>4</li>\n",
       "\t<li>7</li>\n",
       "\t<li>1</li>\n",
       "\t<li>5</li>\n",
       "\t<li>3</li>\n",
       "\t<li>4</li>\n",
       "\t<li>7</li>\n",
       "\t<li>8</li>\n",
       "\t<li>4</li>\n",
       "\t<li>7</li>\n",
       "\t<li>3</li>\n",
       "\t<li>5</li>\n",
       "\t<li>3</li>\n",
       "\t<li>7</li>\n",
       "\t<li>4</li>\n",
       "\t<li>5</li>\n",
       "\t<li>3</li>\n",
       "\t<li>2</li>\n",
       "\t<li>6</li>\n",
       "\t<li>8</li>\n",
       "\t<li>1</li>\n",
       "\t<li>5</li>\n",
       "\t<li>3</li>\n",
       "\t<li>5</li>\n",
       "\t<li>2</li>\n",
       "\t<li>5</li>\n",
       "\t<li>5</li>\n",
       "\t<li>6</li>\n",
       "\t<li>1</li>\n",
       "\t<li>2</li>\n",
       "\t<li>1</li>\n",
       "\t<li>1</li>\n",
       "\t<li>3</li>\n",
       "\t<li>7</li>\n",
       "\t<li>5</li>\n",
       "\t<li>7</li>\n",
       "\t<li>6</li>\n",
       "\t<li>5</li>\n",
       "\t<li>8</li>\n",
       "\t<li>3</li>\n",
       "\t<li>6</li>\n",
       "\t<li>8</li>\n",
       "\t<li>1</li>\n",
       "\t<li>4</li>\n",
       "\t<li>6</li>\n",
       "\t<li>5</li>\n",
       "\t<li>7</li>\n",
       "\t<li>6</li>\n",
       "\t<li>1</li>\n",
       "\t<li>1</li>\n",
       "\t<li>3</li>\n",
       "\t<li>8</li>\n",
       "\t<li>5</li>\n",
       "\t<li>6</li>\n",
       "\t<li>1</li>\n",
       "\t<li>7</li>\n",
       "\t<li>4</li>\n",
       "\t<li>6</li>\n",
       "\t<li>7</li>\n",
       "\t<li>1</li>\n",
       "\t<li>7</li>\n",
       "\t<li>4</li>\n",
       "\t<li>6</li>\n",
       "\t<li>8</li>\n",
       "\t<li>6</li>\n",
       "\t<li>6</li>\n",
       "\t<li>8</li>\n",
       "\t<li>1</li>\n",
       "\t<li>6</li>\n",
       "\t<li>6</li>\n",
       "\t<li>5</li>\n",
       "\t<li>3</li>\n",
       "\t<li>5</li>\n",
       "\t<li>3</li>\n",
       "\t<li>7</li>\n",
       "\t<li>5</li>\n",
       "\t<li>1</li>\n",
       "</ol>\n"
      ],
      "text/latex": [
       "\\begin{enumerate*}\n",
       "\\item 2\n",
       "\\item 7\n",
       "\\item 4\n",
       "\\item 2\n",
       "\\item 6\n",
       "\\item 5\n",
       "\\item 5\n",
       "\\item 1\n",
       "\\item 8\n",
       "\\item 8\n",
       "\\item 7\n",
       "\\item 6\n",
       "\\item 7\n",
       "\\item 2\n",
       "\\item 8\n",
       "\\item 7\n",
       "\\item 4\n",
       "\\item 6\n",
       "\\item 1\n",
       "\\item 2\n",
       "\\item 7\n",
       "\\item 6\n",
       "\\item 6\n",
       "\\item 3\n",
       "\\item 6\n",
       "\\item 1\n",
       "\\item 7\n",
       "\\item 3\n",
       "\\item 4\n",
       "\\item 4\n",
       "\\item 2\n",
       "\\item 1\n",
       "\\item 4\n",
       "\\item 3\n",
       "\\item 1\n",
       "\\item 7\n",
       "\\item 2\n",
       "\\item 3\n",
       "\\item 3\n",
       "\\item 1\n",
       "\\item 7\n",
       "\\item 4\n",
       "\\item 2\n",
       "\\item 2\n",
       "\\item 1\n",
       "\\item 7\n",
       "\\item 2\n",
       "\\item 5\n",
       "\\item 4\n",
       "\\item 1\n",
       "\\item 1\n",
       "\\item 8\n",
       "\\item 1\n",
       "\\item 7\n",
       "\\item 2\n",
       "\\item 7\n",
       "\\item 7\n",
       "\\item 3\n",
       "\\item 4\n",
       "\\item 1\n",
       "\\item 3\n",
       "\\item 4\n",
       "\\item 2\n",
       "\\item 3\n",
       "\\item 7\n",
       "\\item 3\n",
       "\\item 8\n",
       "\\item 4\n",
       "\\item 7\n",
       "\\item 8\n",
       "\\item 7\n",
       "\\item 1\n",
       "\\item 7\n",
       "\\item 8\n",
       "\\item 8\n",
       "\\item 3\n",
       "\\item 3\n",
       "\\item 8\n",
       "\\item 5\n",
       "\\item 3\n",
       "\\item 5\n",
       "\\item 7\n",
       "\\item 4\n",
       "\\item 6\n",
       "\\item 1\n",
       "\\item 4\n",
       "\\item 4\n",
       "\\item 8\n",
       "\\item 7\n",
       "\\item 2\n",
       "\\item 2\n",
       "\\item 8\n",
       "\\item 6\n",
       "\\item 8\n",
       "\\item 6\n",
       "\\item 3\n",
       "\\item 8\n",
       "\\item 2\n",
       "\\item 8\n",
       "\\item 5\n",
       "\\item 4\n",
       "\\item 6\n",
       "\\item 7\n",
       "\\item 1\n",
       "\\item 1\n",
       "\\item 6\n",
       "\\item 3\n",
       "\\item 1\n",
       "\\item 1\n",
       "\\item 2\n",
       "\\item 2\n",
       "\\item 8\n",
       "\\item 3\n",
       "\\item 5\n",
       "\\item 5\n",
       "\\item 2\n",
       "\\item 8\n",
       "\\item 5\n",
       "\\item 2\n",
       "\\item 2\n",
       "\\item 3\n",
       "\\item 5\n",
       "\\item 8\n",
       "\\item 1\n",
       "\\item 2\n",
       "\\item 2\n",
       "\\item 6\n",
       "\\item 4\n",
       "\\item 5\n",
       "\\item 8\n",
       "\\item 3\n",
       "\\item 1\n",
       "\\item 2\n",
       "\\item 3\n",
       "\\item 8\n",
       "\\item 2\n",
       "\\item 2\n",
       "\\item 6\n",
       "\\item 1\n",
       "\\item 5\n",
       "\\item 2\n",
       "\\item 8\n",
       "\\item 5\n",
       "\\item 6\n",
       "\\item 1\n",
       "\\item 8\n",
       "\\item 7\n",
       "\\item 4\n",
       "\\item 8\n",
       "\\item 8\n",
       "\\item 1\n",
       "\\item 6\n",
       "\\item 7\n",
       "\\item 6\n",
       "\\item 3\n",
       "\\item 6\n",
       "\\item 6\n",
       "\\item 4\n",
       "\\item 2\n",
       "\\item 4\n",
       "\\item 2\n",
       "\\item 3\n",
       "\\item 3\n",
       "\\item 5\n",
       "\\item 4\n",
       "\\item 4\n",
       "\\item 8\n",
       "\\item 2\n",
       "\\item 5\n",
       "\\item 6\n",
       "\\item 3\n",
       "\\item 2\n",
       "\\item 1\n",
       "\\item 3\n",
       "\\item 5\n",
       "\\item 7\n",
       "\\item 5\n",
       "\\item 4\n",
       "\\item 8\n",
       "\\item 8\n",
       "\\item 4\n",
       "\\item 7\n",
       "\\item 6\n",
       "\\item 4\n",
       "\\item 6\n",
       "\\item 7\n",
       "\\item 8\n",
       "\\item 7\n",
       "\\item 3\n",
       "\\item 2\n",
       "\\item 3\n",
       "\\item 8\n",
       "\\item 8\n",
       "\\item 5\n",
       "\\item 7\n",
       "\\item 7\n",
       "\\item 5\n",
       "\\item 8\n",
       "\\item 4\n",
       "\\item 7\n",
       "\\item 7\n",
       "\\item 4\n",
       "\\item 1\n",
       "\\item 4\n",
       "\\item 5\n",
       "\\item 2\n",
       "\\item 5\n",
       "\\item 4\n",
       "\\item 2\n",
       "\\item 8\n",
       "\\item 5\n",
       "\\item 2\n",
       "\\item 5\n",
       "\\item 2\n",
       "\\item 8\n",
       "\\item 2\n",
       "\\item 8\n",
       "\\item 4\n",
       "\\item 4\n",
       "\\item 3\n",
       "\\item 6\n",
       "\\item 3\n",
       "\\item 4\n",
       "\\item 3\n",
       "\\item 6\n",
       "\\item 6\n",
       "\\item 5\n",
       "\\item 1\n",
       "\\item 6\n",
       "\\item 3\n",
       "\\item 5\n",
       "\\item 7\n",
       "\\item 6\n",
       "\\item 8\n",
       "\\item 2\n",
       "\\item 1\n",
       "\\item 4\n",
       "\\item 2\n",
       "\\item 4\n",
       "\\item 8\n",
       "\\item 8\n",
       "\\item 3\n",
       "\\item 5\n",
       "\\item 1\n",
       "\\item 6\n",
       "\\item 2\n",
       "\\item 7\n",
       "\\item 4\n",
       "\\item 4\n",
       "\\item 2\n",
       "\\item 6\n",
       "\\item 1\n",
       "\\item 3\n",
       "\\item 7\n",
       "\\item 1\n",
       "\\item 8\n",
       "\\item 1\n",
       "\\item 2\n",
       "\\item 3\n",
       "\\item 6\n",
       "\\item 8\n",
       "\\item 7\n",
       "\\item 4\n",
       "\\item 6\n",
       "\\item 5\n",
       "\\item 2\n",
       "\\item 7\n",
       "\\item 5\n",
       "\\item 7\n",
       "\\item 1\n",
       "\\item 2\n",
       "\\item 5\n",
       "\\item 5\n",
       "\\item 6\n",
       "\\item 3\n",
       "\\item 6\n",
       "\\item 8\n",
       "\\item 4\n",
       "\\item 3\n",
       "\\item 2\n",
       "\\item 8\n",
       "\\item 3\n",
       "\\item 3\n",
       "\\item 4\n",
       "\\item 7\n",
       "\\item 5\n",
       "\\item 6\n",
       "\\item 3\n",
       "\\item 5\n",
       "\\item 3\n",
       "\\item 3\n",
       "\\item 1\n",
       "\\item 2\n",
       "\\item 7\n",
       "\\item 4\n",
       "\\item 3\n",
       "\\item 4\n",
       "\\item 5\n",
       "\\item 6\n",
       "\\item 2\n",
       "\\item 4\n",
       "\\item 5\n",
       "\\item 8\n",
       "\\item 1\n",
       "\\item 7\n",
       "\\item 6\n",
       "\\item 8\n",
       "\\item 1\n",
       "\\item 5\n",
       "\\item 2\n",
       "\\item 5\n",
       "\\item 4\n",
       "\\item 7\n",
       "\\item 1\n",
       "\\item 4\n",
       "\\item 6\n",
       "\\item 1\n",
       "\\item 4\n",
       "\\item 2\n",
       "\\item 8\n",
       "\\item 1\n",
       "\\item 6\n",
       "\\item 1\n",
       "\\item 4\n",
       "\\item 7\n",
       "\\item 1\n",
       "\\item 5\n",
       "\\item 3\n",
       "\\item 4\n",
       "\\item 7\n",
       "\\item 8\n",
       "\\item 4\n",
       "\\item 7\n",
       "\\item 3\n",
       "\\item 5\n",
       "\\item 3\n",
       "\\item 7\n",
       "\\item 4\n",
       "\\item 5\n",
       "\\item 3\n",
       "\\item 2\n",
       "\\item 6\n",
       "\\item 8\n",
       "\\item 1\n",
       "\\item 5\n",
       "\\item 3\n",
       "\\item 5\n",
       "\\item 2\n",
       "\\item 5\n",
       "\\item 5\n",
       "\\item 6\n",
       "\\item 1\n",
       "\\item 2\n",
       "\\item 1\n",
       "\\item 1\n",
       "\\item 3\n",
       "\\item 7\n",
       "\\item 5\n",
       "\\item 7\n",
       "\\item 6\n",
       "\\item 5\n",
       "\\item 8\n",
       "\\item 3\n",
       "\\item 6\n",
       "\\item 8\n",
       "\\item 1\n",
       "\\item 4\n",
       "\\item 6\n",
       "\\item 5\n",
       "\\item 7\n",
       "\\item 6\n",
       "\\item 1\n",
       "\\item 1\n",
       "\\item 3\n",
       "\\item 8\n",
       "\\item 5\n",
       "\\item 6\n",
       "\\item 1\n",
       "\\item 7\n",
       "\\item 4\n",
       "\\item 6\n",
       "\\item 7\n",
       "\\item 1\n",
       "\\item 7\n",
       "\\item 4\n",
       "\\item 6\n",
       "\\item 8\n",
       "\\item 6\n",
       "\\item 6\n",
       "\\item 8\n",
       "\\item 1\n",
       "\\item 6\n",
       "\\item 6\n",
       "\\item 5\n",
       "\\item 3\n",
       "\\item 5\n",
       "\\item 3\n",
       "\\item 7\n",
       "\\item 5\n",
       "\\item 1\n",
       "\\end{enumerate*}\n"
      ],
      "text/markdown": [
       "1. 2\n",
       "2. 7\n",
       "3. 4\n",
       "4. 2\n",
       "5. 6\n",
       "6. 5\n",
       "7. 5\n",
       "8. 1\n",
       "9. 8\n",
       "10. 8\n",
       "11. 7\n",
       "12. 6\n",
       "13. 7\n",
       "14. 2\n",
       "15. 8\n",
       "16. 7\n",
       "17. 4\n",
       "18. 6\n",
       "19. 1\n",
       "20. 2\n",
       "21. 7\n",
       "22. 6\n",
       "23. 6\n",
       "24. 3\n",
       "25. 6\n",
       "26. 1\n",
       "27. 7\n",
       "28. 3\n",
       "29. 4\n",
       "30. 4\n",
       "31. 2\n",
       "32. 1\n",
       "33. 4\n",
       "34. 3\n",
       "35. 1\n",
       "36. 7\n",
       "37. 2\n",
       "38. 3\n",
       "39. 3\n",
       "40. 1\n",
       "41. 7\n",
       "42. 4\n",
       "43. 2\n",
       "44. 2\n",
       "45. 1\n",
       "46. 7\n",
       "47. 2\n",
       "48. 5\n",
       "49. 4\n",
       "50. 1\n",
       "51. 1\n",
       "52. 8\n",
       "53. 1\n",
       "54. 7\n",
       "55. 2\n",
       "56. 7\n",
       "57. 7\n",
       "58. 3\n",
       "59. 4\n",
       "60. 1\n",
       "61. 3\n",
       "62. 4\n",
       "63. 2\n",
       "64. 3\n",
       "65. 7\n",
       "66. 3\n",
       "67. 8\n",
       "68. 4\n",
       "69. 7\n",
       "70. 8\n",
       "71. 7\n",
       "72. 1\n",
       "73. 7\n",
       "74. 8\n",
       "75. 8\n",
       "76. 3\n",
       "77. 3\n",
       "78. 8\n",
       "79. 5\n",
       "80. 3\n",
       "81. 5\n",
       "82. 7\n",
       "83. 4\n",
       "84. 6\n",
       "85. 1\n",
       "86. 4\n",
       "87. 4\n",
       "88. 8\n",
       "89. 7\n",
       "90. 2\n",
       "91. 2\n",
       "92. 8\n",
       "93. 6\n",
       "94. 8\n",
       "95. 6\n",
       "96. 3\n",
       "97. 8\n",
       "98. 2\n",
       "99. 8\n",
       "100. 5\n",
       "101. 4\n",
       "102. 6\n",
       "103. 7\n",
       "104. 1\n",
       "105. 1\n",
       "106. 6\n",
       "107. 3\n",
       "108. 1\n",
       "109. 1\n",
       "110. 2\n",
       "111. 2\n",
       "112. 8\n",
       "113. 3\n",
       "114. 5\n",
       "115. 5\n",
       "116. 2\n",
       "117. 8\n",
       "118. 5\n",
       "119. 2\n",
       "120. 2\n",
       "121. 3\n",
       "122. 5\n",
       "123. 8\n",
       "124. 1\n",
       "125. 2\n",
       "126. 2\n",
       "127. 6\n",
       "128. 4\n",
       "129. 5\n",
       "130. 8\n",
       "131. 3\n",
       "132. 1\n",
       "133. 2\n",
       "134. 3\n",
       "135. 8\n",
       "136. 2\n",
       "137. 2\n",
       "138. 6\n",
       "139. 1\n",
       "140. 5\n",
       "141. 2\n",
       "142. 8\n",
       "143. 5\n",
       "144. 6\n",
       "145. 1\n",
       "146. 8\n",
       "147. 7\n",
       "148. 4\n",
       "149. 8\n",
       "150. 8\n",
       "151. 1\n",
       "152. 6\n",
       "153. 7\n",
       "154. 6\n",
       "155. 3\n",
       "156. 6\n",
       "157. 6\n",
       "158. 4\n",
       "159. 2\n",
       "160. 4\n",
       "161. 2\n",
       "162. 3\n",
       "163. 3\n",
       "164. 5\n",
       "165. 4\n",
       "166. 4\n",
       "167. 8\n",
       "168. 2\n",
       "169. 5\n",
       "170. 6\n",
       "171. 3\n",
       "172. 2\n",
       "173. 1\n",
       "174. 3\n",
       "175. 5\n",
       "176. 7\n",
       "177. 5\n",
       "178. 4\n",
       "179. 8\n",
       "180. 8\n",
       "181. 4\n",
       "182. 7\n",
       "183. 6\n",
       "184. 4\n",
       "185. 6\n",
       "186. 7\n",
       "187. 8\n",
       "188. 7\n",
       "189. 3\n",
       "190. 2\n",
       "191. 3\n",
       "192. 8\n",
       "193. 8\n",
       "194. 5\n",
       "195. 7\n",
       "196. 7\n",
       "197. 5\n",
       "198. 8\n",
       "199. 4\n",
       "200. 7\n",
       "201. 7\n",
       "202. 4\n",
       "203. 1\n",
       "204. 4\n",
       "205. 5\n",
       "206. 2\n",
       "207. 5\n",
       "208. 4\n",
       "209. 2\n",
       "210. 8\n",
       "211. 5\n",
       "212. 2\n",
       "213. 5\n",
       "214. 2\n",
       "215. 8\n",
       "216. 2\n",
       "217. 8\n",
       "218. 4\n",
       "219. 4\n",
       "220. 3\n",
       "221. 6\n",
       "222. 3\n",
       "223. 4\n",
       "224. 3\n",
       "225. 6\n",
       "226. 6\n",
       "227. 5\n",
       "228. 1\n",
       "229. 6\n",
       "230. 3\n",
       "231. 5\n",
       "232. 7\n",
       "233. 6\n",
       "234. 8\n",
       "235. 2\n",
       "236. 1\n",
       "237. 4\n",
       "238. 2\n",
       "239. 4\n",
       "240. 8\n",
       "241. 8\n",
       "242. 3\n",
       "243. 5\n",
       "244. 1\n",
       "245. 6\n",
       "246. 2\n",
       "247. 7\n",
       "248. 4\n",
       "249. 4\n",
       "250. 2\n",
       "251. 6\n",
       "252. 1\n",
       "253. 3\n",
       "254. 7\n",
       "255. 1\n",
       "256. 8\n",
       "257. 1\n",
       "258. 2\n",
       "259. 3\n",
       "260. 6\n",
       "261. 8\n",
       "262. 7\n",
       "263. 4\n",
       "264. 6\n",
       "265. 5\n",
       "266. 2\n",
       "267. 7\n",
       "268. 5\n",
       "269. 7\n",
       "270. 1\n",
       "271. 2\n",
       "272. 5\n",
       "273. 5\n",
       "274. 6\n",
       "275. 3\n",
       "276. 6\n",
       "277. 8\n",
       "278. 4\n",
       "279. 3\n",
       "280. 2\n",
       "281. 8\n",
       "282. 3\n",
       "283. 3\n",
       "284. 4\n",
       "285. 7\n",
       "286. 5\n",
       "287. 6\n",
       "288. 3\n",
       "289. 5\n",
       "290. 3\n",
       "291. 3\n",
       "292. 1\n",
       "293. 2\n",
       "294. 7\n",
       "295. 4\n",
       "296. 3\n",
       "297. 4\n",
       "298. 5\n",
       "299. 6\n",
       "300. 2\n",
       "301. 4\n",
       "302. 5\n",
       "303. 8\n",
       "304. 1\n",
       "305. 7\n",
       "306. 6\n",
       "307. 8\n",
       "308. 1\n",
       "309. 5\n",
       "310. 2\n",
       "311. 5\n",
       "312. 4\n",
       "313. 7\n",
       "314. 1\n",
       "315. 4\n",
       "316. 6\n",
       "317. 1\n",
       "318. 4\n",
       "319. 2\n",
       "320. 8\n",
       "321. 1\n",
       "322. 6\n",
       "323. 1\n",
       "324. 4\n",
       "325. 7\n",
       "326. 1\n",
       "327. 5\n",
       "328. 3\n",
       "329. 4\n",
       "330. 7\n",
       "331. 8\n",
       "332. 4\n",
       "333. 7\n",
       "334. 3\n",
       "335. 5\n",
       "336. 3\n",
       "337. 7\n",
       "338. 4\n",
       "339. 5\n",
       "340. 3\n",
       "341. 2\n",
       "342. 6\n",
       "343. 8\n",
       "344. 1\n",
       "345. 5\n",
       "346. 3\n",
       "347. 5\n",
       "348. 2\n",
       "349. 5\n",
       "350. 5\n",
       "351. 6\n",
       "352. 1\n",
       "353. 2\n",
       "354. 1\n",
       "355. 1\n",
       "356. 3\n",
       "357. 7\n",
       "358. 5\n",
       "359. 7\n",
       "360. 6\n",
       "361. 5\n",
       "362. 8\n",
       "363. 3\n",
       "364. 6\n",
       "365. 8\n",
       "366. 1\n",
       "367. 4\n",
       "368. 6\n",
       "369. 5\n",
       "370. 7\n",
       "371. 6\n",
       "372. 1\n",
       "373. 1\n",
       "374. 3\n",
       "375. 8\n",
       "376. 5\n",
       "377. 6\n",
       "378. 1\n",
       "379. 7\n",
       "380. 4\n",
       "381. 6\n",
       "382. 7\n",
       "383. 1\n",
       "384. 7\n",
       "385. 4\n",
       "386. 6\n",
       "387. 8\n",
       "388. 6\n",
       "389. 6\n",
       "390. 8\n",
       "391. 1\n",
       "392. 6\n",
       "393. 6\n",
       "394. 5\n",
       "395. 3\n",
       "396. 5\n",
       "397. 3\n",
       "398. 7\n",
       "399. 5\n",
       "400. 1\n",
       "\n",
       "\n"
      ],
      "text/plain": [
       "  [1] 2 7 4 2 6 5 5 1 8 8 7 6 7 2 8 7 4 6 1 2 7 6 6 3 6 1 7 3 4 4 2 1 4 3 1 7 2\n",
       " [38] 3 3 1 7 4 2 2 1 7 2 5 4 1 1 8 1 7 2 7 7 3 4 1 3 4 2 3 7 3 8 4 7 8 7 1 7 8\n",
       " [75] 8 3 3 8 5 3 5 7 4 6 1 4 4 8 7 2 2 8 6 8 6 3 8 2 8 5 4 6 7 1 1 6 3 1 1 2 2\n",
       "[112] 8 3 5 5 2 8 5 2 2 3 5 8 1 2 2 6 4 5 8 3 1 2 3 8 2 2 6 1 5 2 8 5 6 1 8 7 4\n",
       "[149] 8 8 1 6 7 6 3 6 6 4 2 4 2 3 3 5 4 4 8 2 5 6 3 2 1 3 5 7 5 4 8 8 4 7 6 4 6\n",
       "[186] 7 8 7 3 2 3 8 8 5 7 7 5 8 4 7 7 4 1 4 5 2 5 4 2 8 5 2 5 2 8 2 8 4 4 3 6 3\n",
       "[223] 4 3 6 6 5 1 6 3 5 7 6 8 2 1 4 2 4 8 8 3 5 1 6 2 7 4 4 2 6 1 3 7 1 8 1 2 3\n",
       "[260] 6 8 7 4 6 5 2 7 5 7 1 2 5 5 6 3 6 8 4 3 2 8 3 3 4 7 5 6 3 5 3 3 1 2 7 4 3\n",
       "[297] 4 5 6 2 4 5 8 1 7 6 8 1 5 2 5 4 7 1 4 6 1 4 2 8 1 6 1 4 7 1 5 3 4 7 8 4 7\n",
       "[334] 3 5 3 7 4 5 3 2 6 8 1 5 3 5 2 5 5 6 1 2 1 1 3 7 5 7 6 5 8 3 6 8 1 4 6 5 7\n",
       "[371] 6 1 1 3 8 5 6 1 7 4 6 7 1 7 4 6 8 6 6 8 1 6 6 5 3 5 3 7 5 1"
      ]
     },
     "metadata": {},
     "output_type": "display_data"
    }
   ],
   "source": [
    "smp.test$RF_classification2\n",
    "smp.test <- smp.test[sample(nrow(smp.test)), ] # mix the samples\n",
    "smp.test$RF_classification2"
   ]
  },
  {
   "cell_type": "markdown",
   "metadata": {},
   "source": [
    "Delete all variables in our dataframe smp.test and append a consecutive ID variable called ID, which will then be displayed to us in QGIS:"
   ]
  },
  {
   "cell_type": "code",
   "execution_count": 6,
   "metadata": {},
   "outputs": [
    {
     "data": {
      "application/geo+json": {
       "features": [
        {
         "geometry": {
          "coordinates": [
           674965,
           5923115
          ],
          "type": "Point"
         },
         "properties": {
          "ID": 1
         },
         "type": "Feature"
        },
        {
         "geometry": {
          "coordinates": [
           683365,
           5907865
          ],
          "type": "Point"
         },
         "properties": {
          "ID": 2
         },
         "type": "Feature"
        },
        {
         "geometry": {
          "coordinates": [
           681075,
           5937115
          ],
          "type": "Point"
         },
         "properties": {
          "ID": 3
         },
         "type": "Feature"
        },
        {
         "geometry": {
          "coordinates": [
           686005,
           5933425
          ],
          "type": "Point"
         },
         "properties": {
          "ID": 4
         },
         "type": "Feature"
        },
        {
         "geometry": {
          "coordinates": [
           675235,
           5905145
          ],
          "type": "Point"
         },
         "properties": {
          "ID": 5
         },
         "type": "Feature"
        },
        {
         "geometry": {
          "coordinates": [
           674015,
           5910945
          ],
          "type": "Point"
         },
         "properties": {
          "ID": 6
         },
         "type": "Feature"
        },
        {
         "geometry": {
          "coordinates": [
           685425,
           5925665
          ],
          "type": "Point"
         },
         "properties": {
          "ID": 7
         },
         "type": "Feature"
        },
        {
         "geometry": {
          "coordinates": [
           676535,
           5898995
          ],
          "type": "Point"
         },
         "properties": {
          "ID": 8
         },
         "type": "Feature"
        },
        {
         "geometry": {
          "coordinates": [
           687825,
           5915605
          ],
          "type": "Point"
         },
         "properties": {
          "ID": 9
         },
         "type": "Feature"
        },
        {
         "geometry": {
          "coordinates": [
           687865,
           5911545
          ],
          "type": "Point"
         },
         "properties": {
          "ID": 10
         },
         "type": "Feature"
        },
        {
         "geometry": {
          "coordinates": [
           685285,
           5908955
          ],
          "type": "Point"
         },
         "properties": {
          "ID": 11
         },
         "type": "Feature"
        },
        {
         "geometry": {
          "coordinates": [
           674005,
           5910955
          ],
          "type": "Point"
         },
         "properties": {
          "ID": 12
         },
         "type": "Feature"
        },
        {
         "geometry": {
          "coordinates": [
           686295,
           5908195
          ],
          "type": "Point"
         },
         "properties": {
          "ID": 13
         },
         "type": "Feature"
        },
        {
         "geometry": {
          "coordinates": [
           670065,
           5916355
          ],
          "type": "Point"
         },
         "properties": {
          "ID": 14
         },
         "type": "Feature"
        },
        {
         "geometry": {
          "coordinates": [
           679125,
           5915625
          ],
          "type": "Point"
         },
         "properties": {
          "ID": 15
         },
         "type": "Feature"
        },
        {
         "geometry": {
          "coordinates": [
           687555,
           5921945
          ],
          "type": "Point"
         },
         "properties": {
          "ID": 16
         },
         "type": "Feature"
        },
        {
         "geometry": {
          "coordinates": [
           671005,
           5936265
          ],
          "type": "Point"
         },
         "properties": {
          "ID": 17
         },
         "type": "Feature"
        },
        {
         "geometry": {
          "coordinates": [
           668255,
           5915055
          ],
          "type": "Point"
         },
         "properties": {
          "ID": 18
         },
         "type": "Feature"
        },
        {
         "geometry": {
          "coordinates": [
           675745,
           5910465
          ],
          "type": "Point"
         },
         "properties": {
          "ID": 19
         },
         "type": "Feature"
        },
        {
         "geometry": {
          "coordinates": [
           680885,
           5927065
          ],
          "type": "Point"
         },
         "properties": {
          "ID": 20
         },
         "type": "Feature"
        },
        {
         "geometry": {
          "coordinates": [
           690465,
           5924375
          ],
          "type": "Point"
         },
         "properties": {
          "ID": 21
         },
         "type": "Feature"
        },
        {
         "geometry": {
          "coordinates": [
           679735,
           5911715
          ],
          "type": "Point"
         },
         "properties": {
          "ID": 22
         },
         "type": "Feature"
        },
        {
         "geometry": {
          "coordinates": [
           691995,
           5907645
          ],
          "type": "Point"
         },
         "properties": {
          "ID": 23
         },
         "type": "Feature"
        },
        {
         "geometry": {
          "coordinates": [
           679555,
           5902115
          ],
          "type": "Point"
         },
         "properties": {
          "ID": 24
         },
         "type": "Feature"
        },
        {
         "geometry": {
          "coordinates": [
           681985,
           5926285
          ],
          "type": "Point"
         },
         "properties": {
          "ID": 25
         },
         "type": "Feature"
        },
        {
         "geometry": {
          "coordinates": [
           675775,
           5899845
          ],
          "type": "Point"
         },
         "properties": {
          "ID": 26
         },
         "type": "Feature"
        },
        {
         "geometry": {
          "coordinates": [
           678675,
           5926655
          ],
          "type": "Point"
         },
         "properties": {
          "ID": 27
         },
         "type": "Feature"
        },
        {
         "geometry": {
          "coordinates": [
           692615,
           5904135
          ],
          "type": "Point"
         },
         "properties": {
          "ID": 28
         },
         "type": "Feature"
        },
        {
         "geometry": {
          "coordinates": [
           671675,
           5901805
          ],
          "type": "Point"
         },
         "properties": {
          "ID": 29
         },
         "type": "Feature"
        },
        {
         "geometry": {
          "coordinates": [
           688475,
           5901375
          ],
          "type": "Point"
         },
         "properties": {
          "ID": 30
         },
         "type": "Feature"
        },
        {
         "geometry": {
          "coordinates": [
           667435,
           5913695
          ],
          "type": "Point"
         },
         "properties": {
          "ID": 31
         },
         "type": "Feature"
        },
        {
         "geometry": {
          "coordinates": [
           694915,
           5917455
          ],
          "type": "Point"
         },
         "properties": {
          "ID": 32
         },
         "type": "Feature"
        },
        {
         "geometry": {
          "coordinates": [
           677115,
           5930335
          ],
          "type": "Point"
         },
         "properties": {
          "ID": 33
         },
         "type": "Feature"
        },
        {
         "geometry": {
          "coordinates": [
           684445,
           5910745
          ],
          "type": "Point"
         },
         "properties": {
          "ID": 34
         },
         "type": "Feature"
        },
        {
         "geometry": {
          "coordinates": [
           687305,
           5908985
          ],
          "type": "Point"
         },
         "properties": {
          "ID": 35
         },
         "type": "Feature"
        },
        {
         "geometry": {
          "coordinates": [
           678775,
           5910925
          ],
          "type": "Point"
         },
         "properties": {
          "ID": 36
         },
         "type": "Feature"
        },
        {
         "geometry": {
          "coordinates": [
           686385,
           5928555
          ],
          "type": "Point"
         },
         "properties": {
          "ID": 37
         },
         "type": "Feature"
        },
        {
         "geometry": {
          "coordinates": [
           687215,
           5906575
          ],
          "type": "Point"
         },
         "properties": {
          "ID": 38
         },
         "type": "Feature"
        },
        {
         "geometry": {
          "coordinates": [
           693665,
           5918115
          ],
          "type": "Point"
         },
         "properties": {
          "ID": 39
         },
         "type": "Feature"
        },
        {
         "geometry": {
          "coordinates": [
           677025,
           5897345
          ],
          "type": "Point"
         },
         "properties": {
          "ID": 40
         },
         "type": "Feature"
        },
        {
         "geometry": {
          "coordinates": [
           677435,
           5935645
          ],
          "type": "Point"
         },
         "properties": {
          "ID": 41
         },
         "type": "Feature"
        },
        {
         "geometry": {
          "coordinates": [
           685635,
           5921215
          ],
          "type": "Point"
         },
         "properties": {
          "ID": 42
         },
         "type": "Feature"
        },
        {
         "geometry": {
          "coordinates": [
           685815,
           5931755
          ],
          "type": "Point"
         },
         "properties": {
          "ID": 43
         },
         "type": "Feature"
        },
        {
         "geometry": {
          "coordinates": [
           679595,
           5933845
          ],
          "type": "Point"
         },
         "properties": {
          "ID": 44
         },
         "type": "Feature"
        },
        {
         "geometry": {
          "coordinates": [
           678055,
           5898145
          ],
          "type": "Point"
         },
         "properties": {
          "ID": 45
         },
         "type": "Feature"
        },
        {
         "geometry": {
          "coordinates": [
           683755,
           5908175
          ],
          "type": "Point"
         },
         "properties": {
          "ID": 46
         },
         "type": "Feature"
        },
        {
         "geometry": {
          "coordinates": [
           691865,
           5920955
          ],
          "type": "Point"
         },
         "properties": {
          "ID": 47
         },
         "type": "Feature"
        },
        {
         "geometry": {
          "coordinates": [
           681965,
           5931935
          ],
          "type": "Point"
         },
         "properties": {
          "ID": 48
         },
         "type": "Feature"
        },
        {
         "geometry": {
          "coordinates": [
           686485,
           5938775
          ],
          "type": "Point"
         },
         "properties": {
          "ID": 49
         },
         "type": "Feature"
        },
        {
         "geometry": {
          "coordinates": [
           682025,
           5925335
          ],
          "type": "Point"
         },
         "properties": {
          "ID": 50
         },
         "type": "Feature"
        },
        {
         "geometry": {
          "coordinates": [
           689335,
           5923385
          ],
          "type": "Point"
         },
         "properties": {
          "ID": 51
         },
         "type": "Feature"
        },
        {
         "geometry": {
          "coordinates": [
           675565,
           5902765
          ],
          "type": "Point"
         },
         "properties": {
          "ID": 52
         },
         "type": "Feature"
        },
        {
         "geometry": {
          "coordinates": [
           675655,
           5899835
          ],
          "type": "Point"
         },
         "properties": {
          "ID": 53
         },
         "type": "Feature"
        },
        {
         "geometry": {
          "coordinates": [
           691395,
           5920845
          ],
          "type": "Point"
         },
         "properties": {
          "ID": 54
         },
         "type": "Feature"
        },
        {
         "geometry": {
          "coordinates": [
           683025,
           5930925
          ],
          "type": "Point"
         },
         "properties": {
          "ID": 55
         },
         "type": "Feature"
        },
        {
         "geometry": {
          "coordinates": [
           691225,
           5905685
          ],
          "type": "Point"
         },
         "properties": {
          "ID": 56
         },
         "type": "Feature"
        },
        {
         "geometry": {
          "coordinates": [
           671295,
           5910035
          ],
          "type": "Point"
         },
         "properties": {
          "ID": 57
         },
         "type": "Feature"
        },
        {
         "geometry": {
          "coordinates": [
           674735,
           5900835
          ],
          "type": "Point"
         },
         "properties": {
          "ID": 58
         },
         "type": "Feature"
        },
        {
         "geometry": {
          "coordinates": [
           697785,
           5930615
          ],
          "type": "Point"
         },
         "properties": {
          "ID": 59
         },
         "type": "Feature"
        },
        {
         "geometry": {
          "coordinates": [
           690465,
           5935785
          ],
          "type": "Point"
         },
         "properties": {
          "ID": 60
         },
         "type": "Feature"
        },
        {
         "geometry": {
          "coordinates": [
           682685,
           5920635
          ],
          "type": "Point"
         },
         "properties": {
          "ID": 61
         },
         "type": "Feature"
        },
        {
         "geometry": {
          "coordinates": [
           691075,
           5924705
          ],
          "type": "Point"
         },
         "properties": {
          "ID": 62
         },
         "type": "Feature"
        },
        {
         "geometry": {
          "coordinates": [
           693035,
           5934565
          ],
          "type": "Point"
         },
         "properties": {
          "ID": 63
         },
         "type": "Feature"
        },
        {
         "geometry": {
          "coordinates": [
           685775,
           5910865
          ],
          "type": "Point"
         },
         "properties": {
          "ID": 64
         },
         "type": "Feature"
        },
        {
         "geometry": {
          "coordinates": [
           686315,
           5903795
          ],
          "type": "Point"
         },
         "properties": {
          "ID": 65
         },
         "type": "Feature"
        },
        {
         "geometry": {
          "coordinates": [
           680765,
           5901455
          ],
          "type": "Point"
         },
         "properties": {
          "ID": 66
         },
         "type": "Feature"
        },
        {
         "geometry": {
          "coordinates": [
           678245,
           5913275
          ],
          "type": "Point"
         },
         "properties": {
          "ID": 67
         },
         "type": "Feature"
        },
        {
         "geometry": {
          "coordinates": [
           690725,
           5901755
          ],
          "type": "Point"
         },
         "properties": {
          "ID": 68
         },
         "type": "Feature"
        },
        {
         "geometry": {
          "coordinates": [
           677905,
           5910865
          ],
          "type": "Point"
         },
         "properties": {
          "ID": 69
         },
         "type": "Feature"
        },
        {
         "geometry": {
          "coordinates": [
           666995,
           5915295
          ],
          "type": "Point"
         },
         "properties": {
          "ID": 70
         },
         "type": "Feature"
        },
        {
         "geometry": {
          "coordinates": [
           682725,
           5919675
          ],
          "type": "Point"
         },
         "properties": {
          "ID": 71
         },
         "type": "Feature"
        },
        {
         "geometry": {
          "coordinates": [
           684935,
           5905035
          ],
          "type": "Point"
         },
         "properties": {
          "ID": 72
         },
         "type": "Feature"
        },
        {
         "geometry": {
          "coordinates": [
           692645,
           5938815
          ],
          "type": "Point"
         },
         "properties": {
          "ID": 73
         },
         "type": "Feature"
        },
        {
         "geometry": {
          "coordinates": [
           697415,
           5930245
          ],
          "type": "Point"
         },
         "properties": {
          "ID": 74
         },
         "type": "Feature"
        },
        {
         "geometry": {
          "coordinates": [
           673955,
           5915715
          ],
          "type": "Point"
         },
         "properties": {
          "ID": 75
         },
         "type": "Feature"
        },
        {
         "geometry": {
          "coordinates": [
           688565,
           5923085
          ],
          "type": "Point"
         },
         "properties": {
          "ID": 76
         },
         "type": "Feature"
        },
        {
         "geometry": {
          "coordinates": [
           686545,
           5918515
          ],
          "type": "Point"
         },
         "properties": {
          "ID": 77
         },
         "type": "Feature"
        },
        {
         "geometry": {
          "coordinates": [
           675155,
           5919555
          ],
          "type": "Point"
         },
         "properties": {
          "ID": 78
         },
         "type": "Feature"
        },
        {
         "geometry": {
          "coordinates": [
           677045,
           5905425
          ],
          "type": "Point"
         },
         "properties": {
          "ID": 79
         },
         "type": "Feature"
        },
        {
         "geometry": {
          "coordinates": [
           683715,
           5902105
          ],
          "type": "Point"
         },
         "properties": {
          "ID": 80
         },
         "type": "Feature"
        },
        {
         "geometry": {
          "coordinates": [
           679265,
           5917405
          ],
          "type": "Point"
         },
         "properties": {
          "ID": 81
         },
         "type": "Feature"
        },
        {
         "geometry": {
          "coordinates": [
           682925,
           5905495
          ],
          "type": "Point"
         },
         "properties": {
          "ID": 82
         },
         "type": "Feature"
        },
        {
         "geometry": {
          "coordinates": [
           685465,
           5902835
          ],
          "type": "Point"
         },
         "properties": {
          "ID": 83
         },
         "type": "Feature"
        },
        {
         "geometry": {
          "coordinates": [
           689165,
           5925355
          ],
          "type": "Point"
         },
         "properties": {
          "ID": 84
         },
         "type": "Feature"
        },
        {
         "geometry": {
          "coordinates": [
           677185,
           5896255
          ],
          "type": "Point"
         },
         "properties": {
          "ID": 85
         },
         "type": "Feature"
        },
        {
         "geometry": {
          "coordinates": [
           677375,
           5900915
          ],
          "type": "Point"
         },
         "properties": {
          "ID": 86
         },
         "type": "Feature"
        },
        {
         "geometry": {
          "coordinates": [
           679045,
           5940365
          ],
          "type": "Point"
         },
         "properties": {
          "ID": 87
         },
         "type": "Feature"
        },
        {
         "geometry": {
          "coordinates": [
           684245,
           5914045
          ],
          "type": "Point"
         },
         "properties": {
          "ID": 88
         },
         "type": "Feature"
        },
        {
         "geometry": {
          "coordinates": [
           690565,
           5919785
          ],
          "type": "Point"
         },
         "properties": {
          "ID": 89
         },
         "type": "Feature"
        },
        {
         "geometry": {
          "coordinates": [
           679865,
           5938125
          ],
          "type": "Point"
         },
         "properties": {
          "ID": 90
         },
         "type": "Feature"
        },
        {
         "geometry": {
          "coordinates": [
           686135,
           5926685
          ],
          "type": "Point"
         },
         "properties": {
          "ID": 91
         },
         "type": "Feature"
        },
        {
         "geometry": {
          "coordinates": [
           685435,
           5915675
          ],
          "type": "Point"
         },
         "properties": {
          "ID": 92
         },
         "type": "Feature"
        },
        {
         "geometry": {
          "coordinates": [
           680015,
           5913405
          ],
          "type": "Point"
         },
         "properties": {
          "ID": 93
         },
         "type": "Feature"
        },
        {
         "geometry": {
          "coordinates": [
           686635,
           5929395
          ],
          "type": "Point"
         },
         "properties": {
          "ID": 94
         },
         "type": "Feature"
        },
        {
         "geometry": {
          "coordinates": [
           685005,
           5918565
          ],
          "type": "Point"
         },
         "properties": {
          "ID": 95
         },
         "type": "Feature"
        },
        {
         "geometry": {
          "coordinates": [
           688735,
           5907265
          ],
          "type": "Point"
         },
         "properties": {
          "ID": 96
         },
         "type": "Feature"
        },
        {
         "geometry": {
          "coordinates": [
           681455,
           5909645
          ],
          "type": "Point"
         },
         "properties": {
          "ID": 97
         },
         "type": "Feature"
        },
        {
         "geometry": {
          "coordinates": [
           690585,
           5940085
          ],
          "type": "Point"
         },
         "properties": {
          "ID": 98
         },
         "type": "Feature"
        },
        {
         "geometry": {
          "coordinates": [
           682595,
           5911855
          ],
          "type": "Point"
         },
         "properties": {
          "ID": 99
         },
         "type": "Feature"
        },
        {
         "geometry": {
          "coordinates": [
           685665,
           5942825
          ],
          "type": "Point"
         },
         "properties": {
          "ID": 100
         },
         "type": "Feature"
        },
        {
         "geometry": {
          "coordinates": [
           674445,
           5938755
          ],
          "type": "Point"
         },
         "properties": {
          "ID": 101
         },
         "type": "Feature"
        },
        {
         "geometry": {
          "coordinates": [
           679225,
           5913235
          ],
          "type": "Point"
         },
         "properties": {
          "ID": 102
         },
         "type": "Feature"
        },
        {
         "geometry": {
          "coordinates": [
           675025,
           5917635
          ],
          "type": "Point"
         },
         "properties": {
          "ID": 103
         },
         "type": "Feature"
        },
        {
         "geometry": {
          "coordinates": [
           682605,
           5899315
          ],
          "type": "Point"
         },
         "properties": {
          "ID": 104
         },
         "type": "Feature"
        },
        {
         "geometry": {
          "coordinates": [
           686605,
           5904265
          ],
          "type": "Point"
         },
         "properties": {
          "ID": 105
         },
         "type": "Feature"
        },
        {
         "geometry": {
          "coordinates": [
           673495,
           5920375
          ],
          "type": "Point"
         },
         "properties": {
          "ID": 106
         },
         "type": "Feature"
        },
        {
         "geometry": {
          "coordinates": [
           683815,
           5904495
          ],
          "type": "Point"
         },
         "properties": {
          "ID": 107
         },
         "type": "Feature"
        },
        {
         "geometry": {
          "coordinates": [
           676755,
           5899675
          ],
          "type": "Point"
         },
         "properties": {
          "ID": 108
         },
         "type": "Feature"
        },
        {
         "geometry": {
          "coordinates": [
           689195,
           5904595
          ],
          "type": "Point"
         },
         "properties": {
          "ID": 109
         },
         "type": "Feature"
        },
        {
         "geometry": {
          "coordinates": [
           690965,
           5937525
          ],
          "type": "Point"
         },
         "properties": {
          "ID": 110
         },
         "type": "Feature"
        },
        {
         "geometry": {
          "coordinates": [
           685395,
           5931985
          ],
          "type": "Point"
         },
         "properties": {
          "ID": 111
         },
         "type": "Feature"
        },
        {
         "geometry": {
          "coordinates": [
           683915,
           5915815
          ],
          "type": "Point"
         },
         "properties": {
          "ID": 112
         },
         "type": "Feature"
        },
        {
         "geometry": {
          "coordinates": [
           674025,
           5901405
          ],
          "type": "Point"
         },
         "properties": {
          "ID": 113
         },
         "type": "Feature"
        },
        {
         "geometry": {
          "coordinates": [
           684415,
           5928215
          ],
          "type": "Point"
         },
         "properties": {
          "ID": 114
         },
         "type": "Feature"
        },
        {
         "geometry": {
          "coordinates": [
           693675,
           5906905
          ],
          "type": "Point"
         },
         "properties": {
          "ID": 115
         },
         "type": "Feature"
        },
        {
         "geometry": {
          "coordinates": [
           676745,
           5933235
          ],
          "type": "Point"
         },
         "properties": {
          "ID": 116
         },
         "type": "Feature"
        },
        {
         "geometry": {
          "coordinates": [
           692165,
           5900665
          ],
          "type": "Point"
         },
         "properties": {
          "ID": 117
         },
         "type": "Feature"
        },
        {
         "geometry": {
          "coordinates": [
           665835,
           5910205
          ],
          "type": "Point"
         },
         "properties": {
          "ID": 118
         },
         "type": "Feature"
        },
        {
         "geometry": {
          "coordinates": [
           686735,
           5939795
          ],
          "type": "Point"
         },
         "properties": {
          "ID": 119
         },
         "type": "Feature"
        },
        {
         "geometry": {
          "coordinates": [
           682165,
           5937285
          ],
          "type": "Point"
         },
         "properties": {
          "ID": 120
         },
         "type": "Feature"
        },
        {
         "geometry": {
          "coordinates": [
           695595,
           5918995
          ],
          "type": "Point"
         },
         "properties": {
          "ID": 121
         },
         "type": "Feature"
        },
        {
         "geometry": {
          "coordinates": [
           674205,
           5913315
          ],
          "type": "Point"
         },
         "properties": {
          "ID": 122
         },
         "type": "Feature"
        },
        {
         "geometry": {
          "coordinates": [
           685655,
           5915875
          ],
          "type": "Point"
         },
         "properties": {
          "ID": 123
         },
         "type": "Feature"
        },
        {
         "geometry": {
          "coordinates": [
           691175,
           5901185
          ],
          "type": "Point"
         },
         "properties": {
          "ID": 124
         },
         "type": "Feature"
        },
        {
         "geometry": {
          "coordinates": [
           686855,
           5912815
          ],
          "type": "Point"
         },
         "properties": {
          "ID": 125
         },
         "type": "Feature"
        },
        {
         "geometry": {
          "coordinates": [
           678865,
           5933905
          ],
          "type": "Point"
         },
         "properties": {
          "ID": 126
         },
         "type": "Feature"
        },
        {
         "geometry": {
          "coordinates": [
           687815,
           5916275
          ],
          "type": "Point"
         },
         "properties": {
          "ID": 127
         },
         "type": "Feature"
        },
        {
         "geometry": {
          "coordinates": [
           691045,
           5929695
          ],
          "type": "Point"
         },
         "properties": {
          "ID": 128
         },
         "type": "Feature"
        },
        {
         "geometry": {
          "coordinates": [
           680795,
           5925675
          ],
          "type": "Point"
         },
         "properties": {
          "ID": 129
         },
         "type": "Feature"
        },
        {
         "geometry": {
          "coordinates": [
           687495,
           5917505
          ],
          "type": "Point"
         },
         "properties": {
          "ID": 130
         },
         "type": "Feature"
        },
        {
         "geometry": {
          "coordinates": [
           679495,
           5897545
          ],
          "type": "Point"
         },
         "properties": {
          "ID": 131
         },
         "type": "Feature"
        },
        {
         "geometry": {
          "coordinates": [
           681385,
           5899925
          ],
          "type": "Point"
         },
         "properties": {
          "ID": 132
         },
         "type": "Feature"
        },
        {
         "geometry": {
          "coordinates": [
           673285,
           5923485
          ],
          "type": "Point"
         },
         "properties": {
          "ID": 133
         },
         "type": "Feature"
        },
        {
         "geometry": {
          "coordinates": [
           683855,
           5902015
          ],
          "type": "Point"
         },
         "properties": {
          "ID": 134
         },
         "type": "Feature"
        },
        {
         "geometry": {
          "coordinates": [
           673365,
           5901745
          ],
          "type": "Point"
         },
         "properties": {
          "ID": 135
         },
         "type": "Feature"
        },
        {
         "geometry": {
          "coordinates": [
           688195,
           5937325
          ],
          "type": "Point"
         },
         "properties": {
          "ID": 136
         },
         "type": "Feature"
        },
        {
         "geometry": {
          "coordinates": [
           691305,
           5938485
          ],
          "type": "Point"
         },
         "properties": {
          "ID": 137
         },
         "type": "Feature"
        },
        {
         "geometry": {
          "coordinates": [
           671315,
           5911985
          ],
          "type": "Point"
         },
         "properties": {
          "ID": 138
         },
         "type": "Feature"
        },
        {
         "geometry": {
          "coordinates": [
           678115,
           5901645
          ],
          "type": "Point"
         },
         "properties": {
          "ID": 139
         },
         "type": "Feature"
        },
        {
         "geometry": {
          "coordinates": [
           674845,
           5912205
          ],
          "type": "Point"
         },
         "properties": {
          "ID": 140
         },
         "type": "Feature"
        },
        {
         "geometry": {
          "coordinates": [
           681955,
           5945025
          ],
          "type": "Point"
         },
         "properties": {
          "ID": 141
         },
         "type": "Feature"
        },
        {
         "geometry": {
          "coordinates": [
           676105,
           5922995
          ],
          "type": "Point"
         },
         "properties": {
          "ID": 142
         },
         "type": "Feature"
        },
        {
         "geometry": {
          "coordinates": [
           671745,
           5920665
          ],
          "type": "Point"
         },
         "properties": {
          "ID": 143
         },
         "type": "Feature"
        },
        {
         "geometry": {
          "coordinates": [
           678305,
           5911745
          ],
          "type": "Point"
         },
         "properties": {
          "ID": 144
         },
         "type": "Feature"
        },
        {
         "geometry": {
          "coordinates": [
           677035,
           5897485
          ],
          "type": "Point"
         },
         "properties": {
          "ID": 145
         },
         "type": "Feature"
        },
        {
         "geometry": {
          "coordinates": [
           675975,
           5923025
          ],
          "type": "Point"
         },
         "properties": {
          "ID": 146
         },
         "type": "Feature"
        },
        {
         "geometry": {
          "coordinates": [
           693395,
           5934235
          ],
          "type": "Point"
         },
         "properties": {
          "ID": 147
         },
         "type": "Feature"
        },
        {
         "geometry": {
          "coordinates": [
           684895,
           5936595
          ],
          "type": "Point"
         },
         "properties": {
          "ID": 148
         },
         "type": "Feature"
        },
        {
         "geometry": {
          "coordinates": [
           685335,
           5915825
          ],
          "type": "Point"
         },
         "properties": {
          "ID": 149
         },
         "type": "Feature"
        },
        {
         "geometry": {
          "coordinates": [
           679545,
           5902285
          ],
          "type": "Point"
         },
         "properties": {
          "ID": 150
         },
         "type": "Feature"
        },
        {
         "geometry": {
          "coordinates": [
           678295,
           5912805
          ],
          "type": "Point"
         },
         "properties": {
          "ID": 151
         },
         "type": "Feature"
        },
        {
         "geometry": {
          "coordinates": [
           691155,
           5917535
          ],
          "type": "Point"
         },
         "properties": {
          "ID": 152
         },
         "type": "Feature"
        },
        {
         "geometry": {
          "coordinates": [
           689195,
           5938395
          ],
          "type": "Point"
         },
         "properties": {
          "ID": 153
         },
         "type": "Feature"
        },
        {
         "geometry": {
          "coordinates": [
           684995,
           5944595
          ],
          "type": "Point"
         },
         "properties": {
          "ID": 154
         },
         "type": "Feature"
        },
        {
         "geometry": {
          "coordinates": [
           693525,
           5906395
          ],
          "type": "Point"
         },
         "properties": {
          "ID": 155
         },
         "type": "Feature"
        },
        {
         "geometry": {
          "coordinates": [
           686645,
           5908295
          ],
          "type": "Point"
         },
         "properties": {
          "ID": 156
         },
         "type": "Feature"
        },
        {
         "geometry": {
          "coordinates": [
           688235,
           5913815
          ],
          "type": "Point"
         },
         "properties": {
          "ID": 157
         },
         "type": "Feature"
        },
        {
         "geometry": {
          "coordinates": [
           669075,
           5918305
          ],
          "type": "Point"
         },
         "properties": {
          "ID": 158
         },
         "type": "Feature"
        },
        {
         "geometry": {
          "coordinates": [
           677925,
           5925205
          ],
          "type": "Point"
         },
         "properties": {
          "ID": 159
         },
         "type": "Feature"
        },
        {
         "geometry": {
          "coordinates": [
           693475,
           5918425
          ],
          "type": "Point"
         },
         "properties": {
          "ID": 160
         },
         "type": "Feature"
        },
        {
         "geometry": {
          "coordinates": [
           675005,
           5910715
          ],
          "type": "Point"
         },
         "properties": {
          "ID": 161
         },
         "type": "Feature"
        },
        {
         "geometry": {
          "coordinates": [
           673895,
           5913665
          ],
          "type": "Point"
         },
         "properties": {
          "ID": 162
         },
         "type": "Feature"
        },
        {
         "geometry": {
          "coordinates": [
           683695,
           5903665
          ],
          "type": "Point"
         },
         "properties": {
          "ID": 163
         },
         "type": "Feature"
        },
        {
         "geometry": {
          "coordinates": [
           680535,
           5914215
          ],
          "type": "Point"
         },
         "properties": {
          "ID": 164
         },
         "type": "Feature"
        },
        {
         "geometry": {
          "coordinates": [
           687605,
           5933395
          ],
          "type": "Point"
         },
         "properties": {
          "ID": 165
         },
         "type": "Feature"
        },
        {
         "geometry": {
          "coordinates": [
           689125,
           5923905
          ],
          "type": "Point"
         },
         "properties": {
          "ID": 166
         },
         "type": "Feature"
        },
        {
         "geometry": {
          "coordinates": [
           680935,
           5908715
          ],
          "type": "Point"
         },
         "properties": {
          "ID": 167
         },
         "type": "Feature"
        },
        {
         "geometry": {
          "coordinates": [
           690785,
           5917925
          ],
          "type": "Point"
         },
         "properties": {
          "ID": 168
         },
         "type": "Feature"
        },
        {
         "geometry": {
          "coordinates": [
           692445,
           5934235
          ],
          "type": "Point"
         },
         "properties": {
          "ID": 169
         },
         "type": "Feature"
        },
        {
         "geometry": {
          "coordinates": [
           689775,
           5903135
          ],
          "type": "Point"
         },
         "properties": {
          "ID": 170
         },
         "type": "Feature"
        },
        {
         "geometry": {
          "coordinates": [
           687735,
           5921815
          ],
          "type": "Point"
         },
         "properties": {
          "ID": 171
         },
         "type": "Feature"
        },
        {
         "geometry": {
          "coordinates": [
           673485,
           5938095
          ],
          "type": "Point"
         },
         "properties": {
          "ID": 172
         },
         "type": "Feature"
        },
        {
         "geometry": {
          "coordinates": [
           690475,
           5938825
          ],
          "type": "Point"
         },
         "properties": {
          "ID": 173
         },
         "type": "Feature"
        },
        {
         "geometry": {
          "coordinates": [
           685985,
           5928455
          ],
          "type": "Point"
         },
         "properties": {
          "ID": 174
         },
         "type": "Feature"
        },
        {
         "geometry": {
          "coordinates": [
           676905,
           5912925
          ],
          "type": "Point"
         },
         "properties": {
          "ID": 175
         },
         "type": "Feature"
        },
        {
         "geometry": {
          "coordinates": [
           675225,
           5914185
          ],
          "type": "Point"
         },
         "properties": {
          "ID": 176
         },
         "type": "Feature"
        },
        {
         "geometry": {
          "coordinates": [
           674995,
           5920445
          ],
          "type": "Point"
         },
         "properties": {
          "ID": 177
         },
         "type": "Feature"
        },
        {
         "geometry": {
          "coordinates": [
           684185,
           5923845
          ],
          "type": "Point"
         },
         "properties": {
          "ID": 178
         },
         "type": "Feature"
        },
        {
         "geometry": {
          "coordinates": [
           687985,
           5915525
          ],
          "type": "Point"
         },
         "properties": {
          "ID": 179
         },
         "type": "Feature"
        },
        {
         "geometry": {
          "coordinates": [
           678385,
           5903435
          ],
          "type": "Point"
         },
         "properties": {
          "ID": 180
         },
         "type": "Feature"
        },
        {
         "geometry": {
          "coordinates": [
           676575,
           5929125
          ],
          "type": "Point"
         },
         "properties": {
          "ID": 181
         },
         "type": "Feature"
        },
        {
         "geometry": {
          "coordinates": [
           684435,
           5929495
          ],
          "type": "Point"
         },
         "properties": {
          "ID": 182
         },
         "type": "Feature"
        },
        {
         "geometry": {
          "coordinates": [
           672775,
           5909725
          ],
          "type": "Point"
         },
         "properties": {
          "ID": 183
         },
         "type": "Feature"
        },
        {
         "geometry": {
          "coordinates": [
           685235,
           5906955
          ],
          "type": "Point"
         },
         "properties": {
          "ID": 184
         },
         "type": "Feature"
        },
        {
         "geometry": {
          "coordinates": [
           683845,
           5913195
          ],
          "type": "Point"
         },
         "properties": {
          "ID": 185
         },
         "type": "Feature"
        },
        {
         "geometry": {
          "coordinates": [
           681035,
           5928045
          ],
          "type": "Point"
         },
         "properties": {
          "ID": 186
         },
         "type": "Feature"
        },
        {
         "geometry": {
          "coordinates": [
           672295,
           5910375
          ],
          "type": "Point"
         },
         "properties": {
          "ID": 187
         },
         "type": "Feature"
        },
        {
         "geometry": {
          "coordinates": [
           681835,
           5913055
          ],
          "type": "Point"
         },
         "properties": {
          "ID": 188
         },
         "type": "Feature"
        },
        {
         "geometry": {
          "coordinates": [
           671675,
           5916295
          ],
          "type": "Point"
         },
         "properties": {
          "ID": 189
         },
         "type": "Feature"
        },
        {
         "geometry": {
          "coordinates": [
           683935,
           5937675
          ],
          "type": "Point"
         },
         "properties": {
          "ID": 190
         },
         "type": "Feature"
        },
        {
         "geometry": {
          "coordinates": [
           677895,
           5916325
          ],
          "type": "Point"
         },
         "properties": {
          "ID": 191
         },
         "type": "Feature"
        },
        {
         "geometry": {
          "coordinates": [
           675525,
           5902885
          ],
          "type": "Point"
         },
         "properties": {
          "ID": 192
         },
         "type": "Feature"
        },
        {
         "geometry": {
          "coordinates": [
           673975,
           5937095
          ],
          "type": "Point"
         },
         "properties": {
          "ID": 193
         },
         "type": "Feature"
        },
        {
         "geometry": {
          "coordinates": [
           691675,
           5899595
          ],
          "type": "Point"
         },
         "properties": {
          "ID": 194
         },
         "type": "Feature"
        },
        {
         "geometry": {
          "coordinates": [
           672755,
           5917435
          ],
          "type": "Point"
         },
         "properties": {
          "ID": 195
         },
         "type": "Feature"
        },
        {
         "geometry": {
          "coordinates": [
           675255,
           5921755
          ],
          "type": "Point"
         },
         "properties": {
          "ID": 196
         },
         "type": "Feature"
        },
        {
         "geometry": {
          "coordinates": [
           676225,
           5934455
          ],
          "type": "Point"
         },
         "properties": {
          "ID": 197
         },
         "type": "Feature"
        },
        {
         "geometry": {
          "coordinates": [
           683935,
           5914365
          ],
          "type": "Point"
         },
         "properties": {
          "ID": 198
         },
         "type": "Feature"
        },
        {
         "geometry": {
          "coordinates": [
           684285,
           5931965
          ],
          "type": "Point"
         },
         "properties": {
          "ID": 199
         },
         "type": "Feature"
        },
        {
         "geometry": {
          "coordinates": [
           678495,
           5907405
          ],
          "type": "Point"
         },
         "properties": {
          "ID": 200
         },
         "type": "Feature"
        },
        {
         "geometry": {
          "coordinates": [
           667595,
           5912535
          ],
          "type": "Point"
         },
         "properties": {
          "ID": 201
         },
         "type": "Feature"
        },
        {
         "geometry": {
          "coordinates": [
           685145,
           5900565
          ],
          "type": "Point"
         },
         "properties": {
          "ID": 202
         },
         "type": "Feature"
        },
        {
         "geometry": {
          "coordinates": [
           695835,
           5917215
          ],
          "type": "Point"
         },
         "properties": {
          "ID": 203
         },
         "type": "Feature"
        },
        {
         "geometry": {
          "coordinates": [
           673625,
           5910045
          ],
          "type": "Point"
         },
         "properties": {
          "ID": 204
         },
         "type": "Feature"
        },
        {
         "geometry": {
          "coordinates": [
           689695,
           5919985
          ],
          "type": "Point"
         },
         "properties": {
          "ID": 205
         },
         "type": "Feature"
        },
        {
         "geometry": {
          "coordinates": [
           668475,
           5913265
          ],
          "type": "Point"
         },
         "properties": {
          "ID": 206
         },
         "type": "Feature"
        },
        {
         "geometry": {
          "coordinates": [
           670295,
           5918595
          ],
          "type": "Point"
         },
         "properties": {
          "ID": 207
         },
         "type": "Feature"
        },
        {
         "geometry": {
          "coordinates": [
           698905,
           5931555
          ],
          "type": "Point"
         },
         "properties": {
          "ID": 208
         },
         "type": "Feature"
        },
        {
         "geometry": {
          "coordinates": [
           685425,
           5945335
          ],
          "type": "Point"
         },
         "properties": {
          "ID": 209
         },
         "type": "Feature"
        },
        {
         "geometry": {
          "coordinates": [
           675995,
           5916225
          ],
          "type": "Point"
         },
         "properties": {
          "ID": 210
         },
         "type": "Feature"
        },
        {
         "geometry": {
          "coordinates": [
           670555,
           5911275
          ],
          "type": "Point"
         },
         "properties": {
          "ID": 211
         },
         "type": "Feature"
        },
        {
         "geometry": {
          "coordinates": [
           683485,
           5935315
          ],
          "type": "Point"
         },
         "properties": {
          "ID": 212
         },
         "type": "Feature"
        },
        {
         "geometry": {
          "coordinates": [
           668075,
           5908725
          ],
          "type": "Point"
         },
         "properties": {
          "ID": 213
         },
         "type": "Feature"
        },
        {
         "geometry": {
          "coordinates": [
           683185,
           5941185
          ],
          "type": "Point"
         },
         "properties": {
          "ID": 214
         },
         "type": "Feature"
        },
        {
         "geometry": {
          "coordinates": [
           687555,
           5906715
          ],
          "type": "Point"
         },
         "properties": {
          "ID": 215
         },
         "type": "Feature"
        },
        {
         "geometry": {
          "coordinates": [
           680455,
           5934515
          ],
          "type": "Point"
         },
         "properties": {
          "ID": 216
         },
         "type": "Feature"
        },
        {
         "geometry": {
          "coordinates": [
           687865,
           5915525
          ],
          "type": "Point"
         },
         "properties": {
          "ID": 217
         },
         "type": "Feature"
        },
        {
         "geometry": {
          "coordinates": [
           686515,
           5933295
          ],
          "type": "Point"
         },
         "properties": {
          "ID": 218
         },
         "type": "Feature"
        },
        {
         "geometry": {
          "coordinates": [
           670435,
           5904975
          ],
          "type": "Point"
         },
         "properties": {
          "ID": 219
         },
         "type": "Feature"
        },
        {
         "geometry": {
          "coordinates": [
           680135,
           5902955
          ],
          "type": "Point"
         },
         "properties": {
          "ID": 220
         },
         "type": "Feature"
        },
        {
         "geometry": {
          "coordinates": [
           679225,
           5920305
          ],
          "type": "Point"
         },
         "properties": {
          "ID": 221
         },
         "type": "Feature"
        },
        {
         "geometry": {
          "coordinates": [
           690425,
           5939095
          ],
          "type": "Point"
         },
         "properties": {
          "ID": 222
         },
         "type": "Feature"
        },
        {
         "geometry": {
          "coordinates": [
           689955,
           5938755
          ],
          "type": "Point"
         },
         "properties": {
          "ID": 223
         },
         "type": "Feature"
        },
        {
         "geometry": {
          "coordinates": [
           688995,
           5926415
          ],
          "type": "Point"
         },
         "properties": {
          "ID": 224
         },
         "type": "Feature"
        },
        {
         "geometry": {
          "coordinates": [
           686075,
           5927865
          ],
          "type": "Point"
         },
         "properties": {
          "ID": 225
         },
         "type": "Feature"
        },
        {
         "geometry": {
          "coordinates": [
           666745,
           5911315
          ],
          "type": "Point"
         },
         "properties": {
          "ID": 226
         },
         "type": "Feature"
        },
        {
         "geometry": {
          "coordinates": [
           677745,
           5925705
          ],
          "type": "Point"
         },
         "properties": {
          "ID": 227
         },
         "type": "Feature"
        },
        {
         "geometry": {
          "coordinates": [
           683715,
           5898515
          ],
          "type": "Point"
         },
         "properties": {
          "ID": 228
         },
         "type": "Feature"
        },
        {
         "geometry": {
          "coordinates": [
           691505,
           5904865
          ],
          "type": "Point"
         },
         "properties": {
          "ID": 229
         },
         "type": "Feature"
        },
        {
         "geometry": {
          "coordinates": [
           668885,
           5913135
          ],
          "type": "Point"
         },
         "properties": {
          "ID": 230
         },
         "type": "Feature"
        },
        {
         "geometry": {
          "coordinates": [
           675965,
           5908335
          ],
          "type": "Point"
         },
         "properties": {
          "ID": 231
         },
         "type": "Feature"
        },
        {
         "geometry": {
          "coordinates": [
           684835,
           5912735
          ],
          "type": "Point"
         },
         "properties": {
          "ID": 232
         },
         "type": "Feature"
        },
        {
         "geometry": {
          "coordinates": [
           674575,
           5910585
          ],
          "type": "Point"
         },
         "properties": {
          "ID": 233
         },
         "type": "Feature"
        },
        {
         "geometry": {
          "coordinates": [
           682285,
           5901695
          ],
          "type": "Point"
         },
         "properties": {
          "ID": 234
         },
         "type": "Feature"
        },
        {
         "geometry": {
          "coordinates": [
           680535,
           5933945
          ],
          "type": "Point"
         },
         "properties": {
          "ID": 235
         },
         "type": "Feature"
        },
        {
         "geometry": {
          "coordinates": [
           680635,
           5900615
          ],
          "type": "Point"
         },
         "properties": {
          "ID": 236
         },
         "type": "Feature"
        },
        {
         "geometry": {
          "coordinates": [
           688845,
           5901055
          ],
          "type": "Point"
         },
         "properties": {
          "ID": 237
         },
         "type": "Feature"
        },
        {
         "geometry": {
          "coordinates": [
           693265,
           5900475
          ],
          "type": "Point"
         },
         "properties": {
          "ID": 238
         },
         "type": "Feature"
        },
        {
         "geometry": {
          "coordinates": [
           681475,
           5919635
          ],
          "type": "Point"
         },
         "properties": {
          "ID": 239
         },
         "type": "Feature"
        },
        {
         "geometry": {
          "coordinates": [
           674925,
           5900375
          ],
          "type": "Point"
         },
         "properties": {
          "ID": 240
         },
         "type": "Feature"
        },
        {
         "geometry": {
          "coordinates": [
           685445,
           5915745
          ],
          "type": "Point"
         },
         "properties": {
          "ID": 241
         },
         "type": "Feature"
        },
        {
         "geometry": {
          "coordinates": [
           672275,
           5902455
          ],
          "type": "Point"
         },
         "properties": {
          "ID": 242
         },
         "type": "Feature"
        },
        {
         "geometry": {
          "coordinates": [
           689825,
           5916955
          ],
          "type": "Point"
         },
         "properties": {
          "ID": 243
         },
         "type": "Feature"
        },
        {
         "geometry": {
          "coordinates": [
           679385,
           5897815
          ],
          "type": "Point"
         },
         "properties": {
          "ID": 244
         },
         "type": "Feature"
        },
        {
         "geometry": {
          "coordinates": [
           670165,
           5912045
          ],
          "type": "Point"
         },
         "properties": {
          "ID": 245
         },
         "type": "Feature"
        },
        {
         "geometry": {
          "coordinates": [
           685975,
           5937995
          ],
          "type": "Point"
         },
         "properties": {
          "ID": 246
         },
         "type": "Feature"
        },
        {
         "geometry": {
          "coordinates": [
           674625,
           5920595
          ],
          "type": "Point"
         },
         "properties": {
          "ID": 247
         },
         "type": "Feature"
        },
        {
         "geometry": {
          "coordinates": [
           679615,
           5925895
          ],
          "type": "Point"
         },
         "properties": {
          "ID": 248
         },
         "type": "Feature"
        },
        {
         "geometry": {
          "coordinates": [
           683125,
           5942665
          ],
          "type": "Point"
         },
         "properties": {
          "ID": 249
         },
         "type": "Feature"
        },
        {
         "geometry": {
          "coordinates": [
           669185,
           5915415
          ],
          "type": "Point"
         },
         "properties": {
          "ID": 250
         },
         "type": "Feature"
        },
        {
         "geometry": {
          "coordinates": [
           686985,
           5907975
          ],
          "type": "Point"
         },
         "properties": {
          "ID": 251
         },
         "type": "Feature"
        },
        {
         "geometry": {
          "coordinates": [
           678555,
           5897635
          ],
          "type": "Point"
         },
         "properties": {
          "ID": 252
         },
         "type": "Feature"
        },
        {
         "geometry": {
          "coordinates": [
           677325,
           5915795
          ],
          "type": "Point"
         },
         "properties": {
          "ID": 253
         },
         "type": "Feature"
        },
        {
         "geometry": {
          "coordinates": [
           683495,
           5944025
          ],
          "type": "Point"
         },
         "properties": {
          "ID": 254
         },
         "type": "Feature"
        },
        {
         "geometry": {
          "coordinates": [
           675135,
           5920215
          ],
          "type": "Point"
         },
         "properties": {
          "ID": 255
         },
         "type": "Feature"
        },
        {
         "geometry": {
          "coordinates": [
           673525,
           5936595
          ],
          "type": "Point"
         },
         "properties": {
          "ID": 256
         },
         "type": "Feature"
        },
        {
         "geometry": {
          "coordinates": [
           681945,
           5900845
          ],
          "type": "Point"
         },
         "properties": {
          "ID": 257
         },
         "type": "Feature"
        },
        {
         "geometry": {
          "coordinates": [
           677115,
           5927785
          ],
          "type": "Point"
         },
         "properties": {
          "ID": 258
         },
         "type": "Feature"
        },
        {
         "geometry": {
          "coordinates": [
           688275,
           5917215
          ],
          "type": "Point"
         },
         "properties": {
          "ID": 259
         },
         "type": "Feature"
        },
        {
         "geometry": {
          "coordinates": [
           672335,
           5907265
          ],
          "type": "Point"
         },
         "properties": {
          "ID": 260
         },
         "type": "Feature"
        },
        {
         "geometry": {
          "coordinates": [
           674735,
           5907805
          ],
          "type": "Point"
         },
         "properties": {
          "ID": 261
         },
         "type": "Feature"
        },
        {
         "geometry": {
          "coordinates": [
           680655,
           5910765
          ],
          "type": "Point"
         },
         "properties": {
          "ID": 262
         },
         "type": "Feature"
        },
        {
         "geometry": {
          "coordinates": [
           686615,
           5903465
          ],
          "type": "Point"
         },
         "properties": {
          "ID": 263
         },
         "type": "Feature"
        },
        {
         "geometry": {
          "coordinates": [
           671505,
           5918405
          ],
          "type": "Point"
         },
         "properties": {
          "ID": 264
         },
         "type": "Feature"
        },
        {
         "geometry": {
          "coordinates": [
           690525,
           5903325
          ],
          "type": "Point"
         },
         "properties": {
          "ID": 265
         },
         "type": "Feature"
        },
        {
         "geometry": {
          "coordinates": [
           685775,
           5945275
          ],
          "type": "Point"
         },
         "properties": {
          "ID": 266
         },
         "type": "Feature"
        },
        {
         "geometry": {
          "coordinates": [
           667115,
           5912555
          ],
          "type": "Point"
         },
         "properties": {
          "ID": 267
         },
         "type": "Feature"
        },
        {
         "geometry": {
          "coordinates": [
           674585,
           5909015
          ],
          "type": "Point"
         },
         "properties": {
          "ID": 268
         },
         "type": "Feature"
        },
        {
         "geometry": {
          "coordinates": [
           685885,
           5904335
          ],
          "type": "Point"
         },
         "properties": {
          "ID": 269
         },
         "type": "Feature"
        },
        {
         "geometry": {
          "coordinates": [
           689195,
           5902685
          ],
          "type": "Point"
         },
         "properties": {
          "ID": 270
         },
         "type": "Feature"
        },
        {
         "geometry": {
          "coordinates": [
           670275,
           5911565
          ],
          "type": "Point"
         },
         "properties": {
          "ID": 271
         },
         "type": "Feature"
        },
        {
         "geometry": {
          "coordinates": [
           664425,
           5906455
          ],
          "type": "Point"
         },
         "properties": {
          "ID": 272
         },
         "type": "Feature"
        },
        {
         "geometry": {
          "coordinates": [
           675805,
           5921395
          ],
          "type": "Point"
         },
         "properties": {
          "ID": 273
         },
         "type": "Feature"
        },
        {
         "geometry": {
          "coordinates": [
           680105,
           5913245
          ],
          "type": "Point"
         },
         "properties": {
          "ID": 274
         },
         "type": "Feature"
        },
        {
         "geometry": {
          "coordinates": [
           676855,
           5906955
          ],
          "type": "Point"
         },
         "properties": {
          "ID": 275
         },
         "type": "Feature"
        },
        {
         "geometry": {
          "coordinates": [
           667985,
           5906415
          ],
          "type": "Point"
         },
         "properties": {
          "ID": 276
         },
         "type": "Feature"
        },
        {
         "geometry": {
          "coordinates": [
           673805,
           5936955
          ],
          "type": "Point"
         },
         "properties": {
          "ID": 277
         },
         "type": "Feature"
        },
        {
         "geometry": {
          "coordinates": [
           676835,
           5934195
          ],
          "type": "Point"
         },
         "properties": {
          "ID": 278
         },
         "type": "Feature"
        },
        {
         "geometry": {
          "coordinates": [
           676965,
           5911215
          ],
          "type": "Point"
         },
         "properties": {
          "ID": 279
         },
         "type": "Feature"
        },
        {
         "geometry": {
          "coordinates": [
           674775,
           5932275
          ],
          "type": "Point"
         },
         "properties": {
          "ID": 280
         },
         "type": "Feature"
        },
        {
         "geometry": {
          "coordinates": [
           685885,
           5915415
          ],
          "type": "Point"
         },
         "properties": {
          "ID": 281
         },
         "type": "Feature"
        },
        {
         "geometry": {
          "coordinates": [
           683635,
           5904105
          ],
          "type": "Point"
         },
         "properties": {
          "ID": 282
         },
         "type": "Feature"
        },
        {
         "geometry": {
          "coordinates": [
           686115,
           5916235
          ],
          "type": "Point"
         },
         "properties": {
          "ID": 283
         },
         "type": "Feature"
        },
        {
         "geometry": {
          "coordinates": [
           685835,
           5929545
          ],
          "type": "Point"
         },
         "properties": {
          "ID": 284
         },
         "type": "Feature"
        },
        {
         "geometry": {
          "coordinates": [
           670395,
           5906425
          ],
          "type": "Point"
         },
         "properties": {
          "ID": 285
         },
         "type": "Feature"
        },
        {
         "geometry": {
          "coordinates": [
           675455,
           5908265
          ],
          "type": "Point"
         },
         "properties": {
          "ID": 286
         },
         "type": "Feature"
        },
        {
         "geometry": {
          "coordinates": [
           681785,
           5908285
          ],
          "type": "Point"
         },
         "properties": {
          "ID": 287
         },
         "type": "Feature"
        },
        {
         "geometry": {
          "coordinates": [
           685275,
           5917505
          ],
          "type": "Point"
         },
         "properties": {
          "ID": 288
         },
         "type": "Feature"
        },
        {
         "geometry": {
          "coordinates": [
           688045,
           5909125
          ],
          "type": "Point"
         },
         "properties": {
          "ID": 289
         },
         "type": "Feature"
        },
        {
         "geometry": {
          "coordinates": [
           687885,
           5925325
          ],
          "type": "Point"
         },
         "properties": {
          "ID": 290
         },
         "type": "Feature"
        },
        {
         "geometry": {
          "coordinates": [
           665895,
           5904215
          ],
          "type": "Point"
         },
         "properties": {
          "ID": 291
         },
         "type": "Feature"
        },
        {
         "geometry": {
          "coordinates": [
           668805,
           5907775
          ],
          "type": "Point"
         },
         "properties": {
          "ID": 292
         },
         "type": "Feature"
        },
        {
         "geometry": {
          "coordinates": [
           689025,
           5935145
          ],
          "type": "Point"
         },
         "properties": {
          "ID": 293
         },
         "type": "Feature"
        },
        {
         "geometry": {
          "coordinates": [
           691455,
           5919465
          ],
          "type": "Point"
         },
         "properties": {
          "ID": 294
         },
         "type": "Feature"
        },
        {
         "geometry": {
          "coordinates": [
           680735,
           5944165
          ],
          "type": "Point"
         },
         "properties": {
          "ID": 295
         },
         "type": "Feature"
        },
        {
         "geometry": {
          "coordinates": [
           674185,
           5939625
          ],
          "type": "Point"
         },
         "properties": {
          "ID": 296
         },
         "type": "Feature"
        },
        {
         "geometry": {
          "coordinates": [
           686095,
           5908945
          ],
          "type": "Point"
         },
         "properties": {
          "ID": 297
         },
         "type": "Feature"
        },
        {
         "geometry": {
          "coordinates": [
           675345,
           5907985
          ],
          "type": "Point"
         },
         "properties": {
          "ID": 298
         },
         "type": "Feature"
        },
        {
         "geometry": {
          "coordinates": [
           678215,
           5919595
          ],
          "type": "Point"
         },
         "properties": {
          "ID": 299
         },
         "type": "Feature"
        },
        {
         "geometry": {
          "coordinates": [
           677605,
           5938145
          ],
          "type": "Point"
         },
         "properties": {
          "ID": 300
         },
         "type": "Feature"
        },
        {
         "geometry": {
          "coordinates": [
           673495,
           5923855
          ],
          "type": "Point"
         },
         "properties": {
          "ID": 301
         },
         "type": "Feature"
        },
        {
         "geometry": {
          "coordinates": [
           681925,
           5938105
          ],
          "type": "Point"
         },
         "properties": {
          "ID": 302
         },
         "type": "Feature"
        },
        {
         "geometry": {
          "coordinates": [
           672875,
           5935265
          ],
          "type": "Point"
         },
         "properties": {
          "ID": 303
         },
         "type": "Feature"
        },
        {
         "geometry": {
          "coordinates": [
           677795,
           5921555
          ],
          "type": "Point"
         },
         "properties": {
          "ID": 304
         },
         "type": "Feature"
        },
        {
         "geometry": {
          "coordinates": [
           680825,
           5938845
          ],
          "type": "Point"
         },
         "properties": {
          "ID": 305
         },
         "type": "Feature"
        },
        {
         "geometry": {
          "coordinates": [
           684225,
           5913615
          ],
          "type": "Point"
         },
         "properties": {
          "ID": 306
         },
         "type": "Feature"
        },
        {
         "geometry": {
          "coordinates": [
           675605,
           5914875
          ],
          "type": "Point"
         },
         "properties": {
          "ID": 307
         },
         "type": "Feature"
        },
        {
         "geometry": {
          "coordinates": [
           667985,
           5907975
          ],
          "type": "Point"
         },
         "properties": {
          "ID": 308
         },
         "type": "Feature"
        },
        {
         "geometry": {
          "coordinates": [
           685935,
           5906245
          ],
          "type": "Point"
         },
         "properties": {
          "ID": 309
         },
         "type": "Feature"
        },
        {
         "geometry": {
          "coordinates": [
           681475,
           5935205
          ],
          "type": "Point"
         },
         "properties": {
          "ID": 310
         },
         "type": "Feature"
        },
        {
         "geometry": {
          "coordinates": [
           678315,
           5912875
          ],
          "type": "Point"
         },
         "properties": {
          "ID": 311
         },
         "type": "Feature"
        },
        {
         "geometry": {
          "coordinates": [
           677865,
           5921655
          ],
          "type": "Point"
         },
         "properties": {
          "ID": 312
         },
         "type": "Feature"
        },
        {
         "geometry": {
          "coordinates": [
           683795,
           5945995
          ],
          "type": "Point"
         },
         "properties": {
          "ID": 313
         },
         "type": "Feature"
        },
        {
         "geometry": {
          "coordinates": [
           678485,
           5902215
          ],
          "type": "Point"
         },
         "properties": {
          "ID": 314
         },
         "type": "Feature"
        },
        {
         "geometry": {
          "coordinates": [
           689355,
           5939185
          ],
          "type": "Point"
         },
         "properties": {
          "ID": 315
         },
         "type": "Feature"
        },
        {
         "geometry": {
          "coordinates": [
           685265,
           5904725
          ],
          "type": "Point"
         },
         "properties": {
          "ID": 316
         },
         "type": "Feature"
        },
        {
         "geometry": {
          "coordinates": [
           686385,
           5906145
          ],
          "type": "Point"
         },
         "properties": {
          "ID": 317
         },
         "type": "Feature"
        },
        {
         "geometry": {
          "coordinates": [
           679095,
           5910885
          ],
          "type": "Point"
         },
         "properties": {
          "ID": 318
         },
         "type": "Feature"
        },
        {
         "geometry": {
          "coordinates": [
           673295,
           5934645
          ],
          "type": "Point"
         },
         "properties": {
          "ID": 319
         },
         "type": "Feature"
        },
        {
         "geometry": {
          "coordinates": [
           685375,
           5940935
          ],
          "type": "Point"
         },
         "properties": {
          "ID": 320
         },
         "type": "Feature"
        },
        {
         "geometry": {
          "coordinates": [
           683725,
           5934405
          ],
          "type": "Point"
         },
         "properties": {
          "ID": 321
         },
         "type": "Feature"
        },
        {
         "geometry": {
          "coordinates": [
           682655,
           5914335
          ],
          "type": "Point"
         },
         "properties": {
          "ID": 322
         },
         "type": "Feature"
        },
        {
         "geometry": {
          "coordinates": [
           675335,
           5923505
          ],
          "type": "Point"
         },
         "properties": {
          "ID": 323
         },
         "type": "Feature"
        },
        {
         "geometry": {
          "coordinates": [
           689805,
           5935095
          ],
          "type": "Point"
         },
         "properties": {
          "ID": 324
         },
         "type": "Feature"
        },
        {
         "geometry": {
          "coordinates": [
           677215,
           5898445
          ],
          "type": "Point"
         },
         "properties": {
          "ID": 325
         },
         "type": "Feature"
        },
        {
         "geometry": {
          "coordinates": [
           690515,
           5903405
          ],
          "type": "Point"
         },
         "properties": {
          "ID": 326
         },
         "type": "Feature"
        },
        {
         "geometry": {
          "coordinates": [
           670335,
           5911285
          ],
          "type": "Point"
         },
         "properties": {
          "ID": 327
         },
         "type": "Feature"
        },
        {
         "geometry": {
          "coordinates": [
           691225,
           5901135
          ],
          "type": "Point"
         },
         "properties": {
          "ID": 328
         },
         "type": "Feature"
        },
        {
         "geometry": {
          "coordinates": [
           683135,
           5920425
          ],
          "type": "Point"
         },
         "properties": {
          "ID": 329
         },
         "type": "Feature"
        },
        {
         "geometry": {
          "coordinates": [
           678835,
           5936305
          ],
          "type": "Point"
         },
         "properties": {
          "ID": 330
         },
         "type": "Feature"
        },
        {
         "geometry": {
          "coordinates": [
           673755,
           5936395
          ],
          "type": "Point"
         },
         "properties": {
          "ID": 331
         },
         "type": "Feature"
        },
        {
         "geometry": {
          "coordinates": [
           681455,
           5934355
          ],
          "type": "Point"
         },
         "properties": {
          "ID": 332
         },
         "type": "Feature"
        },
        {
         "geometry": {
          "coordinates": [
           668265,
           5907725
          ],
          "type": "Point"
         },
         "properties": {
          "ID": 333
         },
         "type": "Feature"
        },
        {
         "geometry": {
          "coordinates": [
           677685,
           5904065
          ],
          "type": "Point"
         },
         "properties": {
          "ID": 334
         },
         "type": "Feature"
        },
        {
         "geometry": {
          "coordinates": [
           680175,
           5933305
          ],
          "type": "Point"
         },
         "properties": {
          "ID": 335
         },
         "type": "Feature"
        },
        {
         "geometry": {
          "coordinates": [
           681265,
           5929995
          ],
          "type": "Point"
         },
         "properties": {
          "ID": 336
         },
         "type": "Feature"
        },
        {
         "geometry": {
          "coordinates": [
           678945,
           5898935
          ],
          "type": "Point"
         },
         "properties": {
          "ID": 337
         },
         "type": "Feature"
        },
        {
         "geometry": {
          "coordinates": [
           686735,
           5933215
          ],
          "type": "Point"
         },
         "properties": {
          "ID": 338
         },
         "type": "Feature"
        },
        {
         "geometry": {
          "coordinates": [
           676105,
           5909895
          ],
          "type": "Point"
         },
         "properties": {
          "ID": 339
         },
         "type": "Feature"
        },
        {
         "geometry": {
          "coordinates": [
           673925,
           5901545
          ],
          "type": "Point"
         },
         "properties": {
          "ID": 340
         },
         "type": "Feature"
        },
        {
         "geometry": {
          "coordinates": [
           665115,
           5908715
          ],
          "type": "Point"
         },
         "properties": {
          "ID": 341
         },
         "type": "Feature"
        },
        {
         "geometry": {
          "coordinates": [
           685675,
           5914085
          ],
          "type": "Point"
         },
         "properties": {
          "ID": 342
         },
         "type": "Feature"
        },
        {
         "geometry": {
          "coordinates": [
           687255,
           5919955
          ],
          "type": "Point"
         },
         "properties": {
          "ID": 343
         },
         "type": "Feature"
        },
        {
         "geometry": {
          "coordinates": [
           677725,
           5898245
          ],
          "type": "Point"
         },
         "properties": {
          "ID": 344
         },
         "type": "Feature"
        },
        {
         "geometry": {
          "coordinates": [
           675855,
           5912665
          ],
          "type": "Point"
         },
         "properties": {
          "ID": 345
         },
         "type": "Feature"
        },
        {
         "geometry": {
          "coordinates": [
           682005,
           5926665
          ],
          "type": "Point"
         },
         "properties": {
          "ID": 346
         },
         "type": "Feature"
        },
        {
         "geometry": {
          "coordinates": [
           677215,
           5937445
          ],
          "type": "Point"
         },
         "properties": {
          "ID": 347
         },
         "type": "Feature"
        },
        {
         "geometry": {
          "coordinates": [
           675665,
           5933835
          ],
          "type": "Point"
         },
         "properties": {
          "ID": 348
         },
         "type": "Feature"
        },
        {
         "geometry": {
          "coordinates": [
           676655,
           5910835
          ],
          "type": "Point"
         },
         "properties": {
          "ID": 349
         },
         "type": "Feature"
        },
        {
         "geometry": {
          "coordinates": [
           678955,
           5920265
          ],
          "type": "Point"
         },
         "properties": {
          "ID": 350
         },
         "type": "Feature"
        },
        {
         "geometry": {
          "coordinates": [
           670705,
           5914335
          ],
          "type": "Point"
         },
         "properties": {
          "ID": 351
         },
         "type": "Feature"
        },
        {
         "geometry": {
          "coordinates": [
           678555,
           5897715
          ],
          "type": "Point"
         },
         "properties": {
          "ID": 352
         },
         "type": "Feature"
        },
        {
         "geometry": {
          "coordinates": [
           682005,
           5931355
          ],
          "type": "Point"
         },
         "properties": {
          "ID": 353
         },
         "type": "Feature"
        },
        {
         "geometry": {
          "coordinates": [
           681635,
           5901295
          ],
          "type": "Point"
         },
         "properties": {
          "ID": 354
         },
         "type": "Feature"
        },
        {
         "geometry": {
          "coordinates": [
           685785,
           5914705
          ],
          "type": "Point"
         },
         "properties": {
          "ID": 355
         },
         "type": "Feature"
        },
        {
         "geometry": {
          "coordinates": [
           677265,
           5901015
          ],
          "type": "Point"
         },
         "properties": {
          "ID": 356
         },
         "type": "Feature"
        },
        {
         "geometry": {
          "coordinates": [
           690485,
           5927855
          ],
          "type": "Point"
         },
         "properties": {
          "ID": 357
         },
         "type": "Feature"
        },
        {
         "geometry": {
          "coordinates": [
           686485,
           5918365
          ],
          "type": "Point"
         },
         "properties": {
          "ID": 358
         },
         "type": "Feature"
        },
        {
         "geometry": {
          "coordinates": [
           673095,
           5900535
          ],
          "type": "Point"
         },
         "properties": {
          "ID": 359
         },
         "type": "Feature"
        },
        {
         "geometry": {
          "coordinates": [
           674315,
           5911585
          ],
          "type": "Point"
         },
         "properties": {
          "ID": 360
         },
         "type": "Feature"
        },
        {
         "geometry": {
          "coordinates": [
           685655,
           5914935
          ],
          "type": "Point"
         },
         "properties": {
          "ID": 361
         },
         "type": "Feature"
        },
        {
         "geometry": {
          "coordinates": [
           679945,
           5926325
          ],
          "type": "Point"
         },
         "properties": {
          "ID": 362
         },
         "type": "Feature"
        },
        {
         "geometry": {
          "coordinates": [
           682765,
           5933305
          ],
          "type": "Point"
         },
         "properties": {
          "ID": 363
         },
         "type": "Feature"
        },
        {
         "geometry": {
          "coordinates": [
           681235,
           5910735
          ],
          "type": "Point"
         },
         "properties": {
          "ID": 364
         },
         "type": "Feature"
        },
        {
         "geometry": {
          "coordinates": [
           685075,
           5915895
          ],
          "type": "Point"
         },
         "properties": {
          "ID": 365
         },
         "type": "Feature"
        },
        {
         "geometry": {
          "coordinates": [
           676915,
           5920405
          ],
          "type": "Point"
         },
         "properties": {
          "ID": 366
         },
         "type": "Feature"
        },
        {
         "geometry": {
          "coordinates": [
           681875,
           5930005
          ],
          "type": "Point"
         },
         "properties": {
          "ID": 367
         },
         "type": "Feature"
        },
        {
         "geometry": {
          "coordinates": [
           686055,
           5917695
          ],
          "type": "Point"
         },
         "properties": {
          "ID": 368
         },
         "type": "Feature"
        },
        {
         "geometry": {
          "coordinates": [
           670725,
           5911505
          ],
          "type": "Point"
         },
         "properties": {
          "ID": 369
         },
         "type": "Feature"
        },
        {
         "geometry": {
          "coordinates": [
           684635,
           5916445
          ],
          "type": "Point"
         },
         "properties": {
          "ID": 370
         },
         "type": "Feature"
        },
        {
         "geometry": {
          "coordinates": [
           677635,
           5911255
          ],
          "type": "Point"
         },
         "properties": {
          "ID": 371
         },
         "type": "Feature"
        },
        {
         "geometry": {
          "coordinates": [
           677915,
           5896315
          ],
          "type": "Point"
         },
         "properties": {
          "ID": 372
         },
         "type": "Feature"
        },
        {
         "geometry": {
          "coordinates": [
           682975,
           5900005
          ],
          "type": "Point"
         },
         "properties": {
          "ID": 373
         },
         "type": "Feature"
        },
        {
         "geometry": {
          "coordinates": [
           681155,
           5906105
          ],
          "type": "Point"
         },
         "properties": {
          "ID": 374
         },
         "type": "Feature"
        },
        {
         "geometry": {
          "coordinates": [
           687985,
           5908025
          ],
          "type": "Point"
         },
         "properties": {
          "ID": 375
         },
         "type": "Feature"
        },
        {
         "geometry": {
          "coordinates": [
           666165,
           5909555
          ],
          "type": "Point"
         },
         "properties": {
          "ID": 376
         },
         "type": "Feature"
        },
        {
         "geometry": {
          "coordinates": [
           685135,
           5910295
          ],
          "type": "Point"
         },
         "properties": {
          "ID": 377
         },
         "type": "Feature"
        },
        {
         "geometry": {
          "coordinates": [
           678475,
           5897995
          ],
          "type": "Point"
         },
         "properties": {
          "ID": 378
         },
         "type": "Feature"
        },
        {
         "geometry": {
          "coordinates": [
           674515,
           5909265
          ],
          "type": "Point"
         },
         "properties": {
          "ID": 379
         },
         "type": "Feature"
        },
        {
         "geometry": {
          "coordinates": [
           684975,
           5900405
          ],
          "type": "Point"
         },
         "properties": {
          "ID": 380
         },
         "type": "Feature"
        },
        {
         "geometry": {
          "coordinates": [
           670775,
           5914265
          ],
          "type": "Point"
         },
         "properties": {
          "ID": 381
         },
         "type": "Feature"
        },
        {
         "geometry": {
          "coordinates": [
           690115,
           5925715
          ],
          "type": "Point"
         },
         "properties": {
          "ID": 382
         },
         "type": "Feature"
        },
        {
         "geometry": {
          "coordinates": [
           681395,
           5925645
          ],
          "type": "Point"
         },
         "properties": {
          "ID": 383
         },
         "type": "Feature"
        },
        {
         "geometry": {
          "coordinates": [
           675025,
           5919105
          ],
          "type": "Point"
         },
         "properties": {
          "ID": 384
         },
         "type": "Feature"
        },
        {
         "geometry": {
          "coordinates": [
           677755,
           5908955
          ],
          "type": "Point"
         },
         "properties": {
          "ID": 385
         },
         "type": "Feature"
        },
        {
         "geometry": {
          "coordinates": [
           687655,
           5920575
          ],
          "type": "Point"
         },
         "properties": {
          "ID": 386
         },
         "type": "Feature"
        },
        {
         "geometry": {
          "coordinates": [
           669885,
           5902115
          ],
          "type": "Point"
         },
         "properties": {
          "ID": 387
         },
         "type": "Feature"
        },
        {
         "geometry": {
          "coordinates": [
           673535,
           5911225
          ],
          "type": "Point"
         },
         "properties": {
          "ID": 388
         },
         "type": "Feature"
        },
        {
         "geometry": {
          "coordinates": [
           673495,
           5918875
          ],
          "type": "Point"
         },
         "properties": {
          "ID": 389
         },
         "type": "Feature"
        },
        {
         "geometry": {
          "coordinates": [
           674585,
           5936865
          ],
          "type": "Point"
         },
         "properties": {
          "ID": 390
         },
         "type": "Feature"
        },
        {
         "geometry": {
          "coordinates": [
           679665,
           5919425
          ],
          "type": "Point"
         },
         "properties": {
          "ID": 391
         },
         "type": "Feature"
        },
        {
         "geometry": {
          "coordinates": [
           683915,
           5923555
          ],
          "type": "Point"
         },
         "properties": {
          "ID": 392
         },
         "type": "Feature"
        },
        {
         "geometry": {
          "coordinates": [
           683235,
           5917895
          ],
          "type": "Point"
         },
         "properties": {
          "ID": 393
         },
         "type": "Feature"
        },
        {
         "geometry": {
          "coordinates": [
           676795,
           5908285
          ],
          "type": "Point"
         },
         "properties": {
          "ID": 394
         },
         "type": "Feature"
        },
        {
         "geometry": {
          "coordinates": [
           671385,
           5916295
          ],
          "type": "Point"
         },
         "properties": {
          "ID": 395
         },
         "type": "Feature"
        },
        {
         "geometry": {
          "coordinates": [
           679765,
           5917345
          ],
          "type": "Point"
         },
         "properties": {
          "ID": 396
         },
         "type": "Feature"
        },
        {
         "geometry": {
          "coordinates": [
           685245,
           5905675
          ],
          "type": "Point"
         },
         "properties": {
          "ID": 397
         },
         "type": "Feature"
        },
        {
         "geometry": {
          "coordinates": [
           691615,
           5907595
          ],
          "type": "Point"
         },
         "properties": {
          "ID": 398
         },
         "type": "Feature"
        },
        {
         "geometry": {
          "coordinates": [
           673885,
           5935895
          ],
          "type": "Point"
         },
         "properties": {
          "ID": 399
         },
         "type": "Feature"
        },
        {
         "geometry": {
          "coordinates": [
           685285,
           5903045
          ],
          "type": "Point"
         },
         "properties": {
          "ID": 400
         },
         "type": "Feature"
        }
       ],
       "name": "file8bc72c87882",
       "type": "FeatureCollection"
      },
      "text/plain": [
       "          coordinates  ID\n",
       "71  (674965, 5923115)   1\n",
       "321 (683365, 5907865)   2\n",
       "174 (681075, 5937115)   3\n",
       "73  (686005, 5933425)   4\n",
       "293 (675235, 5905145)   5\n",
       "226 (674015, 5910945)   6\n",
       "248 (685425, 5925665)   7\n",
       "49  (676535, 5898995)   8\n",
       "372 (687825, 5915605)   9\n",
       "398 (687865, 5911545)  10\n",
       "309 (685285, 5908955)  11\n",
       "251 (674005, 5910955)  12\n",
       "348 (686295, 5908195)  13\n",
       "98  (670065, 5916355)  14\n",
       "380 (679125, 5915625)  15\n",
       "328 (687555, 5921945)  16\n",
       "186 (671005, 5936265)  17\n",
       "280 (668255, 5915055)  18\n",
       "47  (675745, 5910465)  19\n",
       "69  (680885, 5927065)  20\n",
       "301 (690465, 5924375)  21\n",
       "285 (679735, 5911715)  22\n",
       "286 (691995, 5907645)  23\n",
       "120 (679555, 5902115)  24\n",
       "291 (681985, 5926285)  25\n",
       "8   (675775, 5899845)  26\n",
       "342 (678675, 5926655)  27\n",
       "140 (692615, 5904135)  28\n",
       "171 (671675, 5901805)  29\n",
       "163 (688475, 5901375)  30\n",
       "89  (667435, 5913695)  31\n",
       "26  (694915, 5917455)  32\n",
       "161 (677115, 5930335)  33\n",
       "132 (684445, 5910745)  34\n",
       "14  (687305, 5908985)  35\n",
       "350 (678775, 5910925)  36\n",
       "60  (686385, 5928555)  37\n",
       "109 (687215, 5906575)  38\n",
       "118 (693665, 5918115)  39\n",
       "4   (677025, 5897345)  40\n",
       "347 (677435, 5935645)  41\n",
       "197 (685635, 5921215)  42\n",
       "100 (685815, 5931755)  43\n",
       "58  (679595, 5933845)  44\n",
       "32  (678055, 5898145)  45\n",
       "337 (683755, 5908175)  46\n",
       "57  (691865, 5920955)  47\n",
       "211 (681965, 5931935)  48\n",
       "199 (686485, 5938775)  49\n",
       "44  (682025, 5925335)  50\n",
       "6   (689335, 5923385)  51\n",
       "368 (675565, 5902765)  52\n",
       "31  (675655, 5899835)  53\n",
       "336 (691395, 5920845)  54\n",
       "66  (683025, 5930925)  55\n",
       "311 (691225, 5905685)  56\n",
       "330 (671295, 5910035)  57\n",
       "144 (674735, 5900835)  58\n",
       "160 (697785, 5930615)  59\n",
       "36  (690465, 5935785)  60\n",
       "101 (682685, 5920635)  61\n",
       "180 (691075, 5924705)  62\n",
       "77  (693035, 5934565)  63\n",
       "122 (685775, 5910865)  64\n",
       "323 (686315, 5903795)  65\n",
       "135 (680765, 5901455)  66\n",
       "369 (678245, 5913275)  67\n",
       "157 (690725, 5901755)  68\n",
       "302 (677905, 5910865)  69\n",
       "381 (666995, 5915295)  70\n",
       "333 (682725, 5919675)  71\n",
       "38  (684935, 5905035)  72\n",
       "341 (692645, 5938815)  73\n",
       "375 (697415, 5930245)  74\n",
       "383 (673955, 5915715)  75\n",
       "139 (688565, 5923085)  76\n",
       "128 (686545, 5918515)  77\n",
       "387 (675155, 5919555)  78\n",
       "207 (677045, 5905425)  79\n",
       "103 (683715, 5902105)  80\n",
       "233 (679265, 5917405)  81\n",
       "313 (682925, 5905495)  82\n",
       "176 (685465, 5902835)  83\n",
       "295 (689165, 5925355)  84\n",
       "24  (677185, 5896255)  85\n",
       "166 (677375, 5900915)  86\n",
       "188 (679045, 5940365)  87\n",
       "357 (684245, 5914045)  88\n",
       "319 (690565, 5919785)  89\n",
       "67  (679865, 5938125)  90\n",
       "90  (686135, 5926685)  91\n",
       "365 (685435, 5915675)  92\n",
       "297 (680015, 5913405)  93\n",
       "396 (686635, 5929395)  94\n",
       "292 (685005, 5918565)  95\n",
       "124 (688735, 5907265)  96\n",
       "388 (681455, 5909645)  97\n",
       "87  (690585, 5940085)  98\n",
       "392 (682595, 5911855)  99\n",
       "239 (685665, 5942825) 100\n",
       "179 (674445, 5938755) 101\n",
       "271 (679225, 5913235) 102\n",
       "326 (675025, 5917635) 103\n",
       "18  (682605, 5899315) 104\n",
       "9   (686605, 5904265) 105\n",
       "263 (673495, 5920375) 106\n",
       "149 (683815, 5904495) 107\n",
       "50  (676755, 5899675) 108\n",
       "43  (689195, 5904595) 109\n",
       "70  (690965, 5937525) 110\n",
       "55  (685395, 5931985) 111\n",
       "352 (683915, 5915815) 112\n",
       "106 (674025, 5901405) 113\n",
       "203 (684415, 5928215) 114\n",
       "210 (693675, 5906905) 115\n",
       "56  (676745, 5933235) 116\n",
       "364 (692165, 5900665) 117\n",
       "224 (665835, 5910205) 118\n",
       "76  (686735, 5939795) 119\n",
       "84  (682165, 5937285) 120\n",
       "141 (695595, 5918995) 121\n",
       "222 (674205, 5913315) 122\n",
       "354 (685655, 5915875) 123\n",
       "34  (691175, 5901185) 124\n",
       "88  (686855, 5912815) 125\n",
       "85  (678865, 5933905) 126\n",
       "278 (687815, 5916275) 127\n",
       "193 (691045, 5929695) 128\n",
       "209 (680795, 5925675) 129\n",
       "379 (687495, 5917505) 130\n",
       "148 (679495, 5897545) 131\n",
       "17  (681385, 5899925) 132\n",
       "65  (673285, 5923485) 133\n",
       "136 (683855, 5902015) 134\n",
       "397 (673365, 5901745) 135\n",
       "64  (688195, 5937325) 136\n",
       "68  (691305, 5938485) 137\n",
       "266 (671315, 5911985) 138\n",
       "2   (678115, 5901645) 139\n",
       "223 (674845, 5912205) 140\n",
       "59  (681955, 5945025) 141\n",
       "351 (676105, 5922995) 142\n",
       "238 (671745, 5920665) 143\n",
       "267 (678305, 5911745) 144\n",
       "33  (677035, 5897485) 145\n",
       "353 (675975, 5923025) 146\n",
       "327 (693395, 5934235) 147\n",
       "177 (684895, 5936595) 148\n",
       "400 (685335, 5915825) 149\n",
       "363 (679545, 5902285) 150\n",
       "41  (678295, 5912805) 151\n",
       "260 (691155, 5917535) 152\n",
       "334 (689195, 5938395) 153\n",
       "281 (684995, 5944595) 154\n",
       "137 (693525, 5906395) 155\n",
       "282 (686645, 5908295) 156\n",
       "279 (688235, 5913815) 157\n",
       "187 (669075, 5918305) 158\n",
       "92  (677925, 5925205) 159\n",
       "164 (693475, 5918425) 160\n",
       "79  (675005, 5910715) 161\n",
       "127 (673895, 5913665) 162\n",
       "125 (683695, 5903665) 163\n",
       "220 (680535, 5914215) 164\n",
       "194 (687605, 5933395) 165\n",
       "178 (689125, 5923905) 166\n",
       "391 (680935, 5908715) 167\n",
       "93  (690785, 5917925) 168\n",
       "230 (692445, 5934235) 169\n",
       "259 (689775, 5903135) 170\n",
       "114 (687735, 5921815) 171\n",
       "82  (673485, 5938095) 172\n",
       "16  (690475, 5938825) 173\n",
       "143 (685985, 5928455) 174\n",
       "228 (676905, 5912925) 175\n",
       "314 (675225, 5914185) 176\n",
       "213 (674995, 5920445) 177\n",
       "167 (684185, 5923845) 178\n",
       "376 (687985, 5915525) 179\n",
       "385 (678385, 5903435) 180\n",
       "189 (676575, 5929125) 181\n",
       "307 (684435, 5929495) 182\n",
       "290 (672775, 5909725) 183\n",
       "153 (685235, 5906955) 184\n",
       "253 (683845, 5913195) 185\n",
       "332 (681035, 5928045) 186\n",
       "384 (672295, 5910375) 187\n",
       "331 (681835, 5913055) 188\n",
       "107 (671675, 5916295) 189\n",
       "54  (683935, 5937675) 190\n",
       "133 (677895, 5916325) 191\n",
       "356 (675525, 5902885) 192\n",
       "358 (673975, 5937095) 193\n",
       "214 (691675, 5899595) 194\n",
       "345 (672755, 5917435) 195\n",
       "339 (675255, 5921755) 196\n",
       "227 (676225, 5934455) 197\n",
       "361 (683935, 5914365) 198\n",
       "190 (684285, 5931965) 199\n",
       "349 (678495, 5907405) 200\n",
       "306 (667595, 5912535) 201\n",
       "172 (685145, 5900565) 202\n",
       "5   (695835, 5917215) 203\n",
       "158 (673625, 5910045) 204\n",
       "235 (689695, 5919985) 205\n",
       "51  (668475, 5913265) 206\n",
       "215 (670295, 5918595) 207\n",
       "200 (698905, 5931555) 208\n",
       "75  (685425, 5945335) 209\n",
       "394 (675995, 5916225) 210\n",
       "208 (670555, 5911275) 211\n",
       "99  (683485, 5935315) 212\n",
       "204 (668075, 5908725) 213\n",
       "80  (683185, 5941185) 214\n",
       "395 (687555, 5906715) 215\n",
       "83  (680455, 5934515) 216\n",
       "378 (687865, 5915525) 217\n",
       "152 (686515, 5933295) 218\n",
       "196 (670435, 5904975) 219\n",
       "146 (680135, 5902955) 220\n",
       "269 (679225, 5920305) 221\n",
       "110 (690425, 5939095) 222\n",
       "151 (689955, 5938755) 223\n",
       "147 (688995, 5926415) 224\n",
       "296 (686075, 5927865) 225\n",
       "270 (666745, 5911315) 226\n",
       "242 (677745, 5925705) 227\n",
       "20  (683715, 5898515) 228\n",
       "294 (691505, 5904865) 229\n",
       "129 (668885, 5913135) 230\n",
       "218 (675965, 5908335) 231\n",
       "308 (684835, 5912735) 232\n",
       "289 (674575, 5910585) 233\n",
       "362 (682285, 5901695) 234\n",
       "52  (680535, 5933945) 235\n",
       "35  (680635, 5900615) 236\n",
       "182 (688845, 5901055) 237\n",
       "91  (693265, 5900475) 238\n",
       "185 (681475, 5919635) 239\n",
       "366 (674925, 5900375) 240\n",
       "374 (685445, 5915745) 241\n",
       "130 (672275, 5902455) 242\n",
       "249 (689825, 5916955) 243\n",
       "42  (679385, 5897815) 244\n",
       "287 (670165, 5912045) 245\n",
       "72  (685975, 5937995) 246\n",
       "322 (674625, 5920595) 247\n",
       "170 (679615, 5925895) 248\n",
       "198 (683125, 5942665) 249\n",
       "86  (669185, 5915415) 250\n",
       "298 (686985, 5907975) 251\n",
       "13  (678555, 5897635) 252\n",
       "145 (677325, 5915795) 253\n",
       "318 (683495, 5944025) 254\n",
       "40  (675135, 5920215) 255\n",
       "399 (673525, 5936595) 256\n",
       "29  (681945, 5900845) 257\n",
       "78  (677115, 5927785) 258\n",
       "134 (688275, 5917215) 259\n",
       "300 (672335, 5907265) 260\n",
       "386 (674735, 5907805) 261\n",
       "343 (680655, 5910765) 262\n",
       "168 (686615, 5903465) 263\n",
       "276 (671505, 5918405) 264\n",
       "247 (690525, 5903325) 265\n",
       "63  (685775, 5945275) 266\n",
       "310 (667115, 5912555) 267\n",
       "216 (674585, 5909015) 268\n",
       "340 (685885, 5904335) 269\n",
       "1   (689195, 5902685) 270\n",
       "61  (670275, 5911565) 271\n",
       "229 (664425, 5906455) 272\n",
       "236 (675805, 5921395) 273\n",
       "273 (680105, 5913245) 274\n",
       "138 (676855, 5906955) 275\n",
       "283 (667985, 5906415) 276\n",
       "377 (673805, 5936955) 277\n",
       "155 (676835, 5934195) 278\n",
       "142 (676965, 5911215) 279\n",
       "53  (674775, 5932275) 280\n",
       "371 (685885, 5915415) 281\n",
       "112 (683635, 5904105) 282\n",
       "108 (686115, 5916235) 283\n",
       "159 (685835, 5929545) 284\n",
       "320 (670395, 5906425) 285\n",
       "240 (675455, 5908265) 286\n",
       "252 (681785, 5908285) 287\n",
       "102 (685275, 5917505) 288\n",
       "231 (688045, 5909125) 289\n",
       "126 (687885, 5925325) 290\n",
       "150 (665895, 5904215) 291\n",
       "7   (668805, 5907775) 292\n",
       "74  (689025, 5935145) 293\n",
       "316 (691455, 5919465) 294\n",
       "162 (680735, 5944165) 295\n",
       "116 (674185, 5939625) 296\n",
       "154 (686095, 5908945) 297\n",
       "245 (675345, 5907985) 298\n",
       "277 (678215, 5919595) 299\n",
       "94  (677605, 5938145) 300\n",
       "156 (673495, 5923855) 301\n",
       "234 (681925, 5938105) 302\n",
       "393 (672875, 5935265) 303\n",
       "30  (677795, 5921555) 304\n",
       "329 (680825, 5938845) 305\n",
       "264 (684225, 5913615) 306\n",
       "370 (675605, 5914875) 307\n",
       "21  (667985, 5907975) 308\n",
       "221 (685935, 5906245) 309\n",
       "95  (681475, 5935205) 310\n",
       "217 (678315, 5912875) 311\n",
       "169 (677865, 5921655) 312\n",
       "344 (683795, 5945995) 313\n",
       "27  (678485, 5902215) 314\n",
       "173 (689355, 5939185) 315\n",
       "254 (685265, 5904725) 316\n",
       "23  (686385, 5906145) 317\n",
       "192 (679095, 5910885) 318\n",
       "62  (673295, 5934645) 319\n",
       "367 (685375, 5940935) 320\n",
       "3   (683725, 5934405) 321\n",
       "284 (682655, 5914335) 322\n",
       "11  (675335, 5923505) 323\n",
       "175 (689805, 5935095) 324\n",
       "312 (677215, 5898445) 325\n",
       "39  (690515, 5903405) 326\n",
       "250 (670335, 5911285) 327\n",
       "131 (691225, 5901135) 328\n",
       "165 (683135, 5920425) 329\n",
       "303 (678835, 5936305) 330\n",
       "373 (673755, 5936395) 331\n",
       "184 (681455, 5934355) 332\n",
       "305 (668265, 5907725) 333\n",
       "113 (677685, 5904065) 334\n",
       "212 (680175, 5933305) 335\n",
       "115 (681265, 5929995) 336\n",
       "304 (678945, 5898935) 337\n",
       "181 (686735, 5933215) 338\n",
       "232 (676105, 5909895) 339\n",
       "119 (673925, 5901545) 340\n",
       "97  (665115, 5908715) 341\n",
       "265 (685675, 5914085) 342\n",
       "359 (687255, 5919955) 343\n",
       "15  (677725, 5898245) 344\n",
       "202 (675855, 5912665) 345\n",
       "104 (682005, 5926665) 346\n",
       "225 (677215, 5937445) 347\n",
       "81  (675665, 5933835) 348\n",
       "241 (676655, 5910835) 349\n",
       "246 (678955, 5920265) 350\n",
       "257 (670705, 5914335) 351\n",
       "12  (678555, 5897715) 352\n",
       "96  (682005, 5931355) 353\n",
       "10  (681635, 5901295) 354\n",
       "19  (685785, 5914705) 355\n",
       "111 (677265, 5901015) 356\n",
       "324 (690485, 5927855) 357\n",
       "206 (686485, 5918365) 358\n",
       "315 (673095, 5900535) 359\n",
       "299 (674315, 5911585) 360\n",
       "205 (685655, 5914935) 361\n",
       "390 (679945, 5926325) 362\n",
       "105 (682765, 5933305) 363\n",
       "261 (681235, 5910735) 364\n",
       "355 (685075, 5915895) 365\n",
       "37  (676915, 5920405) 366\n",
       "191 (681875, 5930005) 367\n",
       "256 (686055, 5917695) 368\n",
       "237 (670725, 5911505) 369\n",
       "338 (684635, 5916445) 370\n",
       "255 (677635, 5911255) 371\n",
       "46  (677915, 5896315) 372\n",
       "45  (682975, 5900005) 373\n",
       "121 (681155, 5906105) 374\n",
       "382 (687985, 5908025) 375\n",
       "219 (666165, 5909555) 376\n",
       "272 (685135, 5910295) 377\n",
       "25  (678475, 5897995) 378\n",
       "325 (674515, 5909265) 379\n",
       "183 (684975, 5900405) 380\n",
       "274 (670775, 5914265) 381\n",
       "335 (690115, 5925715) 382\n",
       "48  (681395, 5925645) 383\n",
       "317 (675025, 5919105) 384\n",
       "195 (677755, 5908955) 385\n",
       "258 (687655, 5920575) 386\n",
       "389 (669885, 5902115) 387\n",
       "268 (673535, 5911225) 388\n",
       "262 (673495, 5918875) 389\n",
       "360 (674585, 5936865) 390\n",
       "28  (679665, 5919425) 391\n",
       "275 (683915, 5923555) 392\n",
       "288 (683235, 5917895) 393\n",
       "201 (676795, 5908285) 394\n",
       "117 (671385, 5916295) 395\n",
       "243 (679765, 5917345) 396\n",
       "123 (685245, 5905675) 397\n",
       "346 (691615, 5907595) 398\n",
       "244 (673885, 5935895) 399\n",
       "22  (685285, 5903045) 400"
      ]
     },
     "metadata": {},
     "output_type": "display_data"
    }
   ],
   "source": [
    "smp.test <- smp.test[, -c(1, 2)]\n",
    "smp.test$ID <- 1:nrow(smp.test)\n",
    "smp.test"
   ]
  },
  {
   "cell_type": "markdown",
   "metadata": {},
   "source": [
    "Check the distribution of our validation points:"
   ]
  },
  {
   "cell_type": "code",
   "execution_count": 7,
   "metadata": {},
   "outputs": [
    {
     "data": {
      "image/png": "[encoded data removed]",
      "text/plain": [
       "Plot with title \"\""
      ]
     },
     "metadata": {},
     "output_type": "display_data"
    }
   ],
   "source": [
    "plot(img.classified, \n",
    "     axes = FALSE, \n",
    "     box = FALSE,\n",
    "     col = c(\"#e9eba4\",\"#D95F02\",\"#14614a\",\"#78c91c\",\"#e0d7d1\",\"#801630\",\"#de4e71\",\"#2eabf0\")\n",
    ")\n",
    "points(smp.test) "
   ]
  },
  {
   "cell_type": "markdown",
   "metadata": {},
   "source": [
    "Save the spatial point data frame smp.test as a shapefile to hard drive:"
   ]
  },
  {
   "cell_type": "code",
   "execution_count": null,
   "metadata": {},
   "outputs": [],
   "source": [
    "# shapefile(smp.test,\n",
    "#           filename = \"validation_RF.shp\",\n",
    "#           overwrite = TRUE\n",
    "# )"
   ]
  }
 ],
 "metadata": {
  "kernelspec": {
   "display_name": "R",
   "language": "R",
   "name": "ir"
  },
  "language_info": {
   "codemirror_mode": "r",
   "file_extension": ".r",
   "mimetype": "text/x-r-source",
   "name": "R",
   "pygments_lexer": "r",
   "version": "3.6.1"
  }
 },
 "nbformat": 4,
 "nbformat_minor": 4
}
