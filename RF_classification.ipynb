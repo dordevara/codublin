{
 "cells": [
  {
   "cell_type": "markdown",
   "metadata": {},
   "source": [
    "### Random Forest Classification"
   ]
  },
  {
   "cell_type": "code",
   "execution_count": 5,
   "metadata": {},
   "outputs": [],
   "source": [
    "library(raster)\n",
    "library(randomForest)\n",
    "library(rgdal)\n",
    "library(rgeos)\n",
    "set.seed(1)\n",
    "setwd(\"~/RDemo/capstone/Sentinel2data\")"
   ]
  },
  {
   "cell_type": "code",
   "execution_count": 6,
   "metadata": {},
   "outputs": [
    {
     "data": {
      "text/html": [
       "<ol class=list-inline>\n",
       "\t<li>'masked.1'</li>\n",
       "\t<li>'masked.2'</li>\n",
       "\t<li>'masked.3'</li>\n",
       "\t<li>'masked.4'</li>\n",
       "\t<li>'masked.5'</li>\n",
       "\t<li>'masked.6'</li>\n",
       "\t<li>'masked.7'</li>\n",
       "</ol>\n"
      ],
      "text/latex": [
       "\\begin{enumerate*}\n",
       "\\item 'masked.1'\n",
       "\\item 'masked.2'\n",
       "\\item 'masked.3'\n",
       "\\item 'masked.4'\n",
       "\\item 'masked.5'\n",
       "\\item 'masked.6'\n",
       "\\item 'masked.7'\n",
       "\\end{enumerate*}\n"
      ],
      "text/markdown": [
       "1. 'masked.1'\n",
       "2. 'masked.2'\n",
       "3. 'masked.3'\n",
       "4. 'masked.4'\n",
       "5. 'masked.5'\n",
       "6. 'masked.6'\n",
       "7. 'masked.7'\n",
       "\n",
       "\n"
      ],
      "text/plain": [
       "[1] \"masked.1\" \"masked.2\" \"masked.3\" \"masked.4\" \"masked.5\" \"masked.6\" \"masked.7\""
      ]
     },
     "metadata": {},
     "output_type": "display_data"
    },
    {
     "data": {
      "text/html": [
       "<ol class=list-inline>\n",
       "\t<li>'b1'</li>\n",
       "\t<li>'b2'</li>\n",
       "\t<li>'b3'</li>\n",
       "\t<li>'b4'</li>\n",
       "\t<li>'b5'</li>\n",
       "\t<li>'b6'</li>\n",
       "\t<li>'b7'</li>\n",
       "</ol>\n"
      ],
      "text/latex": [
       "\\begin{enumerate*}\n",
       "\\item 'b1'\n",
       "\\item 'b2'\n",
       "\\item 'b3'\n",
       "\\item 'b4'\n",
       "\\item 'b5'\n",
       "\\item 'b6'\n",
       "\\item 'b7'\n",
       "\\end{enumerate*}\n"
      ],
      "text/markdown": [
       "1. 'b1'\n",
       "2. 'b2'\n",
       "3. 'b3'\n",
       "4. 'b4'\n",
       "5. 'b5'\n",
       "6. 'b6'\n",
       "7. 'b7'\n",
       "\n",
       "\n"
      ],
      "text/plain": [
       "[1] \"b1\" \"b2\" \"b3\" \"b4\" \"b5\" \"b6\" \"b7\""
      ]
     },
     "metadata": {},
     "output_type": "display_data"
    }
   ],
   "source": [
    "img <- brick(\"masked.tif\")\n",
    "names(img)\n",
    "names(img) <- c(\"b1\", \"b2\", \"b3\", \"b4\", \"b5\", \"b6\", \"b7\") # change the name of the bands\n",
    "names(img)"
   ]
  },
  {
   "cell_type": "code",
   "execution_count": 7,
   "metadata": {},
   "outputs": [
    {
     "data": {
      "text/html": [
       "<table>\n",
       "<thead><tr><th scope=col>b1</th><th scope=col>b2</th><th scope=col>b3</th><th scope=col>b4</th><th scope=col>b5</th><th scope=col>b6</th><th scope=col>b7</th><th scope=col>cl</th></tr></thead>\n",
       "<tbody>\n",
       "\t<tr><td>1201</td><td> 719</td><td> 926</td><td>1212</td><td>1615</td><td>1445</td><td>1664</td><td>ind </td></tr>\n",
       "\t<tr><td>1201</td><td>1222</td><td>1382</td><td>1334</td><td>1615</td><td>1445</td><td>1664</td><td>ind </td></tr>\n",
       "\t<tr><td>1201</td><td>1282</td><td>1382</td><td>1724</td><td>1705</td><td>1923</td><td>1822</td><td>ind </td></tr>\n",
       "\t<tr><td>1201</td><td>1496</td><td>1660</td><td>1818</td><td>1705</td><td>1923</td><td>1822</td><td>ind </td></tr>\n",
       "\t<tr><td> 935</td><td> 680</td><td> 767</td><td> 784</td><td>1051</td><td>1047</td><td> 978</td><td>ind </td></tr>\n",
       "\t<tr><td> 935</td><td> 766</td><td> 748</td><td> 901</td><td>1051</td><td>1047</td><td> 978</td><td>ind </td></tr>\n",
       "</tbody>\n",
       "</table>\n"
      ],
      "text/latex": [
       "\\begin{tabular}{r|llllllll}\n",
       " b1 & b2 & b3 & b4 & b5 & b6 & b7 & cl\\\\\n",
       "\\hline\n",
       "\t 1201 &  719 &  926 & 1212 & 1615 & 1445 & 1664 & ind \\\\\n",
       "\t 1201 & 1222 & 1382 & 1334 & 1615 & 1445 & 1664 & ind \\\\\n",
       "\t 1201 & 1282 & 1382 & 1724 & 1705 & 1923 & 1822 & ind \\\\\n",
       "\t 1201 & 1496 & 1660 & 1818 & 1705 & 1923 & 1822 & ind \\\\\n",
       "\t  935 &  680 &  767 &  784 & 1051 & 1047 &  978 & ind \\\\\n",
       "\t  935 &  766 &  748 &  901 & 1051 & 1047 &  978 & ind \\\\\n",
       "\\end{tabular}\n"
      ],
      "text/markdown": [
       "\n",
       "| b1 | b2 | b3 | b4 | b5 | b6 | b7 | cl |\n",
       "|---|---|---|---|---|---|---|---|\n",
       "| 1201 |  719 |  926 | 1212 | 1615 | 1445 | 1664 | ind  |\n",
       "| 1201 | 1222 | 1382 | 1334 | 1615 | 1445 | 1664 | ind  |\n",
       "| 1201 | 1282 | 1382 | 1724 | 1705 | 1923 | 1822 | ind  |\n",
       "| 1201 | 1496 | 1660 | 1818 | 1705 | 1923 | 1822 | ind  |\n",
       "|  935 |  680 |  767 |  784 | 1051 | 1047 |  978 | ind  |\n",
       "|  935 |  766 |  748 |  901 | 1051 | 1047 |  978 | ind  |\n",
       "\n"
      ],
      "text/plain": [
       "  b1   b2   b3   b4   b5   b6   b7   cl \n",
       "1 1201  719  926 1212 1615 1445 1664 ind\n",
       "2 1201 1222 1382 1334 1615 1445 1664 ind\n",
       "3 1201 1282 1382 1724 1705 1923 1822 ind\n",
       "4 1201 1496 1660 1818 1705 1923 1822 ind\n",
       "5  935  680  767  784 1051 1047  978 ind\n",
       "6  935  766  748  901 1051 1047  978 ind"
      ]
     },
     "metadata": {},
     "output_type": "display_data"
    }
   ],
   "source": [
    "load(file=\"smp.rda\")\n",
    "head(smp)"
   ]
  },
  {
   "cell_type": "code",
   "execution_count": 8,
   "metadata": {},
   "outputs": [
    {
     "data": {
      "text/html": [
       "<dl class=dl-horizontal>\n",
       "\t<dt>b1</dt>\n",
       "\t\t<dd>0</dd>\n",
       "\t<dt>b2</dt>\n",
       "\t\t<dd>0</dd>\n",
       "\t<dt>b3</dt>\n",
       "\t\t<dd>0</dd>\n",
       "\t<dt>b4</dt>\n",
       "\t\t<dd>0</dd>\n",
       "\t<dt>b5</dt>\n",
       "\t\t<dd>0</dd>\n",
       "\t<dt>b6</dt>\n",
       "\t\t<dd>0</dd>\n",
       "\t<dt>b7</dt>\n",
       "\t\t<dd>0</dd>\n",
       "\t<dt>cl</dt>\n",
       "\t\t<dd>0</dd>\n",
       "</dl>\n"
      ],
      "text/latex": [
       "\\begin{description*}\n",
       "\\item[b1] 0\n",
       "\\item[b2] 0\n",
       "\\item[b3] 0\n",
       "\\item[b4] 0\n",
       "\\item[b5] 0\n",
       "\\item[b6] 0\n",
       "\\item[b7] 0\n",
       "\\item[cl] 0\n",
       "\\end{description*}\n"
      ],
      "text/markdown": [
       "b1\n",
       ":   0b2\n",
       ":   0b3\n",
       ":   0b4\n",
       ":   0b5\n",
       ":   0b6\n",
       ":   0b7\n",
       ":   0cl\n",
       ":   0\n",
       "\n"
      ],
      "text/plain": [
       "b1 b2 b3 b4 b5 b6 b7 cl \n",
       " 0  0  0  0  0  0  0  0 "
      ]
     },
     "metadata": {},
     "output_type": "display_data"
    }
   ],
   "source": [
    "colSums(is.na(smp)) # verify if there are NA values"
   ]
  },
  {
   "cell_type": "code",
   "execution_count": 9,
   "metadata": {},
   "outputs": [
    {
     "data": {
      "text/plain": [
       "\n",
       "   b    c    f    g  ind   rh   rl    w \n",
       "1200 2673  352  435  948  513  460  309 "
      ]
     },
     "metadata": {},
     "output_type": "display_data"
    }
   ],
   "source": [
    "table(smp$cl) # identify the number of available training samples per class"
   ]
  },
  {
   "cell_type": "markdown",
   "metadata": {},
   "source": [
    "We can see that we currently have an imbalanced data set (one class contains significantly more samples than the other). This often leads to the problem that classifiers favor and overclass those strongly-represented classes in the classification. \n",
    "In this case, we will perform an undersampling procedure (down-sizing the non-events by removing observations at random until the dataset is balanced):"
   ]
  },
  {
   "cell_type": "code",
   "execution_count": 10,
   "metadata": {},
   "outputs": [
    {
     "data": {
      "text/html": [
       "<ol class=list-inline>\n",
       "\t<li>309</li>\n",
       "\t<li>309</li>\n",
       "\t<li>309</li>\n",
       "\t<li>309</li>\n",
       "\t<li>309</li>\n",
       "\t<li>309</li>\n",
       "\t<li>309</li>\n",
       "\t<li>309</li>\n",
       "</ol>\n"
      ],
      "text/latex": [
       "\\begin{enumerate*}\n",
       "\\item 309\n",
       "\\item 309\n",
       "\\item 309\n",
       "\\item 309\n",
       "\\item 309\n",
       "\\item 309\n",
       "\\item 309\n",
       "\\item 309\n",
       "\\end{enumerate*}\n"
      ],
      "text/markdown": [
       "1. 309\n",
       "2. 309\n",
       "3. 309\n",
       "4. 309\n",
       "5. 309\n",
       "6. 309\n",
       "7. 309\n",
       "8. 309\n",
       "\n",
       "\n"
      ],
      "text/plain": [
       "[1] 309 309 309 309 309 309 309 309"
      ]
     },
     "metadata": {},
     "output_type": "display_data"
    }
   ],
   "source": [
    "smp.size <- rep(min(summary(smp$cl)), nlevels(smp$cl)) # down-sampling\n",
    "smp.size"
   ]
  },
  {
   "cell_type": "markdown",
   "metadata": {},
   "source": [
    "The complete training takes place via just one function call of tuneRF(); this fc searches for the best param setting for mtry - the number of variables available for each tree node. The number of trees to grow 250-1000 trees are usually sufficient, the more the better, but many trees will increase calculation time. We need to specify training samples as x (i.e. all columns of our smp dataframe except the last one) and the corresponding class labels as y (the last column of smp dataframe called cl):"
   ]
  },
  {
   "cell_type": "code",
   "execution_count": 11,
   "metadata": {},
   "outputs": [
    {
     "name": "stdout",
     "output_type": "stream",
     "text": [
      "mtry = 2  OOB error = 3.93% \n",
      "Searching left ...\n",
      "mtry = 1 \tOOB error = 4.37% \n",
      "-0.1107011 0.05 \n",
      "Searching right ...\n",
      "mtry = 4 \tOOB error = 3.54% \n",
      "0.099631 0.05 \n",
      "mtry = 7 \tOOB error = 3.28% \n",
      "0.07377049 0.05 \n"
     ]
    },
    {
     "data": {
      "image/png": "[encoded data removed]",
      "text/plain": [
       "plot without title"
      ]
     },
     "metadata": {},
     "output_type": "display_data"
    }
   ],
   "source": [
    "options(repr.plot.width=4, repr.plot.height=3)\n",
    "RF_model <- tuneRF(x = smp[-ncol(smp)], # specify training samples\n",
    "                   y = smp$cl,           # specify the class label\n",
    "                   sampsize = smp.size,  # define how many samples it should draw per class\n",
    "                   strata = smp$cl,      # defines the column which should use for this stratified sampling\n",
    "                   ntree = 300,          # trees to grow\n",
    "                   importance = TRUE,    # allows the subsequent assessment of the variable importance\n",
    "                   doBest = TRUE         # get the RF with the optimal mtry\n",
    ")"
   ]
  },
  {
   "cell_type": "markdown",
   "metadata": {},
   "source": [
    "Using tuneRF we automatically get the above plot about the OOB errors depending on different mtry settings the optimal mtry (the number of variables randomly sampled as candidates at each split) - here is 7"
   ]
  },
  {
   "cell_type": "code",
   "execution_count": 12,
   "metadata": {},
   "outputs": [
    {
     "data": {
      "text/plain": [
       "\n",
       "Call:\n",
       " randomForest(x = x, y = y, mtry = res[which.min(res[, 2]), 1],      strata = ..2, sampsize = ..1, importance = TRUE) \n",
       "               Type of random forest: classification\n",
       "                     Number of trees: 500\n",
       "No. of variables tried at each split: 7\n",
       "\n",
       "        OOB estimate of  error rate: 3.28%\n",
       "Confusion matrix:\n",
       "       b    c   f   g ind  rh  rl   w class.error\n",
       "b   1154    0   2   0  22  15   7   0 0.038333333\n",
       "c      0 2657   0   0   0   5  11   0 0.005985784\n",
       "f      0    0 348   0   0   0   4   0 0.011363636\n",
       "g      0    0   3 429   0   0   3   0 0.013793103\n",
       "ind   36   13   1   0 849  39  10   0 0.104430380\n",
       "rh     4    4   0   0  13 476  15   1 0.072124756\n",
       "rl     3    4   2   1   3   4 443   0 0.036956522\n",
       "w      0    0   1   0   0   0   0 308 0.003236246"
      ]
     },
     "metadata": {},
     "output_type": "display_data"
    }
   ],
   "source": [
    "RF_model # get the confusion matrix based on the training data"
   ]
  },
  {
   "cell_type": "markdown",
   "metadata": {},
   "source": [
    "The Out-of-Bag Error (Misclassification Rate) is 3.28%"
   ]
  },
  {
   "cell_type": "markdown",
   "metadata": {},
   "source": [
    "Plot the **variable importance** to identify which are the most important features to use in the classification model (here we have band 1, band 7, band 4 and band 5 showing more importance):"
   ]
  },
  {
   "cell_type": "code",
   "execution_count": 13,
   "metadata": {},
   "outputs": [
    {
     "data": {
      "image/png": "[encoded data removed]",
      "text/plain": [
       "plot without title"
      ]
     },
     "metadata": {},
     "output_type": "display_data"
    }
   ],
   "source": [
    "options(repr.plot.width=5, repr.plot.height=4)\n",
    "varImpPlot(RF_model)"
   ]
  },
  {
   "cell_type": "code",
   "execution_count": 14,
   "metadata": {},
   "outputs": [
    {
     "data": {
      "image/png": "[encoded data removed]",
      "text/plain": [
       "Plot with title \"RF_model\""
      ]
     },
     "metadata": {},
     "output_type": "display_data"
    }
   ],
   "source": [
    "options(repr.plot.width=5, repr.plot.height=4)\n",
    "plot(RF_model, col = c(\"#e9eba4\",\"#D95F02\",\"#14614a\",\"#78c91c\",\"#e0d7d1\",\"#801630\",\"#de4e71\",\"#2eabf0\"))\n",
    "# We can see a decrease in the error with increasing number of trees, where the urban classes have the highest OOB error values"
   ]
  },
  {
   "cell_type": "markdown",
   "metadata": {},
   "source": [
    "#### Manual tuning of RF model"
   ]
  },
  {
   "cell_type": "code",
   "execution_count": 15,
   "metadata": {},
   "outputs": [],
   "source": [
    "oob_error <- double(7) # similar to rep(); create double precision vectors\n",
    "test_error <- double(7)\n"
   ]
  },
  {
   "cell_type": "markdown",
   "metadata": {},
   "source": [
    "Bring image data into a data frame:"
   ]
  },
  {
   "cell_type": "code",
   "execution_count": 16,
   "metadata": {},
   "outputs": [
    {
     "data": {
      "text/html": [
       "<table>\n",
       "<thead><tr><th scope=col>b1</th><th scope=col>b2</th><th scope=col>b3</th><th scope=col>b4</th><th scope=col>b5</th><th scope=col>b6</th><th scope=col>b7</th></tr></thead>\n",
       "<tbody>\n",
       "\t<tr><td>NA</td><td>NA</td><td>NA</td><td>NA</td><td>NA</td><td>NA</td><td>NA</td></tr>\n",
       "\t<tr><td>NA</td><td>NA</td><td>NA</td><td>NA</td><td>NA</td><td>NA</td><td>NA</td></tr>\n",
       "\t<tr><td>NA</td><td>NA</td><td>NA</td><td>NA</td><td>NA</td><td>NA</td><td>NA</td></tr>\n",
       "\t<tr><td>NA</td><td>NA</td><td>NA</td><td>NA</td><td>NA</td><td>NA</td><td>NA</td></tr>\n",
       "\t<tr><td>NA</td><td>NA</td><td>NA</td><td>NA</td><td>NA</td><td>NA</td><td>NA</td></tr>\n",
       "\t<tr><td>NA</td><td>NA</td><td>NA</td><td>NA</td><td>NA</td><td>NA</td><td>NA</td></tr>\n",
       "</tbody>\n",
       "</table>\n"
      ],
      "text/latex": [
       "\\begin{tabular}{r|lllllll}\n",
       " b1 & b2 & b3 & b4 & b5 & b6 & b7\\\\\n",
       "\\hline\n",
       "\t NA & NA & NA & NA & NA & NA & NA\\\\\n",
       "\t NA & NA & NA & NA & NA & NA & NA\\\\\n",
       "\t NA & NA & NA & NA & NA & NA & NA\\\\\n",
       "\t NA & NA & NA & NA & NA & NA & NA\\\\\n",
       "\t NA & NA & NA & NA & NA & NA & NA\\\\\n",
       "\t NA & NA & NA & NA & NA & NA & NA\\\\\n",
       "\\end{tabular}\n"
      ],
      "text/markdown": [
       "\n",
       "| b1 | b2 | b3 | b4 | b5 | b6 | b7 |\n",
       "|---|---|---|---|---|---|---|\n",
       "| NA | NA | NA | NA | NA | NA | NA |\n",
       "| NA | NA | NA | NA | NA | NA | NA |\n",
       "| NA | NA | NA | NA | NA | NA | NA |\n",
       "| NA | NA | NA | NA | NA | NA | NA |\n",
       "| NA | NA | NA | NA | NA | NA | NA |\n",
       "| NA | NA | NA | NA | NA | NA | NA |\n",
       "\n"
      ],
      "text/plain": [
       "  b1 b2 b3 b4 b5 b6 b7\n",
       "1 NA NA NA NA NA NA NA\n",
       "2 NA NA NA NA NA NA NA\n",
       "3 NA NA NA NA NA NA NA\n",
       "4 NA NA NA NA NA NA NA\n",
       "5 NA NA NA NA NA NA NA\n",
       "6 NA NA NA NA NA NA NA"
      ]
     },
     "metadata": {},
     "output_type": "display_data"
    }
   ],
   "source": [
    "img2 <- stack(img)\n",
    "imgdf <- as.data.frame(img2)\n",
    "head(imgdf)"
   ]
  },
  {
   "cell_type": "code",
   "execution_count": 17,
   "metadata": {},
   "outputs": [
    {
     "data": {
      "text/html": [
       "<table>\n",
       "<thead><tr><th></th><th scope=col>b1</th><th scope=col>b2</th><th scope=col>b3</th><th scope=col>b4</th><th scope=col>b5</th><th scope=col>b6</th><th scope=col>b7</th></tr></thead>\n",
       "<tbody>\n",
       "\t<tr><th scope=row>1884</th><td>254 </td><td>292 </td><td>451 </td><td>400 </td><td>787 </td><td>1697</td><td>2036</td></tr>\n",
       "\t<tr><th scope=row>1885</th><td>254 </td><td>282 </td><td>483 </td><td>400 </td><td>787 </td><td>1697</td><td>2036</td></tr>\n",
       "\t<tr><th scope=row>1886</th><td>254 </td><td>275 </td><td>436 </td><td>347 </td><td>893 </td><td>1848</td><td>2163</td></tr>\n",
       "\t<tr><th scope=row>5453</th><td>257 </td><td>292 </td><td>426 </td><td>355 </td><td>709 </td><td>1597</td><td>1884</td></tr>\n",
       "\t<tr><th scope=row>5454</th><td>254 </td><td>295 </td><td>502 </td><td>392 </td><td>787 </td><td>1697</td><td>2036</td></tr>\n",
       "\t<tr><th scope=row>5455</th><td>254 </td><td>292 </td><td>480 </td><td>349 </td><td>787 </td><td>1697</td><td>2036</td></tr>\n",
       "</tbody>\n",
       "</table>\n"
      ],
      "text/latex": [
       "\\begin{tabular}{r|lllllll}\n",
       "  & b1 & b2 & b3 & b4 & b5 & b6 & b7\\\\\n",
       "\\hline\n",
       "\t1884 & 254  & 292  & 451  & 400  & 787  & 1697 & 2036\\\\\n",
       "\t1885 & 254  & 282  & 483  & 400  & 787  & 1697 & 2036\\\\\n",
       "\t1886 & 254  & 275  & 436  & 347  & 893  & 1848 & 2163\\\\\n",
       "\t5453 & 257  & 292  & 426  & 355  & 709  & 1597 & 1884\\\\\n",
       "\t5454 & 254  & 295  & 502  & 392  & 787  & 1697 & 2036\\\\\n",
       "\t5455 & 254  & 292  & 480  & 349  & 787  & 1697 & 2036\\\\\n",
       "\\end{tabular}\n"
      ],
      "text/markdown": [
       "\n",
       "| <!--/--> | b1 | b2 | b3 | b4 | b5 | b6 | b7 |\n",
       "|---|---|---|---|---|---|---|---|\n",
       "| 1884 | 254  | 292  | 451  | 400  | 787  | 1697 | 2036 |\n",
       "| 1885 | 254  | 282  | 483  | 400  | 787  | 1697 | 2036 |\n",
       "| 1886 | 254  | 275  | 436  | 347  | 893  | 1848 | 2163 |\n",
       "| 5453 | 257  | 292  | 426  | 355  | 709  | 1597 | 1884 |\n",
       "| 5454 | 254  | 295  | 502  | 392  | 787  | 1697 | 2036 |\n",
       "| 5455 | 254  | 292  | 480  | 349  | 787  | 1697 | 2036 |\n",
       "\n"
      ],
      "text/plain": [
       "     b1  b2  b3  b4  b5  b6   b7  \n",
       "1884 254 292 451 400 787 1697 2036\n",
       "1885 254 282 483 400 787 1697 2036\n",
       "1886 254 275 436 347 893 1848 2163\n",
       "5453 257 292 426 355 709 1597 1884\n",
       "5454 254 295 502 392 787 1697 2036\n",
       "5455 254 292 480 349 787 1697 2036"
      ]
     },
     "metadata": {},
     "output_type": "display_data"
    },
    {
     "data": {
      "text/html": [
       "<ol class=list-inline>\n",
       "\t<li>9359554</li>\n",
       "\t<li>7</li>\n",
       "</ol>\n"
      ],
      "text/latex": [
       "\\begin{enumerate*}\n",
       "\\item 9359554\n",
       "\\item 7\n",
       "\\end{enumerate*}\n"
      ],
      "text/markdown": [
       "1. 9359554\n",
       "2. 7\n",
       "\n",
       "\n"
      ],
      "text/plain": [
       "[1] 9359554       7"
      ]
     },
     "metadata": {},
     "output_type": "display_data"
    }
   ],
   "source": [
    "imgdf <- na.omit(imgdf)\n",
    "head(imgdf)\n",
    "dim(imgdf)"
   ]
  },
  {
   "cell_type": "code",
   "execution_count": 18,
   "metadata": {},
   "outputs": [
    {
     "name": "stderr",
     "output_type": "stream",
     "text": [
      "Warning message in `==.default`(smp$cl, pred):\n",
      "\"longer object length is not a multiple of shorter object length\"Warning message in is.na(e1) | is.na(e2):\n",
      "\"longer object length is not a multiple of shorter object length\""
     ]
    },
    {
     "name": "stdout",
     "output_type": "stream",
     "text": [
      "1  "
     ]
    },
    {
     "name": "stderr",
     "output_type": "stream",
     "text": [
      "Warning message in `==.default`(smp$cl, pred):\n",
      "\"longer object length is not a multiple of shorter object length\"Warning message in is.na(e1) | is.na(e2):\n",
      "\"longer object length is not a multiple of shorter object length\""
     ]
    },
    {
     "name": "stdout",
     "output_type": "stream",
     "text": [
      "2  "
     ]
    },
    {
     "name": "stderr",
     "output_type": "stream",
     "text": [
      "Warning message in `==.default`(smp$cl, pred):\n",
      "\"longer object length is not a multiple of shorter object length\"Warning message in is.na(e1) | is.na(e2):\n",
      "\"longer object length is not a multiple of shorter object length\""
     ]
    },
    {
     "name": "stdout",
     "output_type": "stream",
     "text": [
      "3  "
     ]
    },
    {
     "name": "stderr",
     "output_type": "stream",
     "text": [
      "Warning message in `==.default`(smp$cl, pred):\n",
      "\"longer object length is not a multiple of shorter object length\"Warning message in is.na(e1) | is.na(e2):\n",
      "\"longer object length is not a multiple of shorter object length\""
     ]
    },
    {
     "name": "stdout",
     "output_type": "stream",
     "text": [
      "4  "
     ]
    },
    {
     "name": "stderr",
     "output_type": "stream",
     "text": [
      "Warning message in `==.default`(smp$cl, pred):\n",
      "\"longer object length is not a multiple of shorter object length\"Warning message in is.na(e1) | is.na(e2):\n",
      "\"longer object length is not a multiple of shorter object length\""
     ]
    },
    {
     "name": "stdout",
     "output_type": "stream",
     "text": [
      "5  "
     ]
    },
    {
     "name": "stderr",
     "output_type": "stream",
     "text": [
      "Warning message in `==.default`(smp$cl, pred):\n",
      "\"longer object length is not a multiple of shorter object length\"Warning message in is.na(e1) | is.na(e2):\n",
      "\"longer object length is not a multiple of shorter object length\""
     ]
    },
    {
     "name": "stdout",
     "output_type": "stream",
     "text": [
      "6  "
     ]
    },
    {
     "name": "stderr",
     "output_type": "stream",
     "text": [
      "Warning message in `==.default`(smp$cl, pred):\n",
      "\"longer object length is not a multiple of shorter object length\"Warning message in is.na(e1) | is.na(e2):\n",
      "\"longer object length is not a multiple of shorter object length\""
     ]
    },
    {
     "name": "stdout",
     "output_type": "stream",
     "text": [
      "7  "
     ]
    }
   ],
   "source": [
    "for (mtry in 1:7){\n",
    "  fit_RF <- randomForest(smp$cl ~., smp[-ncol(smp)], ntree=300, mtry=mtry)\n",
    "  oob_error[mtry] <- fit_RF$err.rate[300] # error of all trees fitted\n",
    "  pred <- predict(fit_RF, imgdf)\n",
    "  test_error[mtry] <- with(imgdf, mean(smp$cl == pred))\n",
    "  cat(mtry, \" \") # printing the output to the console\n",
    "}"
   ]
  },
  {
   "cell_type": "code",
   "execution_count": 19,
   "metadata": {},
   "outputs": [
    {
     "data": {
      "text/html": [
       "0.0342365946463599"
      ],
      "text/latex": [
       "0.0342365946463599"
      ],
      "text/markdown": [
       "0.0342365946463599"
      ],
      "text/plain": [
       "[1] 0.03423659"
      ]
     },
     "metadata": {},
     "output_type": "display_data"
    }
   ],
   "source": [
    "mean(fit_RF$err.rate)"
   ]
  },
  {
   "cell_type": "code",
   "execution_count": 20,
   "metadata": {},
   "outputs": [
    {
     "data": {
      "text/html": [
       "<ol class=list-inline>\n",
       "\t<li>0.115446633461381</li>\n",
       "\t<li>0.115962683691979</li>\n",
       "\t<li>0.116113011367849</li>\n",
       "\t<li>0.116571580227007</li>\n",
       "\t<li>0.117411684360174</li>\n",
       "\t<li>0.117998891827538</li>\n",
       "\t<li>0.119228651279751</li>\n",
       "</ol>\n"
      ],
      "text/latex": [
       "\\begin{enumerate*}\n",
       "\\item 0.115446633461381\n",
       "\\item 0.115962683691979\n",
       "\\item 0.116113011367849\n",
       "\\item 0.116571580227007\n",
       "\\item 0.117411684360174\n",
       "\\item 0.117998891827538\n",
       "\\item 0.119228651279751\n",
       "\\end{enumerate*}\n"
      ],
      "text/markdown": [
       "1. 0.115446633461381\n",
       "2. 0.115962683691979\n",
       "3. 0.116113011367849\n",
       "4. 0.116571580227007\n",
       "5. 0.117411684360174\n",
       "6. 0.117998891827538\n",
       "7. 0.119228651279751\n",
       "\n",
       "\n"
      ],
      "text/plain": [
       "[1] 0.1154466 0.1159627 0.1161130 0.1165716 0.1174117 0.1179989 0.1192287"
      ]
     },
     "metadata": {},
     "output_type": "display_data"
    }
   ],
   "source": [
    "test_error"
   ]
  },
  {
   "cell_type": "code",
   "execution_count": 21,
   "metadata": {},
   "outputs": [
    {
     "data": {
      "text/html": [
       "<ol class=list-inline>\n",
       "\t<li>0.0317851959361393</li>\n",
       "\t<li>0.0281567489114659</li>\n",
       "\t<li>0.0248185776487663</li>\n",
       "\t<li>0.023367198838897</li>\n",
       "\t<li>0.0239477503628447</li>\n",
       "\t<li>0.0243831640058055</li>\n",
       "\t<li>0.0261248185776488</li>\n",
       "</ol>\n"
      ],
      "text/latex": [
       "\\begin{enumerate*}\n",
       "\\item 0.0317851959361393\n",
       "\\item 0.0281567489114659\n",
       "\\item 0.0248185776487663\n",
       "\\item 0.023367198838897\n",
       "\\item 0.0239477503628447\n",
       "\\item 0.0243831640058055\n",
       "\\item 0.0261248185776488\n",
       "\\end{enumerate*}\n"
      ],
      "text/markdown": [
       "1. 0.0317851959361393\n",
       "2. 0.0281567489114659\n",
       "3. 0.0248185776487663\n",
       "4. 0.023367198838897\n",
       "5. 0.0239477503628447\n",
       "6. 0.0243831640058055\n",
       "7. 0.0261248185776488\n",
       "\n",
       "\n"
      ],
      "text/plain": [
       "[1] 0.03178520 0.02815675 0.02481858 0.02336720 0.02394775 0.02438316 0.02612482"
      ]
     },
     "metadata": {},
     "output_type": "display_data"
    }
   ],
   "source": [
    "oob_error"
   ]
  },
  {
   "cell_type": "code",
   "execution_count": 23,
   "metadata": {},
   "outputs": [
    {
     "data": {
      "image/png": "[encoded data removed]",
      "text/plain": [
       "plot without title"
      ]
     },
     "metadata": {},
     "output_type": "display_data"
    }
   ],
   "source": [
    "library(plotly); library(ggplot2)\n",
    "options(repr.plot.width=6, repr.plot.height=5)\n",
    "matplot(1:mtry, cbind(oob_error, test_error), pch=19, col=c(\"red\",\"blue\"), type=\"b\",\n",
    "        ylab=\"Error\", xlab=\"Number of Predictors Considered at each Split\")\n",
    "legend(\"center\", legend = c(\"Out of Bag Error\", \"Test Error\"), pch=19, col=c(\"red\",\"blue\"))"
   ]
  },
  {
   "cell_type": "code",
   "execution_count": 24,
   "metadata": {},
   "outputs": [
    {
     "data": {
      "text/plain": [
       "\n",
       "Call:\n",
       " randomForest(formula = smp$cl ~ ., data = smp[-ncol(smp)], ntree = 300,      mtry = mtry) \n",
       "               Type of random forest: classification\n",
       "                     Number of trees: 300\n",
       "No. of variables tried at each split: 7\n",
       "\n",
       "        OOB estimate of  error rate: 2.61%\n",
       "Confusion matrix:\n",
       "       b    c   f   g ind  rh  rl   w class.error\n",
       "b   1171    0   1   0  19   6   3   0 0.024166667\n",
       "c      0 2669   0   0   2   0   2   0 0.001496446\n",
       "f      0    0 350   0   0   0   2   0 0.005681818\n",
       "g      0    0   3 429   0   0   3   0 0.013793103\n",
       "ind   23    6   1   0 889  21   8   0 0.062236287\n",
       "rh     9    3   1   0  26 462  12   0 0.099415205\n",
       "rl     6    4   2   2   9   5 432   0 0.060869565\n",
       "w      0    0   1   0   0   0   0 308 0.003236246"
      ]
     },
     "metadata": {},
     "output_type": "display_data"
    }
   ],
   "source": [
    "fit_RF"
   ]
  },
  {
   "cell_type": "code",
   "execution_count": 25,
   "metadata": {},
   "outputs": [
    {
     "data": {
      "text/plain": [
       "\n",
       "Call:\n",
       " randomForest(formula = smp$cl ~ ., data = smp[-ncol(smp)], ntree = 200,      mtry = 4) \n",
       "               Type of random forest: classification\n",
       "                     Number of trees: 200\n",
       "No. of variables tried at each split: 4\n",
       "\n",
       "        OOB estimate of  error rate: 2.45%\n",
       "Confusion matrix:\n",
       "       b    c   f   g ind  rh  rl   w class.error\n",
       "b   1177    0   1   0  13   8   1   0 0.019166667\n",
       "c      0 2669   0   0   1   0   3   0 0.001496446\n",
       "f      0    0 350   0   0   0   2   0 0.005681818\n",
       "g      0    0   2 430   0   0   3   0 0.011494253\n",
       "ind   32    5   1   0 885  17   8   0 0.066455696\n",
       "rh    13    1   0   0  21 466  11   1 0.091617934\n",
       "rl     4    4   1   2   8   5 436   0 0.052173913\n",
       "w      0    0   1   0   0   0   0 308 0.003236246"
      ]
     },
     "metadata": {},
     "output_type": "display_data"
    }
   ],
   "source": [
    "fit_RF <- randomForest(smp$cl ~., smp[-ncol(smp)], ntree=200, mtry=4)\n",
    "fit_RF"
   ]
  },
  {
   "cell_type": "code",
   "execution_count": 26,
   "metadata": {},
   "outputs": [],
   "source": [
    "save(fit_RF, file = \"RF_model.RData\")\n",
    "# load(\"RF_model.RData\")"
   ]
  },
  {
   "cell_type": "markdown",
   "metadata": {},
   "source": [
    "Predict image data with our so far best performing Random Forest model:"
   ]
  },
  {
   "cell_type": "code",
   "execution_count": 27,
   "metadata": {},
   "outputs": [],
   "source": [
    "# result <- predict(img,  fit_RF, filename = \"RF_classification2.tif\", overwrite = TRUE)"
   ]
  },
  {
   "cell_type": "markdown",
   "metadata": {},
   "source": [
    "Plot the resulted classification map"
   ]
  },
  {
   "cell_type": "code",
   "execution_count": 31,
   "metadata": {},
   "outputs": [
    {
     "data": {
      "image/png": "[encoded data removed]",
      "text/plain": [
       "Plot with title \"RF Classification Map\""
      ]
     },
     "metadata": {},
     "output_type": "display_data"
    }
   ],
   "source": [
    "plot(result, \n",
    "     main = \"RF Classification Map\",\n",
    "     axes = FALSE, \n",
    "     box = FALSE,\n",
    "     col = c(\"#e9eba4\", # bareland\n",
    "             \"#D95F02\", # cropland\n",
    "             \"#14614a\", # forest\n",
    "             \"#78c91c\", # green_area\n",
    "             \"#e0d7d1\", # industrial\n",
    "             \"#801630\", # residential_high\n",
    "             \"#de4e71\", # residential_low\n",
    "             \"#2eabf0\"  # water\n",
    "     )\n",
    ")"
   ]
  }
 ],
 "metadata": {
  "kernelspec": {
   "display_name": "R",
   "language": "R",
   "name": "ir"
  },
  "language_info": {
   "codemirror_mode": "r",
   "file_extension": ".r",
   "mimetype": "text/x-r-source",
   "name": "R",
   "pygments_lexer": "r",
   "version": "3.6.1"
  }
 },
 "nbformat": 4,
 "nbformat_minor": 4
}
